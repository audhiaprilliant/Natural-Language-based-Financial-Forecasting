{
 "cells": [
  {
   "cell_type": "markdown",
   "metadata": {},
   "source": [
    "# Aggregating Financial News Data"
   ]
  },
  {
   "cell_type": "markdown",
   "metadata": {},
   "source": [
    "### Audhi Aprilliant"
   ]
  },
  {
   "cell_type": "markdown",
   "metadata": {},
   "source": [
    "## 1 Import Libraries "
   ]
  },
  {
   "cell_type": "code",
   "execution_count": 18,
   "metadata": {
    "ExecuteTime": {
     "end_time": "2020-03-24T08:03:03.916236Z",
     "start_time": "2020-03-24T08:03:03.910482Z"
    }
   },
   "outputs": [],
   "source": [
    "import pandas as pd             # Dataframe manipulation\n",
    "import numpy as np              # Mathematics operation\n",
    "import re                       # Regular expression\n",
    "from datetime import datetime   # Date time manipulation"
   ]
  },
  {
   "cell_type": "markdown",
   "metadata": {},
   "source": [
    "## 2 Import Data"
   ]
  },
  {
   "cell_type": "code",
   "execution_count": 19,
   "metadata": {
    "ExecuteTime": {
     "end_time": "2020-03-24T08:03:05.130930Z",
     "start_time": "2020-03-24T08:03:05.037781Z"
    }
   },
   "outputs": [],
   "source": [
    "data_okezone = pd.read_csv('Datasets/1 Okezone 2019.csv')  # Okezone\n",
    "data_kompas = pd.read_csv('Datasets/2 Kompas 2019.csv')    # Kompas\n",
    "data_detik = pd.read_csv('Datasets/3 Detik 2019.csv')      # Detik"
   ]
  },
  {
   "cell_type": "code",
   "execution_count": 20,
   "metadata": {
    "ExecuteTime": {
     "end_time": "2020-03-24T08:03:06.654511Z",
     "start_time": "2020-03-24T08:03:06.632692Z"
    }
   },
   "outputs": [
    {
     "data": {
      "text/html": [
       "<div>\n",
       "<style scoped>\n",
       "    .dataframe tbody tr th:only-of-type {\n",
       "        vertical-align: middle;\n",
       "    }\n",
       "\n",
       "    .dataframe tbody tr th {\n",
       "        vertical-align: top;\n",
       "    }\n",
       "\n",
       "    .dataframe thead th {\n",
       "        text-align: right;\n",
       "    }\n",
       "</style>\n",
       "<table border=\"1\" class=\"dataframe\">\n",
       "  <thead>\n",
       "    <tr style=\"text-align: right;\">\n",
       "      <th></th>\n",
       "      <th>date</th>\n",
       "      <th>title</th>\n",
       "      <th>time</th>\n",
       "      <th>class</th>\n",
       "    </tr>\n",
       "  </thead>\n",
       "  <tbody>\n",
       "    <tr>\n",
       "      <th>0</th>\n",
       "      <td>01 Januari 2019</td>\n",
       "      <td>5 Alasan Pilih Kos-kosan Sebagai Resolusi Bisn...</td>\n",
       "      <td>20:37 WIB</td>\n",
       "      <td>Neutral</td>\n",
       "    </tr>\n",
       "    <tr>\n",
       "      <th>1</th>\n",
       "      <td>01 Januari 2019</td>\n",
       "      <td>Dulu Rp100.000/Liter, Kini 131 Wilayah Nikmati...</td>\n",
       "      <td>18:18 WIB</td>\n",
       "      <td>Positive</td>\n",
       "    </tr>\n",
       "    <tr>\n",
       "      <th>2</th>\n",
       "      <td>01 Januari 2019</td>\n",
       "      <td>Realisasi Anggaran KESDM di Atas 87%, Terbesar...</td>\n",
       "      <td>18:18 WIB</td>\n",
       "      <td>Positive</td>\n",
       "    </tr>\n",
       "    <tr>\n",
       "      <th>3</th>\n",
       "      <td>01 Januari 2019</td>\n",
       "      <td>Making Indonesia 4.0 Wujudkan Perekonomian Ter...</td>\n",
       "      <td>16:23 WIB</td>\n",
       "      <td>Positive</td>\n",
       "    </tr>\n",
       "    <tr>\n",
       "      <th>4</th>\n",
       "      <td>01 Januari 2019</td>\n",
       "      <td>Ekspor PT Timah Tembus 33.250 M/T pada 2018</td>\n",
       "      <td>16:17 WIB</td>\n",
       "      <td>Positive</td>\n",
       "    </tr>\n",
       "  </tbody>\n",
       "</table>\n",
       "</div>"
      ],
      "text/plain": [
       "              date                                              title  \\\n",
       "0  01 Januari 2019  5 Alasan Pilih Kos-kosan Sebagai Resolusi Bisn...   \n",
       "1  01 Januari 2019  Dulu Rp100.000/Liter, Kini 131 Wilayah Nikmati...   \n",
       "2  01 Januari 2019  Realisasi Anggaran KESDM di Atas 87%, Terbesar...   \n",
       "3  01 Januari 2019  Making Indonesia 4.0 Wujudkan Perekonomian Ter...   \n",
       "4  01 Januari 2019        Ekspor PT Timah Tembus 33.250 M/T pada 2018   \n",
       "\n",
       "        time     class  \n",
       "0  20:37 WIB   Neutral  \n",
       "1  18:18 WIB  Positive  \n",
       "2  18:18 WIB  Positive  \n",
       "3  16:23 WIB  Positive  \n",
       "4  16:17 WIB  Positive  "
      ]
     },
     "execution_count": 20,
     "metadata": {},
     "output_type": "execute_result"
    }
   ],
   "source": [
    "data_okezone.head()"
   ]
  },
  {
   "cell_type": "code",
   "execution_count": 21,
   "metadata": {
    "ExecuteTime": {
     "end_time": "2020-03-24T08:03:07.795037Z",
     "start_time": "2020-03-24T08:03:07.777925Z"
    },
    "scrolled": true
   },
   "outputs": [
    {
     "name": "stdout",
     "output_type": "stream",
     "text": [
      "Dimension of Okezone data: 7753\n",
      "Dimension of Kompas data:  3936\n",
      "Dimension of Detik data:   3936\n"
     ]
    }
   ],
   "source": [
    "print('Dimension of Okezone data: {}'.format(data_okezone.shape[0]))\n",
    "print('Dimension of Kompas data:  {}'.format(data_kompas.shape[0]))\n",
    "print('Dimension of Detik data:   {}'.format(data_kompas.shape[0]))"
   ]
  },
  {
   "cell_type": "code",
   "execution_count": 22,
   "metadata": {
    "ExecuteTime": {
     "end_time": "2020-03-24T08:03:08.831312Z",
     "start_time": "2020-03-24T08:03:08.792897Z"
    },
    "scrolled": false
   },
   "outputs": [
    {
     "name": "stdout",
     "output_type": "stream",
     "text": [
      "Number of class in Okezone data:\n",
      "Positive    4532\n",
      "Negative    2527\n",
      "Neutral      694\n",
      "Name: class, dtype: int64\n",
      "\n",
      "Number of class in Kompas data:\n",
      "Positive    2140\n",
      "Negative     991\n",
      "Neutral      805\n",
      "Name: class, dtype: int64\n",
      "\n",
      "Number of class in Detik data:\n",
      "Positive    3841\n",
      "Negative    2605\n",
      "Neutral     1672\n",
      "Name: class, dtype: int64\n"
     ]
    }
   ],
   "source": [
    "print('Number of class in Okezone data:\\n{}'.format(data_okezone['class'].value_counts()))\n",
    "print('\\nNumber of class in Kompas data:\\n{}'.format(data_kompas['class'].value_counts()))\n",
    "print('\\nNumber of class in Detik data:\\n{}'.format(data_detik['class'].value_counts()))"
   ]
  },
  {
   "cell_type": "markdown",
   "metadata": {},
   "source": [
    "## 3 Create Number of Daily Sentiment"
   ]
  },
  {
   "cell_type": "markdown",
   "metadata": {},
   "source": [
    "### General News - Okezone"
   ]
  },
  {
   "cell_type": "code",
   "execution_count": 27,
   "metadata": {
    "ExecuteTime": {
     "end_time": "2020-03-24T08:10:16.887891Z",
     "start_time": "2020-03-24T08:07:57.411096Z"
    }
   },
   "outputs": [],
   "source": [
    "# Okezone Data\n",
    "unique_date_okezone = data_okezone['date'].unique() # Vector of unique date\n",
    "num_pos_okezone = np.repeat(0,len(unique_date_okezone))\n",
    "num_neg_okezone = np.repeat(0,len(unique_date_okezone))\n",
    "num_net_okezone = np.repeat(0,len(unique_date_okezone))\n",
    "for i in range(len(unique_date_okezone)):\n",
    "    for j in range(data_okezone.shape[0]):\n",
    "        if data_okezone['date'][j] == unique_date_okezone[i]:\n",
    "            if data_okezone['class'][j] == 'Positive':\n",
    "                num_pos_okezone[i] += 1\n",
    "            if data_okezone['class'][j] == 'Negative':\n",
    "                num_neg_okezone[i] += 1\n",
    "            if data_okezone['class'][j] == 'Neutral':\n",
    "                num_net_okezone[i] += 1"
   ]
  },
  {
   "cell_type": "code",
   "execution_count": 28,
   "metadata": {
    "ExecuteTime": {
     "end_time": "2020-03-24T08:10:24.982847Z",
     "start_time": "2020-03-24T08:10:24.957812Z"
    }
   },
   "outputs": [],
   "source": [
    "# Note: axis = 1 means it will be merged in column\n",
    "total = data_okezone['date'].value_counts()\n",
    "df_number_senti_okezone = pd.concat([pd.DataFrame(unique_date_okezone),pd.DataFrame(num_pos_okezone),\n",
    "                                     pd.DataFrame(num_neg_okezone),pd.DataFrame(num_net_okezone)],axis=1)\n",
    "df_number_senti_okezone.columns = ['date','num_pos_okezone','num_neg_okezone','num_net_okezone']"
   ]
  },
  {
   "cell_type": "code",
   "execution_count": 29,
   "metadata": {
    "ExecuteTime": {
     "end_time": "2020-03-24T08:10:25.761021Z",
     "start_time": "2020-03-24T08:10:25.745349Z"
    }
   },
   "outputs": [],
   "source": [
    "# Daily volume news of Okezone\n",
    "vol_okezone = pd.DataFrame(data_okezone['date'].value_counts()).reset_index()\n",
    "vol_okezone.columns = ['date','total_okezone']"
   ]
  },
  {
   "cell_type": "code",
   "execution_count": 30,
   "metadata": {
    "ExecuteTime": {
     "end_time": "2020-03-24T08:10:26.789610Z",
     "start_time": "2020-03-24T08:10:26.753566Z"
    },
    "scrolled": true
   },
   "outputs": [
    {
     "name": "stdout",
     "output_type": "stream",
     "text": [
      "Dimension of Okezone data:(363, 5)\n"
     ]
    },
    {
     "data": {
      "text/html": [
       "<div>\n",
       "<style scoped>\n",
       "    .dataframe tbody tr th:only-of-type {\n",
       "        vertical-align: middle;\n",
       "    }\n",
       "\n",
       "    .dataframe tbody tr th {\n",
       "        vertical-align: top;\n",
       "    }\n",
       "\n",
       "    .dataframe thead th {\n",
       "        text-align: right;\n",
       "    }\n",
       "</style>\n",
       "<table border=\"1\" class=\"dataframe\">\n",
       "  <thead>\n",
       "    <tr style=\"text-align: right;\">\n",
       "      <th></th>\n",
       "      <th>date</th>\n",
       "      <th>num_pos_okezone</th>\n",
       "      <th>num_neg_okezone</th>\n",
       "      <th>num_net_okezone</th>\n",
       "      <th>total_okezone</th>\n",
       "    </tr>\n",
       "  </thead>\n",
       "  <tbody>\n",
       "    <tr>\n",
       "      <th>0</th>\n",
       "      <td>01 Januari 2019</td>\n",
       "      <td>9</td>\n",
       "      <td>1</td>\n",
       "      <td>2</td>\n",
       "      <td>12</td>\n",
       "    </tr>\n",
       "    <tr>\n",
       "      <th>1</th>\n",
       "      <td>02 Januari 2019</td>\n",
       "      <td>20</td>\n",
       "      <td>12</td>\n",
       "      <td>1</td>\n",
       "      <td>33</td>\n",
       "    </tr>\n",
       "    <tr>\n",
       "      <th>2</th>\n",
       "      <td>03 Januari 2019</td>\n",
       "      <td>23</td>\n",
       "      <td>7</td>\n",
       "      <td>3</td>\n",
       "      <td>33</td>\n",
       "    </tr>\n",
       "    <tr>\n",
       "      <th>3</th>\n",
       "      <td>04 Januari 2019</td>\n",
       "      <td>26</td>\n",
       "      <td>8</td>\n",
       "      <td>3</td>\n",
       "      <td>37</td>\n",
       "    </tr>\n",
       "    <tr>\n",
       "      <th>4</th>\n",
       "      <td>05 Januari 2019</td>\n",
       "      <td>10</td>\n",
       "      <td>3</td>\n",
       "      <td>1</td>\n",
       "      <td>14</td>\n",
       "    </tr>\n",
       "  </tbody>\n",
       "</table>\n",
       "</div>"
      ],
      "text/plain": [
       "              date  num_pos_okezone  num_neg_okezone  num_net_okezone  \\\n",
       "0  01 Januari 2019                9                1                2   \n",
       "1  02 Januari 2019               20               12                1   \n",
       "2  03 Januari 2019               23                7                3   \n",
       "3  04 Januari 2019               26                8                3   \n",
       "4  05 Januari 2019               10                3                1   \n",
       "\n",
       "   total_okezone  \n",
       "0             12  \n",
       "1             33  \n",
       "2             33  \n",
       "3             37  \n",
       "4             14  "
      ]
     },
     "execution_count": 30,
     "metadata": {},
     "output_type": "execute_result"
    }
   ],
   "source": [
    "# Merge number of sentiment and total news\n",
    "df_number_senti_okezone = pd.merge(df_number_senti_okezone,vol_okezone,on='date',how='left')\n",
    "print('Dimension of Okezone data:{}'.format(df_number_senti_okezone.shape))\n",
    "df_number_senti_okezone.head()"
   ]
  },
  {
   "cell_type": "markdown",
   "metadata": {},
   "source": [
    "### JCI News - Okezone"
   ]
  },
  {
   "cell_type": "code",
   "execution_count": 32,
   "metadata": {
    "ExecuteTime": {
     "end_time": "2020-03-24T08:58:35.859917Z",
     "start_time": "2020-03-24T08:33:57.773057Z"
    }
   },
   "outputs": [],
   "source": [
    "# Okezone Data\n",
    "ihsg_re = re.compile(r'IHSG')\n",
    "unique_date_okezone = data_okezone['date'].unique() # Vector of unique date\n",
    "num_pos_okezone_jci = np.repeat(0,len(unique_date_okezone))\n",
    "num_neg_okezone_jci = np.repeat(0,len(unique_date_okezone))\n",
    "num_net_okezone_jci = np.repeat(0,len(unique_date_okezone))\n",
    "for i in range(len(unique_date_okezone)):\n",
    "    for j in range(data_okezone.shape[0]):\n",
    "        con = len(ihsg_re.findall(data_okezone.iloc[j]['title']))\n",
    "        if data_okezone['date'][j] == unique_date_okezone[i] and con:\n",
    "            if data_okezone['class'][j] == 'Positive':\n",
    "                num_pos_okezone_jci[i] += 1\n",
    "            if data_okezone['class'][j] == 'Negative':\n",
    "                num_neg_okezone_jci[i] += 1\n",
    "            if data_okezone['class'][j] == 'Neutral':\n",
    "                num_net_okezone_jci[i] += 1"
   ]
  },
  {
   "cell_type": "code",
   "execution_count": 33,
   "metadata": {
    "ExecuteTime": {
     "end_time": "2020-03-24T08:58:36.799383Z",
     "start_time": "2020-03-24T08:58:36.034413Z"
    }
   },
   "outputs": [],
   "source": [
    "# Note: axis = 1 means it will be merged in column\n",
    "total = data_okezone['date'].value_counts()\n",
    "df_number_senti_okezone_jci = pd.concat([pd.DataFrame(unique_date_okezone),pd.DataFrame(num_pos_okezone_jci),\n",
    "                                         pd.DataFrame(num_neg_okezone_jci),pd.DataFrame(num_net_okezone_jci)],\n",
    "                                         axis=1)\n",
    "df_number_senti_okezone_jci.columns = ['date','num_pos_okezone_jci','num_neg_okezone_jci','num_net_okezone_jci']"
   ]
  },
  {
   "cell_type": "code",
   "execution_count": 34,
   "metadata": {
    "ExecuteTime": {
     "end_time": "2020-03-24T08:58:37.266971Z",
     "start_time": "2020-03-24T08:58:36.803902Z"
    },
    "scrolled": false
   },
   "outputs": [
    {
     "name": "stdout",
     "output_type": "stream",
     "text": [
      "Dimension of JCI Okezone data:(363, 5)\n"
     ]
    },
    {
     "data": {
      "text/html": [
       "<div>\n",
       "<style scoped>\n",
       "    .dataframe tbody tr th:only-of-type {\n",
       "        vertical-align: middle;\n",
       "    }\n",
       "\n",
       "    .dataframe tbody tr th {\n",
       "        vertical-align: top;\n",
       "    }\n",
       "\n",
       "    .dataframe thead th {\n",
       "        text-align: right;\n",
       "    }\n",
       "</style>\n",
       "<table border=\"1\" class=\"dataframe\">\n",
       "  <thead>\n",
       "    <tr style=\"text-align: right;\">\n",
       "      <th></th>\n",
       "      <th>date</th>\n",
       "      <th>num_pos_okezone_jci</th>\n",
       "      <th>num_neg_okezone_jci</th>\n",
       "      <th>num_net_okezone_jci</th>\n",
       "      <th>total_okezone_jci</th>\n",
       "    </tr>\n",
       "  </thead>\n",
       "  <tbody>\n",
       "    <tr>\n",
       "      <th>0</th>\n",
       "      <td>01 Januari 2019</td>\n",
       "      <td>1</td>\n",
       "      <td>0</td>\n",
       "      <td>0</td>\n",
       "      <td>1</td>\n",
       "    </tr>\n",
       "    <tr>\n",
       "      <th>1</th>\n",
       "      <td>02 Januari 2019</td>\n",
       "      <td>3</td>\n",
       "      <td>2</td>\n",
       "      <td>0</td>\n",
       "      <td>5</td>\n",
       "    </tr>\n",
       "    <tr>\n",
       "      <th>2</th>\n",
       "      <td>03 Januari 2019</td>\n",
       "      <td>3</td>\n",
       "      <td>1</td>\n",
       "      <td>0</td>\n",
       "      <td>4</td>\n",
       "    </tr>\n",
       "    <tr>\n",
       "      <th>3</th>\n",
       "      <td>04 Januari 2019</td>\n",
       "      <td>2</td>\n",
       "      <td>1</td>\n",
       "      <td>1</td>\n",
       "      <td>4</td>\n",
       "    </tr>\n",
       "    <tr>\n",
       "      <th>4</th>\n",
       "      <td>05 Januari 2019</td>\n",
       "      <td>0</td>\n",
       "      <td>0</td>\n",
       "      <td>0</td>\n",
       "      <td>0</td>\n",
       "    </tr>\n",
       "  </tbody>\n",
       "</table>\n",
       "</div>"
      ],
      "text/plain": [
       "              date  num_pos_okezone_jci  num_neg_okezone_jci  \\\n",
       "0  01 Januari 2019                    1                    0   \n",
       "1  02 Januari 2019                    3                    2   \n",
       "2  03 Januari 2019                    3                    1   \n",
       "3  04 Januari 2019                    2                    1   \n",
       "4  05 Januari 2019                    0                    0   \n",
       "\n",
       "   num_net_okezone_jci  total_okezone_jci  \n",
       "0                    0                  1  \n",
       "1                    0                  5  \n",
       "2                    0                  4  \n",
       "3                    1                  4  \n",
       "4                    0                  0  "
      ]
     },
     "execution_count": 34,
     "metadata": {},
     "output_type": "execute_result"
    }
   ],
   "source": [
    "# Merge number of sentiment and total news\n",
    "df_number_senti_okezone_jci['total_okezone_jci'] = df_number_senti_okezone_jci['num_pos_okezone_jci']+\\\n",
    "df_number_senti_okezone_jci['num_neg_okezone_jci']+df_number_senti_okezone_jci['num_net_okezone_jci']\n",
    "print('Dimension of JCI Okezone data:{}'.format(df_number_senti_okezone_jci.shape))\n",
    "df_number_senti_okezone_jci.head()"
   ]
  },
  {
   "cell_type": "code",
   "execution_count": 35,
   "metadata": {
    "ExecuteTime": {
     "end_time": "2020-03-24T08:58:37.619840Z",
     "start_time": "2020-03-24T08:58:37.272026Z"
    }
   },
   "outputs": [
    {
     "data": {
      "text/html": [
       "<div>\n",
       "<style scoped>\n",
       "    .dataframe tbody tr th:only-of-type {\n",
       "        vertical-align: middle;\n",
       "    }\n",
       "\n",
       "    .dataframe tbody tr th {\n",
       "        vertical-align: top;\n",
       "    }\n",
       "\n",
       "    .dataframe thead th {\n",
       "        text-align: right;\n",
       "    }\n",
       "</style>\n",
       "<table border=\"1\" class=\"dataframe\">\n",
       "  <thead>\n",
       "    <tr style=\"text-align: right;\">\n",
       "      <th></th>\n",
       "      <th>date</th>\n",
       "      <th>num_pos_okezone</th>\n",
       "      <th>num_neg_okezone</th>\n",
       "      <th>num_net_okezone</th>\n",
       "      <th>total_okezone</th>\n",
       "      <th>num_pos_okezone_jci</th>\n",
       "      <th>num_neg_okezone_jci</th>\n",
       "      <th>num_net_okezone_jci</th>\n",
       "      <th>total_okezone_jci</th>\n",
       "    </tr>\n",
       "  </thead>\n",
       "  <tbody>\n",
       "    <tr>\n",
       "      <th>0</th>\n",
       "      <td>01 Januari 2019</td>\n",
       "      <td>9</td>\n",
       "      <td>1</td>\n",
       "      <td>2</td>\n",
       "      <td>12</td>\n",
       "      <td>1</td>\n",
       "      <td>0</td>\n",
       "      <td>0</td>\n",
       "      <td>1</td>\n",
       "    </tr>\n",
       "    <tr>\n",
       "      <th>1</th>\n",
       "      <td>02 Januari 2019</td>\n",
       "      <td>20</td>\n",
       "      <td>12</td>\n",
       "      <td>1</td>\n",
       "      <td>33</td>\n",
       "      <td>3</td>\n",
       "      <td>2</td>\n",
       "      <td>0</td>\n",
       "      <td>5</td>\n",
       "    </tr>\n",
       "    <tr>\n",
       "      <th>2</th>\n",
       "      <td>03 Januari 2019</td>\n",
       "      <td>23</td>\n",
       "      <td>7</td>\n",
       "      <td>3</td>\n",
       "      <td>33</td>\n",
       "      <td>3</td>\n",
       "      <td>1</td>\n",
       "      <td>0</td>\n",
       "      <td>4</td>\n",
       "    </tr>\n",
       "  </tbody>\n",
       "</table>\n",
       "</div>"
      ],
      "text/plain": [
       "              date  num_pos_okezone  num_neg_okezone  num_net_okezone  \\\n",
       "0  01 Januari 2019                9                1                2   \n",
       "1  02 Januari 2019               20               12                1   \n",
       "2  03 Januari 2019               23                7                3   \n",
       "\n",
       "   total_okezone  num_pos_okezone_jci  num_neg_okezone_jci  \\\n",
       "0             12                    1                    0   \n",
       "1             33                    3                    2   \n",
       "2             33                    3                    1   \n",
       "\n",
       "   num_net_okezone_jci  total_okezone_jci  \n",
       "0                    0                  1  \n",
       "1                    0                  5  \n",
       "2                    0                  4  "
      ]
     },
     "execution_count": 35,
     "metadata": {},
     "output_type": "execute_result"
    }
   ],
   "source": [
    "df_okezone = pd.merge(df_number_senti_okezone,df_number_senti_okezone_jci,on='date',how='left')\n",
    "df_okezone.head(3)"
   ]
  },
  {
   "cell_type": "markdown",
   "metadata": {},
   "source": [
    "### General News - Kompas"
   ]
  },
  {
   "cell_type": "code",
   "execution_count": 36,
   "metadata": {
    "ExecuteTime": {
     "end_time": "2020-03-24T08:59:54.041613Z",
     "start_time": "2020-03-24T08:58:37.624753Z"
    }
   },
   "outputs": [],
   "source": [
    "# Kompas Data\n",
    "unique_date_kompas = data_kompas['date'].unique() # Vector of unique date\n",
    "num_pos_kompas = np.repeat(0,len(unique_date_kompas))\n",
    "num_neg_kompas = np.repeat(0,len(unique_date_kompas))\n",
    "num_net_kompas = np.repeat(0,len(unique_date_kompas))\n",
    "for i in range(len(unique_date_kompas)):\n",
    "    for j in range(data_kompas.shape[0]):\n",
    "        if data_kompas['date'][j] == unique_date_kompas[i]:\n",
    "            if data_kompas['class'][j] == 'Positive':\n",
    "                num_pos_kompas[i] += 1\n",
    "            if data_kompas['class'][j] == 'Negative':\n",
    "                num_neg_kompas[i] += 1\n",
    "            if data_kompas['class'][j] == 'Neutral':\n",
    "                num_net_kompas[i] += 1"
   ]
  },
  {
   "cell_type": "code",
   "execution_count": 37,
   "metadata": {
    "ExecuteTime": {
     "end_time": "2020-03-24T08:59:54.069136Z",
     "start_time": "2020-03-24T08:59:54.047353Z"
    }
   },
   "outputs": [],
   "source": [
    "# Note: axis = 1 means it will be merged in column\n",
    "total = data_kompas['date'].value_counts()\n",
    "df_number_senti_kompas = pd.concat([pd.DataFrame(unique_date_kompas),pd.DataFrame(num_pos_kompas),\n",
    "                                    pd.DataFrame(num_neg_kompas),pd.DataFrame(num_net_kompas)],axis=1)\n",
    "# Daily of volume news\n",
    "df_number_senti_kompas.columns = ['date','num_pos_kompas','num_neg_kompas','num_net_kompas']"
   ]
  },
  {
   "cell_type": "code",
   "execution_count": 38,
   "metadata": {
    "ExecuteTime": {
     "end_time": "2020-03-24T08:59:54.157620Z",
     "start_time": "2020-03-24T08:59:54.078174Z"
    }
   },
   "outputs": [],
   "source": [
    "# Volume news of Kompas\n",
    "vol_kompas = pd.DataFrame(data_kompas['date'].value_counts()).reset_index()\n",
    "vol_kompas.columns = ['date','total_kompas']"
   ]
  },
  {
   "cell_type": "code",
   "execution_count": 39,
   "metadata": {
    "ExecuteTime": {
     "end_time": "2020-03-24T08:59:54.264226Z",
     "start_time": "2020-03-24T08:59:54.165722Z"
    },
    "scrolled": true
   },
   "outputs": [
    {
     "name": "stdout",
     "output_type": "stream",
     "text": [
      "Dimension of Kompas data:(360, 5)\n"
     ]
    },
    {
     "data": {
      "text/html": [
       "<div>\n",
       "<style scoped>\n",
       "    .dataframe tbody tr th:only-of-type {\n",
       "        vertical-align: middle;\n",
       "    }\n",
       "\n",
       "    .dataframe tbody tr th {\n",
       "        vertical-align: top;\n",
       "    }\n",
       "\n",
       "    .dataframe thead th {\n",
       "        text-align: right;\n",
       "    }\n",
       "</style>\n",
       "<table border=\"1\" class=\"dataframe\">\n",
       "  <thead>\n",
       "    <tr style=\"text-align: right;\">\n",
       "      <th></th>\n",
       "      <th>date</th>\n",
       "      <th>num_pos_kompas</th>\n",
       "      <th>num_neg_kompas</th>\n",
       "      <th>num_net_kompas</th>\n",
       "      <th>total_kompas</th>\n",
       "    </tr>\n",
       "  </thead>\n",
       "  <tbody>\n",
       "    <tr>\n",
       "      <th>0</th>\n",
       "      <td>01 Januari 2019</td>\n",
       "      <td>0</td>\n",
       "      <td>1</td>\n",
       "      <td>2</td>\n",
       "      <td>3</td>\n",
       "    </tr>\n",
       "    <tr>\n",
       "      <th>1</th>\n",
       "      <td>02 Januari 2019</td>\n",
       "      <td>7</td>\n",
       "      <td>6</td>\n",
       "      <td>1</td>\n",
       "      <td>14</td>\n",
       "    </tr>\n",
       "    <tr>\n",
       "      <th>2</th>\n",
       "      <td>03 Januari 2019</td>\n",
       "      <td>14</td>\n",
       "      <td>1</td>\n",
       "      <td>2</td>\n",
       "      <td>17</td>\n",
       "    </tr>\n",
       "    <tr>\n",
       "      <th>3</th>\n",
       "      <td>04 Januari 2019</td>\n",
       "      <td>8</td>\n",
       "      <td>2</td>\n",
       "      <td>1</td>\n",
       "      <td>11</td>\n",
       "    </tr>\n",
       "    <tr>\n",
       "      <th>4</th>\n",
       "      <td>05 Januari 2019</td>\n",
       "      <td>1</td>\n",
       "      <td>0</td>\n",
       "      <td>1</td>\n",
       "      <td>2</td>\n",
       "    </tr>\n",
       "  </tbody>\n",
       "</table>\n",
       "</div>"
      ],
      "text/plain": [
       "              date  num_pos_kompas  num_neg_kompas  num_net_kompas  \\\n",
       "0  01 Januari 2019               0               1               2   \n",
       "1  02 Januari 2019               7               6               1   \n",
       "2  03 Januari 2019              14               1               2   \n",
       "3  04 Januari 2019               8               2               1   \n",
       "4  05 Januari 2019               1               0               1   \n",
       "\n",
       "   total_kompas  \n",
       "0             3  \n",
       "1            14  \n",
       "2            17  \n",
       "3            11  \n",
       "4             2  "
      ]
     },
     "execution_count": 39,
     "metadata": {},
     "output_type": "execute_result"
    }
   ],
   "source": [
    "# Merge number of sentiment and total news\n",
    "df_number_senti_kompas = pd.merge(df_number_senti_kompas,vol_kompas,on='date',how='left')\n",
    "print('Dimension of Kompas data:{}'.format(df_number_senti_kompas.shape))\n",
    "df_number_senti_kompas.head()"
   ]
  },
  {
   "cell_type": "markdown",
   "metadata": {},
   "source": [
    "### JCI News - Kompas"
   ]
  },
  {
   "cell_type": "code",
   "execution_count": 40,
   "metadata": {
    "ExecuteTime": {
     "end_time": "2020-03-24T09:10:42.785840Z",
     "start_time": "2020-03-24T08:59:54.271242Z"
    }
   },
   "outputs": [],
   "source": [
    "# Kompas Data\n",
    "ihsg_re = re.compile(r'IHSG')\n",
    "unique_date_kompas = data_kompas['date'].unique() # Vector of unique date\n",
    "num_pos_kompas_jci = np.repeat(0,len(unique_date_kompas))\n",
    "num_neg_kompas_jci = np.repeat(0,len(unique_date_kompas))\n",
    "num_net_kompas_jci = np.repeat(0,len(unique_date_kompas))\n",
    "for i in range(len(unique_date_kompas)):\n",
    "    for j in range(data_kompas.shape[0]):\n",
    "        con = len(ihsg_re.findall(data_kompas.iloc[j]['title']))\n",
    "        if data_kompas['date'][j] == unique_date_kompas[i] and con:\n",
    "            if data_kompas['class'][j] == 'Positive':\n",
    "                num_pos_kompas_jci[i] += 1\n",
    "            if data_kompas['class'][j] == 'Negative':\n",
    "                num_neg_kompas_jci[i] += 1\n",
    "            if data_kompas['class'][j] == 'Neutral':\n",
    "                num_net_kompas_jci[i] += 1"
   ]
  },
  {
   "cell_type": "code",
   "execution_count": 41,
   "metadata": {
    "ExecuteTime": {
     "end_time": "2020-03-24T09:10:42.811342Z",
     "start_time": "2020-03-24T09:10:42.789856Z"
    }
   },
   "outputs": [],
   "source": [
    "# Note: axis = 1 means it will be merged in column\n",
    "total = data_kompas['date'].value_counts()\n",
    "df_number_senti_kompas_jci = pd.concat([pd.DataFrame(unique_date_kompas),pd.DataFrame(num_pos_kompas_jci),\n",
    "                                        pd.DataFrame(num_neg_kompas_jci),pd.DataFrame(num_net_kompas_jci)],axis=1)\n",
    "df_number_senti_kompas_jci.columns = ['date','num_pos_kompas_jci','num_neg_kompas_jci','num_net_kompas_jci']"
   ]
  },
  {
   "cell_type": "code",
   "execution_count": 42,
   "metadata": {
    "ExecuteTime": {
     "end_time": "2020-03-24T09:10:42.978952Z",
     "start_time": "2020-03-24T09:10:42.816229Z"
    }
   },
   "outputs": [
    {
     "name": "stdout",
     "output_type": "stream",
     "text": [
      "Dimension of JCI Kompas data:(360, 5)\n"
     ]
    },
    {
     "data": {
      "text/html": [
       "<div>\n",
       "<style scoped>\n",
       "    .dataframe tbody tr th:only-of-type {\n",
       "        vertical-align: middle;\n",
       "    }\n",
       "\n",
       "    .dataframe tbody tr th {\n",
       "        vertical-align: top;\n",
       "    }\n",
       "\n",
       "    .dataframe thead th {\n",
       "        text-align: right;\n",
       "    }\n",
       "</style>\n",
       "<table border=\"1\" class=\"dataframe\">\n",
       "  <thead>\n",
       "    <tr style=\"text-align: right;\">\n",
       "      <th></th>\n",
       "      <th>date</th>\n",
       "      <th>num_pos_kompas_jci</th>\n",
       "      <th>num_neg_kompas_jci</th>\n",
       "      <th>num_net_kompas_jci</th>\n",
       "      <th>total_kompas_jci</th>\n",
       "    </tr>\n",
       "  </thead>\n",
       "  <tbody>\n",
       "    <tr>\n",
       "      <th>0</th>\n",
       "      <td>01 Januari 2019</td>\n",
       "      <td>0</td>\n",
       "      <td>0</td>\n",
       "      <td>0</td>\n",
       "      <td>0</td>\n",
       "    </tr>\n",
       "    <tr>\n",
       "      <th>1</th>\n",
       "      <td>02 Januari 2019</td>\n",
       "      <td>1</td>\n",
       "      <td>0</td>\n",
       "      <td>0</td>\n",
       "      <td>1</td>\n",
       "    </tr>\n",
       "    <tr>\n",
       "      <th>2</th>\n",
       "      <td>03 Januari 2019</td>\n",
       "      <td>0</td>\n",
       "      <td>0</td>\n",
       "      <td>0</td>\n",
       "      <td>0</td>\n",
       "    </tr>\n",
       "    <tr>\n",
       "      <th>3</th>\n",
       "      <td>04 Januari 2019</td>\n",
       "      <td>0</td>\n",
       "      <td>0</td>\n",
       "      <td>0</td>\n",
       "      <td>0</td>\n",
       "    </tr>\n",
       "    <tr>\n",
       "      <th>4</th>\n",
       "      <td>05 Januari 2019</td>\n",
       "      <td>0</td>\n",
       "      <td>0</td>\n",
       "      <td>0</td>\n",
       "      <td>0</td>\n",
       "    </tr>\n",
       "  </tbody>\n",
       "</table>\n",
       "</div>"
      ],
      "text/plain": [
       "              date  num_pos_kompas_jci  num_neg_kompas_jci  \\\n",
       "0  01 Januari 2019                   0                   0   \n",
       "1  02 Januari 2019                   1                   0   \n",
       "2  03 Januari 2019                   0                   0   \n",
       "3  04 Januari 2019                   0                   0   \n",
       "4  05 Januari 2019                   0                   0   \n",
       "\n",
       "   num_net_kompas_jci  total_kompas_jci  \n",
       "0                   0                 0  \n",
       "1                   0                 1  \n",
       "2                   0                 0  \n",
       "3                   0                 0  \n",
       "4                   0                 0  "
      ]
     },
     "execution_count": 42,
     "metadata": {},
     "output_type": "execute_result"
    }
   ],
   "source": [
    "# Merge number of sentiment and total news\n",
    "df_number_senti_kompas_jci['total_kompas_jci'] = df_number_senti_kompas_jci['num_pos_kompas_jci']+\\\n",
    "df_number_senti_kompas_jci['num_neg_kompas_jci']+df_number_senti_kompas_jci['num_net_kompas_jci']\n",
    "print('Dimension of JCI Kompas data:{}'.format(df_number_senti_kompas_jci.shape))\n",
    "df_number_senti_kompas_jci.head()"
   ]
  },
  {
   "cell_type": "code",
   "execution_count": 43,
   "metadata": {
    "ExecuteTime": {
     "end_time": "2020-03-24T09:10:43.081658Z",
     "start_time": "2020-03-24T09:10:42.985353Z"
    },
    "scrolled": true
   },
   "outputs": [
    {
     "data": {
      "text/html": [
       "<div>\n",
       "<style scoped>\n",
       "    .dataframe tbody tr th:only-of-type {\n",
       "        vertical-align: middle;\n",
       "    }\n",
       "\n",
       "    .dataframe tbody tr th {\n",
       "        vertical-align: top;\n",
       "    }\n",
       "\n",
       "    .dataframe thead th {\n",
       "        text-align: right;\n",
       "    }\n",
       "</style>\n",
       "<table border=\"1\" class=\"dataframe\">\n",
       "  <thead>\n",
       "    <tr style=\"text-align: right;\">\n",
       "      <th></th>\n",
       "      <th>date</th>\n",
       "      <th>num_pos_kompas</th>\n",
       "      <th>num_neg_kompas</th>\n",
       "      <th>num_net_kompas</th>\n",
       "      <th>total_kompas</th>\n",
       "      <th>num_pos_kompas_jci</th>\n",
       "      <th>num_neg_kompas_jci</th>\n",
       "      <th>num_net_kompas_jci</th>\n",
       "      <th>total_kompas_jci</th>\n",
       "    </tr>\n",
       "  </thead>\n",
       "  <tbody>\n",
       "    <tr>\n",
       "      <th>0</th>\n",
       "      <td>01 Januari 2019</td>\n",
       "      <td>0</td>\n",
       "      <td>1</td>\n",
       "      <td>2</td>\n",
       "      <td>3</td>\n",
       "      <td>0</td>\n",
       "      <td>0</td>\n",
       "      <td>0</td>\n",
       "      <td>0</td>\n",
       "    </tr>\n",
       "    <tr>\n",
       "      <th>1</th>\n",
       "      <td>02 Januari 2019</td>\n",
       "      <td>7</td>\n",
       "      <td>6</td>\n",
       "      <td>1</td>\n",
       "      <td>14</td>\n",
       "      <td>1</td>\n",
       "      <td>0</td>\n",
       "      <td>0</td>\n",
       "      <td>1</td>\n",
       "    </tr>\n",
       "    <tr>\n",
       "      <th>2</th>\n",
       "      <td>03 Januari 2019</td>\n",
       "      <td>14</td>\n",
       "      <td>1</td>\n",
       "      <td>2</td>\n",
       "      <td>17</td>\n",
       "      <td>0</td>\n",
       "      <td>0</td>\n",
       "      <td>0</td>\n",
       "      <td>0</td>\n",
       "    </tr>\n",
       "  </tbody>\n",
       "</table>\n",
       "</div>"
      ],
      "text/plain": [
       "              date  num_pos_kompas  num_neg_kompas  num_net_kompas  \\\n",
       "0  01 Januari 2019               0               1               2   \n",
       "1  02 Januari 2019               7               6               1   \n",
       "2  03 Januari 2019              14               1               2   \n",
       "\n",
       "   total_kompas  num_pos_kompas_jci  num_neg_kompas_jci  num_net_kompas_jci  \\\n",
       "0             3                   0                   0                   0   \n",
       "1            14                   1                   0                   0   \n",
       "2            17                   0                   0                   0   \n",
       "\n",
       "   total_kompas_jci  \n",
       "0                 0  \n",
       "1                 1  \n",
       "2                 0  "
      ]
     },
     "execution_count": 43,
     "metadata": {},
     "output_type": "execute_result"
    }
   ],
   "source": [
    "df_kompas = pd.merge(df_number_senti_kompas,df_number_senti_kompas_jci,on='date',how='left')\n",
    "df_kompas.head(3)"
   ]
  },
  {
   "cell_type": "markdown",
   "metadata": {},
   "source": [
    "### General News - Detik"
   ]
  },
  {
   "cell_type": "code",
   "execution_count": 44,
   "metadata": {
    "ExecuteTime": {
     "end_time": "2020-03-24T09:13:15.508447Z",
     "start_time": "2020-03-24T09:10:43.087143Z"
    }
   },
   "outputs": [],
   "source": [
    "# Detik Data\n",
    "unique_date_detik = data_detik['date'].unique() # Vector of unique date\n",
    "num_pos_detik = np.repeat(0,len(unique_date_detik))\n",
    "num_neg_detik = np.repeat(0,len(unique_date_detik))\n",
    "num_net_detik = np.repeat(0,len(unique_date_detik))\n",
    "for i in range(len(unique_date_detik)):\n",
    "    for j in range(data_detik.shape[0]):\n",
    "        if data_detik['date'][j] == unique_date_detik[i]:\n",
    "            if data_detik['class'][j] == 'Positive':\n",
    "                num_pos_detik[i] += 1\n",
    "            if data_detik['class'][j] == 'Negative':\n",
    "                num_neg_detik[i] += 1\n",
    "            if data_detik['class'][j] == 'Neutral':\n",
    "                num_net_detik[i] += 1"
   ]
  },
  {
   "cell_type": "code",
   "execution_count": 45,
   "metadata": {
    "ExecuteTime": {
     "end_time": "2020-03-24T09:13:15.534159Z",
     "start_time": "2020-03-24T09:13:15.512381Z"
    }
   },
   "outputs": [],
   "source": [
    "# Note: axis = 1 means it will be merged in column\n",
    "total = data_detik['date'].value_counts()\n",
    "df_number_senti_detik = pd.concat([pd.DataFrame(unique_date_detik),pd.DataFrame(num_pos_detik),\n",
    "                                   pd.DataFrame(num_neg_detik),pd.DataFrame(num_net_detik)],axis=1)\n",
    "# Daily of volume news\n",
    "df_number_senti_detik.columns = ['date','num_pos_detik','num_neg_detik','num_net_detik']"
   ]
  },
  {
   "cell_type": "code",
   "execution_count": 46,
   "metadata": {
    "ExecuteTime": {
     "end_time": "2020-03-24T09:13:15.620432Z",
     "start_time": "2020-03-24T09:13:15.538784Z"
    }
   },
   "outputs": [],
   "source": [
    "# Volume news of Kompas\n",
    "vol_detik = pd.DataFrame(data_detik['date'].value_counts()).reset_index()\n",
    "vol_detik.columns = ['date','total_detik']"
   ]
  },
  {
   "cell_type": "code",
   "execution_count": 47,
   "metadata": {
    "ExecuteTime": {
     "end_time": "2020-03-24T09:13:15.718902Z",
     "start_time": "2020-03-24T09:13:15.625797Z"
    },
    "scrolled": true
   },
   "outputs": [
    {
     "name": "stdout",
     "output_type": "stream",
     "text": [
      "Dimension of Detik data:(363, 5)\n"
     ]
    },
    {
     "data": {
      "text/html": [
       "<div>\n",
       "<style scoped>\n",
       "    .dataframe tbody tr th:only-of-type {\n",
       "        vertical-align: middle;\n",
       "    }\n",
       "\n",
       "    .dataframe tbody tr th {\n",
       "        vertical-align: top;\n",
       "    }\n",
       "\n",
       "    .dataframe thead th {\n",
       "        text-align: right;\n",
       "    }\n",
       "</style>\n",
       "<table border=\"1\" class=\"dataframe\">\n",
       "  <thead>\n",
       "    <tr style=\"text-align: right;\">\n",
       "      <th></th>\n",
       "      <th>date</th>\n",
       "      <th>num_pos_detik</th>\n",
       "      <th>num_neg_detik</th>\n",
       "      <th>num_net_detik</th>\n",
       "      <th>total_detik</th>\n",
       "    </tr>\n",
       "  </thead>\n",
       "  <tbody>\n",
       "    <tr>\n",
       "      <th>0</th>\n",
       "      <td>01 Januari 2019</td>\n",
       "      <td>3</td>\n",
       "      <td>1</td>\n",
       "      <td>4</td>\n",
       "      <td>8</td>\n",
       "    </tr>\n",
       "    <tr>\n",
       "      <th>1</th>\n",
       "      <td>02 Januari 2019</td>\n",
       "      <td>17</td>\n",
       "      <td>10</td>\n",
       "      <td>5</td>\n",
       "      <td>32</td>\n",
       "    </tr>\n",
       "    <tr>\n",
       "      <th>2</th>\n",
       "      <td>03 Januari 2019</td>\n",
       "      <td>12</td>\n",
       "      <td>5</td>\n",
       "      <td>6</td>\n",
       "      <td>23</td>\n",
       "    </tr>\n",
       "    <tr>\n",
       "      <th>3</th>\n",
       "      <td>04 Januari 2019</td>\n",
       "      <td>22</td>\n",
       "      <td>9</td>\n",
       "      <td>5</td>\n",
       "      <td>36</td>\n",
       "    </tr>\n",
       "    <tr>\n",
       "      <th>4</th>\n",
       "      <td>05 Januari 2019</td>\n",
       "      <td>7</td>\n",
       "      <td>3</td>\n",
       "      <td>1</td>\n",
       "      <td>11</td>\n",
       "    </tr>\n",
       "  </tbody>\n",
       "</table>\n",
       "</div>"
      ],
      "text/plain": [
       "              date  num_pos_detik  num_neg_detik  num_net_detik  total_detik\n",
       "0  01 Januari 2019              3              1              4            8\n",
       "1  02 Januari 2019             17             10              5           32\n",
       "2  03 Januari 2019             12              5              6           23\n",
       "3  04 Januari 2019             22              9              5           36\n",
       "4  05 Januari 2019              7              3              1           11"
      ]
     },
     "execution_count": 47,
     "metadata": {},
     "output_type": "execute_result"
    }
   ],
   "source": [
    "# Merge number of sentiment and total news\n",
    "df_number_senti_detik = pd.merge(df_number_senti_detik,vol_detik,on='date',how='left')\n",
    "print('Dimension of Detik data:{}'.format(df_number_senti_detik.shape))\n",
    "df_number_senti_detik.head()"
   ]
  },
  {
   "cell_type": "markdown",
   "metadata": {},
   "source": [
    "### JCI News - Detik"
   ]
  },
  {
   "cell_type": "code",
   "execution_count": 48,
   "metadata": {
    "ExecuteTime": {
     "end_time": "2020-03-24T09:35:17.935777Z",
     "start_time": "2020-03-24T09:13:15.724502Z"
    }
   },
   "outputs": [],
   "source": [
    "# Detik Data\n",
    "ihsg_re = re.compile(r'IHSG')\n",
    "unique_date_detik = data_detik['date'].unique() # Vector of unique date\n",
    "num_pos_detik_jci = np.repeat(0,len(unique_date_detik))\n",
    "num_neg_detik_jci = np.repeat(0,len(unique_date_detik))\n",
    "num_net_detik_jci = np.repeat(0,len(unique_date_detik))\n",
    "for i in range(len(unique_date_detik)):\n",
    "    for j in range(data_detik.shape[0]):\n",
    "        con = len(ihsg_re.findall(data_detik.iloc[j]['title']))\n",
    "        if data_detik['date'][j] == unique_date_detik[i] and con:\n",
    "            if data_detik['class'][j] == 'Positive':\n",
    "                num_pos_detik_jci[i] += 1\n",
    "            if data_detik['class'][j] == 'Negative':\n",
    "                num_neg_detik_jci[i] += 1\n",
    "            if data_detik['class'][j] == 'Neutral':\n",
    "                num_net_detik_jci[i] += 1"
   ]
  },
  {
   "cell_type": "code",
   "execution_count": 75,
   "metadata": {
    "ExecuteTime": {
     "end_time": "2020-03-24T09:36:02.157732Z",
     "start_time": "2020-03-24T09:36:02.137228Z"
    }
   },
   "outputs": [],
   "source": [
    "# Note: axis = 1 means it will be merged in column\n",
    "total = data_detik['date'].value_counts()\n",
    "df_number_senti_detik_jci = pd.concat([pd.DataFrame(unique_date_detik),pd.DataFrame(num_pos_detik_jci),\n",
    "                                       pd.DataFrame(num_neg_detik_jci),pd.DataFrame(num_net_detik_jci)],axis=1)\n",
    "df_number_senti_detik_jci.columns = ['date','num_pos_detik_jci','num_neg_detik_jci','num_net_detik_jci']"
   ]
  },
  {
   "cell_type": "code",
   "execution_count": 76,
   "metadata": {
    "ExecuteTime": {
     "end_time": "2020-03-24T09:36:02.288274Z",
     "start_time": "2020-03-24T09:36:02.163609Z"
    },
    "scrolled": true
   },
   "outputs": [
    {
     "name": "stdout",
     "output_type": "stream",
     "text": [
      "Dimension of JCI Detik data:(363, 5)\n"
     ]
    },
    {
     "data": {
      "text/html": [
       "<div>\n",
       "<style scoped>\n",
       "    .dataframe tbody tr th:only-of-type {\n",
       "        vertical-align: middle;\n",
       "    }\n",
       "\n",
       "    .dataframe tbody tr th {\n",
       "        vertical-align: top;\n",
       "    }\n",
       "\n",
       "    .dataframe thead th {\n",
       "        text-align: right;\n",
       "    }\n",
       "</style>\n",
       "<table border=\"1\" class=\"dataframe\">\n",
       "  <thead>\n",
       "    <tr style=\"text-align: right;\">\n",
       "      <th></th>\n",
       "      <th>date</th>\n",
       "      <th>num_pos_detik_jci</th>\n",
       "      <th>num_neg_detik_jci</th>\n",
       "      <th>num_net_detik_jci</th>\n",
       "      <th>total_detik_jci</th>\n",
       "    </tr>\n",
       "  </thead>\n",
       "  <tbody>\n",
       "    <tr>\n",
       "      <th>0</th>\n",
       "      <td>01 Januari 2019</td>\n",
       "      <td>0</td>\n",
       "      <td>0</td>\n",
       "      <td>0</td>\n",
       "      <td>0</td>\n",
       "    </tr>\n",
       "    <tr>\n",
       "      <th>1</th>\n",
       "      <td>02 Januari 2019</td>\n",
       "      <td>3</td>\n",
       "      <td>2</td>\n",
       "      <td>0</td>\n",
       "      <td>5</td>\n",
       "    </tr>\n",
       "    <tr>\n",
       "      <th>2</th>\n",
       "      <td>03 Januari 2019</td>\n",
       "      <td>4</td>\n",
       "      <td>0</td>\n",
       "      <td>0</td>\n",
       "      <td>4</td>\n",
       "    </tr>\n",
       "    <tr>\n",
       "      <th>3</th>\n",
       "      <td>04 Januari 2019</td>\n",
       "      <td>3</td>\n",
       "      <td>1</td>\n",
       "      <td>0</td>\n",
       "      <td>4</td>\n",
       "    </tr>\n",
       "    <tr>\n",
       "      <th>4</th>\n",
       "      <td>05 Januari 2019</td>\n",
       "      <td>0</td>\n",
       "      <td>0</td>\n",
       "      <td>0</td>\n",
       "      <td>0</td>\n",
       "    </tr>\n",
       "  </tbody>\n",
       "</table>\n",
       "</div>"
      ],
      "text/plain": [
       "              date  num_pos_detik_jci  num_neg_detik_jci  num_net_detik_jci  \\\n",
       "0  01 Januari 2019                  0                  0                  0   \n",
       "1  02 Januari 2019                  3                  2                  0   \n",
       "2  03 Januari 2019                  4                  0                  0   \n",
       "3  04 Januari 2019                  3                  1                  0   \n",
       "4  05 Januari 2019                  0                  0                  0   \n",
       "\n",
       "   total_detik_jci  \n",
       "0                0  \n",
       "1                5  \n",
       "2                4  \n",
       "3                4  \n",
       "4                0  "
      ]
     },
     "execution_count": 76,
     "metadata": {},
     "output_type": "execute_result"
    }
   ],
   "source": [
    "# Merge number of sentiment and total news\n",
    "df_number_senti_detik_jci['total_detik_jci'] = df_number_senti_detik_jci['num_pos_detik_jci']+\\\n",
    "df_number_senti_detik_jci['num_neg_detik_jci']+df_number_senti_detik_jci['num_net_detik_jci']\n",
    "print('Dimension of JCI Detik data:{}'.format(df_number_senti_detik_jci.shape))\n",
    "df_number_senti_detik_jci.head()"
   ]
  },
  {
   "cell_type": "code",
   "execution_count": 77,
   "metadata": {
    "ExecuteTime": {
     "end_time": "2020-03-24T09:36:02.385838Z",
     "start_time": "2020-03-24T09:36:02.294027Z"
    },
    "scrolled": true
   },
   "outputs": [
    {
     "data": {
      "text/html": [
       "<div>\n",
       "<style scoped>\n",
       "    .dataframe tbody tr th:only-of-type {\n",
       "        vertical-align: middle;\n",
       "    }\n",
       "\n",
       "    .dataframe tbody tr th {\n",
       "        vertical-align: top;\n",
       "    }\n",
       "\n",
       "    .dataframe thead th {\n",
       "        text-align: right;\n",
       "    }\n",
       "</style>\n",
       "<table border=\"1\" class=\"dataframe\">\n",
       "  <thead>\n",
       "    <tr style=\"text-align: right;\">\n",
       "      <th></th>\n",
       "      <th>date</th>\n",
       "      <th>num_pos_detik</th>\n",
       "      <th>num_neg_detik</th>\n",
       "      <th>num_net_detik</th>\n",
       "      <th>total_detik</th>\n",
       "      <th>num_pos_detik_jci</th>\n",
       "      <th>num_neg_detik_jci</th>\n",
       "      <th>num_net_detik_jci</th>\n",
       "      <th>total_detik_jci</th>\n",
       "    </tr>\n",
       "  </thead>\n",
       "  <tbody>\n",
       "    <tr>\n",
       "      <th>0</th>\n",
       "      <td>01 Januari 2019</td>\n",
       "      <td>3</td>\n",
       "      <td>1</td>\n",
       "      <td>4</td>\n",
       "      <td>8</td>\n",
       "      <td>0</td>\n",
       "      <td>0</td>\n",
       "      <td>0</td>\n",
       "      <td>0</td>\n",
       "    </tr>\n",
       "    <tr>\n",
       "      <th>1</th>\n",
       "      <td>02 Januari 2019</td>\n",
       "      <td>17</td>\n",
       "      <td>10</td>\n",
       "      <td>5</td>\n",
       "      <td>32</td>\n",
       "      <td>3</td>\n",
       "      <td>2</td>\n",
       "      <td>0</td>\n",
       "      <td>5</td>\n",
       "    </tr>\n",
       "    <tr>\n",
       "      <th>2</th>\n",
       "      <td>03 Januari 2019</td>\n",
       "      <td>12</td>\n",
       "      <td>5</td>\n",
       "      <td>6</td>\n",
       "      <td>23</td>\n",
       "      <td>4</td>\n",
       "      <td>0</td>\n",
       "      <td>0</td>\n",
       "      <td>4</td>\n",
       "    </tr>\n",
       "  </tbody>\n",
       "</table>\n",
       "</div>"
      ],
      "text/plain": [
       "              date  num_pos_detik  num_neg_detik  num_net_detik  total_detik  \\\n",
       "0  01 Januari 2019              3              1              4            8   \n",
       "1  02 Januari 2019             17             10              5           32   \n",
       "2  03 Januari 2019             12              5              6           23   \n",
       "\n",
       "   num_pos_detik_jci  num_neg_detik_jci  num_net_detik_jci  total_detik_jci  \n",
       "0                  0                  0                  0                0  \n",
       "1                  3                  2                  0                5  \n",
       "2                  4                  0                  0                4  "
      ]
     },
     "execution_count": 77,
     "metadata": {},
     "output_type": "execute_result"
    }
   ],
   "source": [
    "df_detik = pd.merge(df_number_senti_detik,df_number_senti_detik_jci,on='date',how='left')\n",
    "df_detik.head(3)"
   ]
  },
  {
   "cell_type": "code",
   "execution_count": 78,
   "metadata": {
    "ExecuteTime": {
     "end_time": "2020-03-24T09:36:02.471757Z",
     "start_time": "2020-03-24T09:36:02.391651Z"
    }
   },
   "outputs": [],
   "source": [
    "# List of date\n",
    "start = datetime.strptime('2019-01-01','%Y-%m-%d')\n",
    "end = datetime.strptime('2019-12-31','%Y-%m-%d')\n",
    "list_date = pd.date_range(start,end).strftime('%d %m %Y').tolist()\n",
    "# Modify list of date\n",
    "list_date_new = []\n",
    "for i in range(len(list_date)):\n",
    "    c = []\n",
    "    a = list_date[i].split()[1]\n",
    "    if a == '01': c = 'Januari'\n",
    "    if a == '02': c = 'Februari'\n",
    "    if a == '03': c = 'Maret'\n",
    "    if a == '04': c = 'April'\n",
    "    if a == '05': c = 'Mei'\n",
    "    if a == '06': c = 'Juni'\n",
    "    if a == '07': c = 'Juli'\n",
    "    if a == '08': c = 'Agustus'\n",
    "    if a == '09': c = 'September'\n",
    "    if a == '10': c = 'Oktober'\n",
    "    if a == '11': c = 'November'\n",
    "    if a == '12': c = 'Desember'\n",
    "    d = list_date[i].split()[0]+' '+c+' '+list_date[i].split()[2]\n",
    "    list_date_new.append(d)"
   ]
  },
  {
   "cell_type": "code",
   "execution_count": 79,
   "metadata": {
    "ExecuteTime": {
     "end_time": "2020-03-24T09:36:02.572854Z",
     "start_time": "2020-03-24T09:36:02.477945Z"
    }
   },
   "outputs": [],
   "source": [
    "list_date_new = pd.Series(list_date_new,name='date')"
   ]
  },
  {
   "cell_type": "code",
   "execution_count": 80,
   "metadata": {
    "ExecuteTime": {
     "end_time": "2020-03-24T09:36:02.707460Z",
     "start_time": "2020-03-24T09:36:02.578383Z"
    },
    "scrolled": false
   },
   "outputs": [
    {
     "name": "stdout",
     "output_type": "stream",
     "text": [
      "Dimension of financial news data:(365, 25)\n",
      "date                   0\n",
      "num_pos_okezone        2\n",
      "num_neg_okezone        2\n",
      "num_net_okezone        2\n",
      "total_okezone          2\n",
      "num_pos_okezone_jci    2\n",
      "num_neg_okezone_jci    2\n",
      "num_net_okezone_jci    2\n",
      "total_okezone_jci      2\n",
      "num_pos_kompas         5\n",
      "num_neg_kompas         5\n",
      "num_net_kompas         5\n",
      "total_kompas           5\n",
      "num_pos_kompas_jci     5\n",
      "num_neg_kompas_jci     5\n",
      "num_net_kompas_jci     5\n",
      "total_kompas_jci       5\n",
      "num_pos_detik          2\n",
      "num_neg_detik          2\n",
      "num_net_detik          2\n",
      "total_detik            2\n",
      "num_pos_detik_jci      2\n",
      "num_neg_detik_jci      2\n",
      "num_net_detik_jci      2\n",
      "total_detik_jci        2\n",
      "dtype: int64\n",
      "\n",
      "Okezone:\n",
      "152        02 Juni 2019\n",
      "364    31 Desember 2019\n",
      "Name: date, dtype: object\n",
      "\n",
      "Kompas:\n",
      "11      12 Januari 2019\n",
      "40     10 Februari 2019\n",
      "166        16 Juni 2019\n",
      "340    07 Desember 2019\n",
      "364    31 Desember 2019\n",
      "Name: date, dtype: object\n",
      "\n",
      "Detik:\n",
      "341    08 Desember 2019\n",
      "364    31 Desember 2019\n",
      "Name: date, dtype: object\n"
     ]
    }
   ],
   "source": [
    "# Merge all financial news\n",
    "df_news = pd.merge(list_date_new,df_okezone,on='date',how='left')\n",
    "df_news = pd.merge(df_news,df_kompas,on='date',how='left')\n",
    "df_news = pd.merge(df_news,df_detik,on='date',how='left')\n",
    "print('Dimension of financial news data:{}'.format(df_news.shape))\n",
    "# Cgeck missing value or NaN\n",
    "print(df_news.isnull().sum())\n",
    "# Check list which is not included\n",
    "print('\\nOkezone:\\n{}'.format(list_date_new[~list_date_new.isin(df_okezone['date'])]))\n",
    "print('\\nKompas:\\n{}'.format(list_date_new[~list_date_new.isin(df_kompas['date'])]))\n",
    "print('\\nDetik:\\n{}'.format(list_date_new[~list_date_new.isin(df_detik['date'])]))"
   ]
  },
  {
   "cell_type": "code",
   "execution_count": 81,
   "metadata": {
    "ExecuteTime": {
     "end_time": "2020-03-24T09:36:02.779506Z",
     "start_time": "2020-03-24T09:36:02.715905Z"
    }
   },
   "outputs": [
    {
     "data": {
      "text/html": [
       "<div>\n",
       "<style scoped>\n",
       "    .dataframe tbody tr th:only-of-type {\n",
       "        vertical-align: middle;\n",
       "    }\n",
       "\n",
       "    .dataframe tbody tr th {\n",
       "        vertical-align: top;\n",
       "    }\n",
       "\n",
       "    .dataframe thead th {\n",
       "        text-align: right;\n",
       "    }\n",
       "</style>\n",
       "<table border=\"1\" class=\"dataframe\">\n",
       "  <thead>\n",
       "    <tr style=\"text-align: right;\">\n",
       "      <th></th>\n",
       "      <th>num_neg_okezone</th>\n",
       "      <th>num_pos_okezone</th>\n",
       "      <th>num_net_okezone</th>\n",
       "      <th>total_okezone</th>\n",
       "      <th>num_neg_okezone_jci</th>\n",
       "      <th>num_pos_okezone_jci</th>\n",
       "      <th>num_net_okezone_jci</th>\n",
       "      <th>total_okezone_jci</th>\n",
       "    </tr>\n",
       "  </thead>\n",
       "  <tbody>\n",
       "    <tr>\n",
       "      <th>152</th>\n",
       "      <td>0.0</td>\n",
       "      <td>0.0</td>\n",
       "      <td>0.0</td>\n",
       "      <td>0.0</td>\n",
       "      <td>0.0</td>\n",
       "      <td>0.0</td>\n",
       "      <td>0.0</td>\n",
       "      <td>0.0</td>\n",
       "    </tr>\n",
       "    <tr>\n",
       "      <th>364</th>\n",
       "      <td>0.0</td>\n",
       "      <td>0.0</td>\n",
       "      <td>0.0</td>\n",
       "      <td>0.0</td>\n",
       "      <td>0.0</td>\n",
       "      <td>0.0</td>\n",
       "      <td>0.0</td>\n",
       "      <td>0.0</td>\n",
       "    </tr>\n",
       "  </tbody>\n",
       "</table>\n",
       "</div>"
      ],
      "text/plain": [
       "     num_neg_okezone  num_pos_okezone  num_net_okezone  total_okezone  \\\n",
       "152              0.0              0.0              0.0            0.0   \n",
       "364              0.0              0.0              0.0            0.0   \n",
       "\n",
       "     num_neg_okezone_jci  num_pos_okezone_jci  num_net_okezone_jci  \\\n",
       "152                  0.0                  0.0                  0.0   \n",
       "364                  0.0                  0.0                  0.0   \n",
       "\n",
       "     total_okezone_jci  \n",
       "152                0.0  \n",
       "364                0.0  "
      ]
     },
     "execution_count": 81,
     "metadata": {},
     "output_type": "execute_result"
    }
   ],
   "source": [
    "# Fill NaN in Kompas\n",
    "a = list_date_new[~list_date_new.isin(df_okezone['date'])]\n",
    "list_var_okezone_na = ['num_neg_okezone','num_pos_okezone','num_net_okezone','total_okezone',\n",
    "                       'num_neg_okezone_jci','num_pos_okezone_jci','num_net_okezone_jci','total_okezone_jci']\n",
    "for i in list_var_okezone_na:\n",
    "    df_news['{}'.format(i)].fillna(0, inplace=True)\n",
    "# Check NaN\n",
    "df_news.iloc[a.index][list_var_okezone_na]"
   ]
  },
  {
   "cell_type": "code",
   "execution_count": 82,
   "metadata": {
    "ExecuteTime": {
     "end_time": "2020-03-24T09:36:02.897605Z",
     "start_time": "2020-03-24T09:36:02.788593Z"
    },
    "scrolled": false
   },
   "outputs": [
    {
     "data": {
      "text/html": [
       "<div>\n",
       "<style scoped>\n",
       "    .dataframe tbody tr th:only-of-type {\n",
       "        vertical-align: middle;\n",
       "    }\n",
       "\n",
       "    .dataframe tbody tr th {\n",
       "        vertical-align: top;\n",
       "    }\n",
       "\n",
       "    .dataframe thead th {\n",
       "        text-align: right;\n",
       "    }\n",
       "</style>\n",
       "<table border=\"1\" class=\"dataframe\">\n",
       "  <thead>\n",
       "    <tr style=\"text-align: right;\">\n",
       "      <th></th>\n",
       "      <th>num_neg_kompas</th>\n",
       "      <th>num_pos_kompas</th>\n",
       "      <th>num_net_kompas</th>\n",
       "      <th>total_kompas</th>\n",
       "      <th>num_neg_kompas_jci</th>\n",
       "      <th>num_pos_kompas_jci</th>\n",
       "      <th>num_net_kompas_jci</th>\n",
       "      <th>total_kompas_jci</th>\n",
       "    </tr>\n",
       "  </thead>\n",
       "  <tbody>\n",
       "    <tr>\n",
       "      <th>11</th>\n",
       "      <td>0.0</td>\n",
       "      <td>0.0</td>\n",
       "      <td>0.0</td>\n",
       "      <td>0.0</td>\n",
       "      <td>0.0</td>\n",
       "      <td>0.0</td>\n",
       "      <td>0.0</td>\n",
       "      <td>0.0</td>\n",
       "    </tr>\n",
       "    <tr>\n",
       "      <th>40</th>\n",
       "      <td>0.0</td>\n",
       "      <td>0.0</td>\n",
       "      <td>0.0</td>\n",
       "      <td>0.0</td>\n",
       "      <td>0.0</td>\n",
       "      <td>0.0</td>\n",
       "      <td>0.0</td>\n",
       "      <td>0.0</td>\n",
       "    </tr>\n",
       "    <tr>\n",
       "      <th>166</th>\n",
       "      <td>0.0</td>\n",
       "      <td>0.0</td>\n",
       "      <td>0.0</td>\n",
       "      <td>0.0</td>\n",
       "      <td>0.0</td>\n",
       "      <td>0.0</td>\n",
       "      <td>0.0</td>\n",
       "      <td>0.0</td>\n",
       "    </tr>\n",
       "    <tr>\n",
       "      <th>340</th>\n",
       "      <td>0.0</td>\n",
       "      <td>0.0</td>\n",
       "      <td>0.0</td>\n",
       "      <td>0.0</td>\n",
       "      <td>0.0</td>\n",
       "      <td>0.0</td>\n",
       "      <td>0.0</td>\n",
       "      <td>0.0</td>\n",
       "    </tr>\n",
       "    <tr>\n",
       "      <th>364</th>\n",
       "      <td>0.0</td>\n",
       "      <td>0.0</td>\n",
       "      <td>0.0</td>\n",
       "      <td>0.0</td>\n",
       "      <td>0.0</td>\n",
       "      <td>0.0</td>\n",
       "      <td>0.0</td>\n",
       "      <td>0.0</td>\n",
       "    </tr>\n",
       "  </tbody>\n",
       "</table>\n",
       "</div>"
      ],
      "text/plain": [
       "     num_neg_kompas  num_pos_kompas  num_net_kompas  total_kompas  \\\n",
       "11              0.0             0.0             0.0           0.0   \n",
       "40              0.0             0.0             0.0           0.0   \n",
       "166             0.0             0.0             0.0           0.0   \n",
       "340             0.0             0.0             0.0           0.0   \n",
       "364             0.0             0.0             0.0           0.0   \n",
       "\n",
       "     num_neg_kompas_jci  num_pos_kompas_jci  num_net_kompas_jci  \\\n",
       "11                  0.0                 0.0                 0.0   \n",
       "40                  0.0                 0.0                 0.0   \n",
       "166                 0.0                 0.0                 0.0   \n",
       "340                 0.0                 0.0                 0.0   \n",
       "364                 0.0                 0.0                 0.0   \n",
       "\n",
       "     total_kompas_jci  \n",
       "11                0.0  \n",
       "40                0.0  \n",
       "166               0.0  \n",
       "340               0.0  \n",
       "364               0.0  "
      ]
     },
     "execution_count": 82,
     "metadata": {},
     "output_type": "execute_result"
    }
   ],
   "source": [
    "# Fill NaN in Kompas\n",
    "b = list_date_new[~list_date_new.isin(df_kompas['date'])]\n",
    "list_var_kompas_na = ['num_neg_kompas','num_pos_kompas','num_net_kompas','total_kompas',\n",
    "                      'num_neg_kompas_jci','num_pos_kompas_jci','num_net_kompas_jci','total_kompas_jci']\n",
    "for i in list_var_kompas_na:\n",
    "    df_news['{}'.format(i)].fillna(0, inplace=True)\n",
    "# Check NaN\n",
    "df_news.iloc[b.index][list_var_kompas_na]"
   ]
  },
  {
   "cell_type": "code",
   "execution_count": 83,
   "metadata": {
    "ExecuteTime": {
     "end_time": "2020-03-24T09:36:03.040593Z",
     "start_time": "2020-03-24T09:36:02.904770Z"
    }
   },
   "outputs": [
    {
     "data": {
      "text/html": [
       "<div>\n",
       "<style scoped>\n",
       "    .dataframe tbody tr th:only-of-type {\n",
       "        vertical-align: middle;\n",
       "    }\n",
       "\n",
       "    .dataframe tbody tr th {\n",
       "        vertical-align: top;\n",
       "    }\n",
       "\n",
       "    .dataframe thead th {\n",
       "        text-align: right;\n",
       "    }\n",
       "</style>\n",
       "<table border=\"1\" class=\"dataframe\">\n",
       "  <thead>\n",
       "    <tr style=\"text-align: right;\">\n",
       "      <th></th>\n",
       "      <th>num_neg_detik</th>\n",
       "      <th>num_pos_detik</th>\n",
       "      <th>num_net_detik</th>\n",
       "      <th>total_detik</th>\n",
       "      <th>num_neg_detik_jci</th>\n",
       "      <th>num_pos_detik_jci</th>\n",
       "      <th>num_net_detik_jci</th>\n",
       "      <th>total_detik_jci</th>\n",
       "    </tr>\n",
       "  </thead>\n",
       "  <tbody>\n",
       "    <tr>\n",
       "      <th>341</th>\n",
       "      <td>0.0</td>\n",
       "      <td>0.0</td>\n",
       "      <td>0.0</td>\n",
       "      <td>0.0</td>\n",
       "      <td>0.0</td>\n",
       "      <td>0.0</td>\n",
       "      <td>0.0</td>\n",
       "      <td>0.0</td>\n",
       "    </tr>\n",
       "    <tr>\n",
       "      <th>364</th>\n",
       "      <td>0.0</td>\n",
       "      <td>0.0</td>\n",
       "      <td>0.0</td>\n",
       "      <td>0.0</td>\n",
       "      <td>0.0</td>\n",
       "      <td>0.0</td>\n",
       "      <td>0.0</td>\n",
       "      <td>0.0</td>\n",
       "    </tr>\n",
       "  </tbody>\n",
       "</table>\n",
       "</div>"
      ],
      "text/plain": [
       "     num_neg_detik  num_pos_detik  num_net_detik  total_detik  \\\n",
       "341            0.0            0.0            0.0          0.0   \n",
       "364            0.0            0.0            0.0          0.0   \n",
       "\n",
       "     num_neg_detik_jci  num_pos_detik_jci  num_net_detik_jci  total_detik_jci  \n",
       "341                0.0                0.0                0.0              0.0  \n",
       "364                0.0                0.0                0.0              0.0  "
      ]
     },
     "execution_count": 83,
     "metadata": {},
     "output_type": "execute_result"
    }
   ],
   "source": [
    "# Fill NaN in Detik\n",
    "c = list_date_new[~list_date_new.isin(df_detik['date'])]\n",
    "list_var_detik_na = ['num_neg_detik','num_pos_detik','num_net_detik','total_detik',\n",
    "                     'num_neg_detik_jci','num_pos_detik_jci','num_net_detik_jci','total_detik_jci']\n",
    "for i in list_var_detik_na:\n",
    "    df_news['{}'.format(i)].fillna(0, inplace=True)\n",
    "# Check NaN\n",
    "df_news.iloc[c.index][list_var_detik_na]"
   ]
  },
  {
   "cell_type": "code",
   "execution_count": 84,
   "metadata": {
    "ExecuteTime": {
     "end_time": "2020-03-24T09:36:03.146158Z",
     "start_time": "2020-03-24T09:36:03.046411Z"
    },
    "scrolled": false
   },
   "outputs": [
    {
     "name": "stdout",
     "output_type": "stream",
     "text": [
      "date                   0\n",
      "num_pos_okezone        0\n",
      "num_neg_okezone        0\n",
      "num_net_okezone        0\n",
      "total_okezone          0\n",
      "num_pos_okezone_jci    0\n",
      "num_neg_okezone_jci    0\n",
      "num_net_okezone_jci    0\n",
      "total_okezone_jci      0\n",
      "num_pos_kompas         0\n",
      "num_neg_kompas         0\n",
      "num_net_kompas         0\n",
      "total_kompas           0\n",
      "num_pos_kompas_jci     0\n",
      "num_neg_kompas_jci     0\n",
      "num_net_kompas_jci     0\n",
      "total_kompas_jci       0\n",
      "num_pos_detik          0\n",
      "num_neg_detik          0\n",
      "num_net_detik          0\n",
      "total_detik            0\n",
      "num_pos_detik_jci      0\n",
      "num_neg_detik_jci      0\n",
      "num_net_detik_jci      0\n",
      "total_detik_jci        0\n",
      "dtype: int64\n"
     ]
    },
    {
     "data": {
      "text/html": [
       "<div>\n",
       "<style scoped>\n",
       "    .dataframe tbody tr th:only-of-type {\n",
       "        vertical-align: middle;\n",
       "    }\n",
       "\n",
       "    .dataframe tbody tr th {\n",
       "        vertical-align: top;\n",
       "    }\n",
       "\n",
       "    .dataframe thead th {\n",
       "        text-align: right;\n",
       "    }\n",
       "</style>\n",
       "<table border=\"1\" class=\"dataframe\">\n",
       "  <thead>\n",
       "    <tr style=\"text-align: right;\">\n",
       "      <th></th>\n",
       "      <th>date</th>\n",
       "      <th>num_pos_okezone</th>\n",
       "      <th>num_neg_okezone</th>\n",
       "      <th>num_net_okezone</th>\n",
       "      <th>total_okezone</th>\n",
       "      <th>num_pos_okezone_jci</th>\n",
       "      <th>num_neg_okezone_jci</th>\n",
       "      <th>num_net_okezone_jci</th>\n",
       "      <th>total_okezone_jci</th>\n",
       "      <th>num_pos_kompas</th>\n",
       "      <th>...</th>\n",
       "      <th>num_net_kompas_jci</th>\n",
       "      <th>total_kompas_jci</th>\n",
       "      <th>num_pos_detik</th>\n",
       "      <th>num_neg_detik</th>\n",
       "      <th>num_net_detik</th>\n",
       "      <th>total_detik</th>\n",
       "      <th>num_pos_detik_jci</th>\n",
       "      <th>num_neg_detik_jci</th>\n",
       "      <th>num_net_detik_jci</th>\n",
       "      <th>total_detik_jci</th>\n",
       "    </tr>\n",
       "  </thead>\n",
       "  <tbody>\n",
       "    <tr>\n",
       "      <th>0</th>\n",
       "      <td>01 Januari 2019</td>\n",
       "      <td>9.0</td>\n",
       "      <td>1.0</td>\n",
       "      <td>2.0</td>\n",
       "      <td>12.0</td>\n",
       "      <td>1.0</td>\n",
       "      <td>0.0</td>\n",
       "      <td>0.0</td>\n",
       "      <td>1.0</td>\n",
       "      <td>0.0</td>\n",
       "      <td>...</td>\n",
       "      <td>0.0</td>\n",
       "      <td>0.0</td>\n",
       "      <td>3.0</td>\n",
       "      <td>1.0</td>\n",
       "      <td>4.0</td>\n",
       "      <td>8.0</td>\n",
       "      <td>0.0</td>\n",
       "      <td>0.0</td>\n",
       "      <td>0.0</td>\n",
       "      <td>0.0</td>\n",
       "    </tr>\n",
       "    <tr>\n",
       "      <th>1</th>\n",
       "      <td>02 Januari 2019</td>\n",
       "      <td>20.0</td>\n",
       "      <td>12.0</td>\n",
       "      <td>1.0</td>\n",
       "      <td>33.0</td>\n",
       "      <td>3.0</td>\n",
       "      <td>2.0</td>\n",
       "      <td>0.0</td>\n",
       "      <td>5.0</td>\n",
       "      <td>7.0</td>\n",
       "      <td>...</td>\n",
       "      <td>0.0</td>\n",
       "      <td>1.0</td>\n",
       "      <td>17.0</td>\n",
       "      <td>10.0</td>\n",
       "      <td>5.0</td>\n",
       "      <td>32.0</td>\n",
       "      <td>3.0</td>\n",
       "      <td>2.0</td>\n",
       "      <td>0.0</td>\n",
       "      <td>5.0</td>\n",
       "    </tr>\n",
       "    <tr>\n",
       "      <th>2</th>\n",
       "      <td>03 Januari 2019</td>\n",
       "      <td>23.0</td>\n",
       "      <td>7.0</td>\n",
       "      <td>3.0</td>\n",
       "      <td>33.0</td>\n",
       "      <td>3.0</td>\n",
       "      <td>1.0</td>\n",
       "      <td>0.0</td>\n",
       "      <td>4.0</td>\n",
       "      <td>14.0</td>\n",
       "      <td>...</td>\n",
       "      <td>0.0</td>\n",
       "      <td>0.0</td>\n",
       "      <td>12.0</td>\n",
       "      <td>5.0</td>\n",
       "      <td>6.0</td>\n",
       "      <td>23.0</td>\n",
       "      <td>4.0</td>\n",
       "      <td>0.0</td>\n",
       "      <td>0.0</td>\n",
       "      <td>4.0</td>\n",
       "    </tr>\n",
       "  </tbody>\n",
       "</table>\n",
       "<p>3 rows × 25 columns</p>\n",
       "</div>"
      ],
      "text/plain": [
       "              date  num_pos_okezone  num_neg_okezone  num_net_okezone  \\\n",
       "0  01 Januari 2019              9.0              1.0              2.0   \n",
       "1  02 Januari 2019             20.0             12.0              1.0   \n",
       "2  03 Januari 2019             23.0              7.0              3.0   \n",
       "\n",
       "   total_okezone  num_pos_okezone_jci  num_neg_okezone_jci  \\\n",
       "0           12.0                  1.0                  0.0   \n",
       "1           33.0                  3.0                  2.0   \n",
       "2           33.0                  3.0                  1.0   \n",
       "\n",
       "   num_net_okezone_jci  total_okezone_jci  num_pos_kompas  ...  \\\n",
       "0                  0.0                1.0             0.0  ...   \n",
       "1                  0.0                5.0             7.0  ...   \n",
       "2                  0.0                4.0            14.0  ...   \n",
       "\n",
       "   num_net_kompas_jci  total_kompas_jci  num_pos_detik  num_neg_detik  \\\n",
       "0                 0.0               0.0            3.0            1.0   \n",
       "1                 0.0               1.0           17.0           10.0   \n",
       "2                 0.0               0.0           12.0            5.0   \n",
       "\n",
       "   num_net_detik  total_detik  num_pos_detik_jci  num_neg_detik_jci  \\\n",
       "0            4.0          8.0                0.0                0.0   \n",
       "1            5.0         32.0                3.0                2.0   \n",
       "2            6.0         23.0                4.0                0.0   \n",
       "\n",
       "   num_net_detik_jci  total_detik_jci  \n",
       "0                0.0              0.0  \n",
       "1                0.0              5.0  \n",
       "2                0.0              4.0  \n",
       "\n",
       "[3 rows x 25 columns]"
      ]
     },
     "execution_count": 84,
     "metadata": {},
     "output_type": "execute_result"
    }
   ],
   "source": [
    "# Data with no NaN\n",
    "print(df_news.isnull().sum())\n",
    "df_news.head(3)"
   ]
  },
  {
   "cell_type": "markdown",
   "metadata": {
    "ExecuteTime": {
     "end_time": "2020-03-02T14:39:24.063241Z",
     "start_time": "2020-03-02T14:39:24.012032Z"
    }
   },
   "source": [
    "## 4 Create Day and Month"
   ]
  },
  {
   "cell_type": "code",
   "execution_count": 85,
   "metadata": {
    "ExecuteTime": {
     "end_time": "2020-03-24T09:36:03.429350Z",
     "start_time": "2020-03-24T09:36:03.152675Z"
    },
    "scrolled": true
   },
   "outputs": [
    {
     "data": {
      "text/plain": [
       "array(['Agustus', 'April', 'Desember', 'Februari', 'Januari', 'Juli',\n",
       "       'Juni', 'Maret', 'Mei', 'November', 'Oktober', 'September'],\n",
       "      dtype='<U9')"
      ]
     },
     "execution_count": 85,
     "metadata": {},
     "output_type": "execute_result"
    }
   ],
   "source": [
    "month_re = re.compile(r'[a-zA-Z]+')\n",
    "date_re = re.compile(r'^[0-9]{2}')\n",
    "month_list = []\n",
    "# Get all months in the data\n",
    "for i in range(df_news.shape[0]):\n",
    "    matches = month_re.findall(df_news.iloc[i]['date'])\n",
    "    month_list.append(matches[0])\n",
    "np.unique(month_list)"
   ]
  },
  {
   "cell_type": "code",
   "execution_count": 86,
   "metadata": {
    "ExecuteTime": {
     "end_time": "2020-03-24T09:36:03.448188Z",
     "start_time": "2020-03-24T09:36:03.433891Z"
    }
   },
   "outputs": [
    {
     "data": {
      "text/plain": [
       "Index(['date', 'month', 'num_pos_okezone', 'num_neg_okezone',\n",
       "       'num_net_okezone', 'total_okezone', 'num_pos_okezone_jci',\n",
       "       'num_neg_okezone_jci', 'num_net_okezone_jci', 'total_okezone_jci',\n",
       "       'num_pos_kompas', 'num_neg_kompas', 'num_net_kompas', 'total_kompas',\n",
       "       'num_pos_kompas_jci', 'num_neg_kompas_jci', 'num_net_kompas_jci',\n",
       "       'total_kompas_jci', 'num_pos_detik', 'num_neg_detik', 'num_net_detik',\n",
       "       'total_detik', 'num_pos_detik_jci', 'num_neg_detik_jci',\n",
       "       'num_net_detik_jci', 'total_detik_jci'],\n",
       "      dtype='object')"
      ]
     },
     "execution_count": 86,
     "metadata": {},
     "output_type": "execute_result"
    }
   ],
   "source": [
    "# Add column month\n",
    "df_news.insert(loc = 1, column = 'month', value = month_list)\n",
    "df_news.columns"
   ]
  },
  {
   "cell_type": "code",
   "execution_count": 87,
   "metadata": {
    "ExecuteTime": {
     "end_time": "2020-03-24T09:36:04.201510Z",
     "start_time": "2020-03-24T09:36:03.453557Z"
    },
    "scrolled": false
   },
   "outputs": [
    {
     "name": "stdout",
     "output_type": "stream",
     "text": [
      "Sample of date: 02-01-2019\n"
     ]
    }
   ],
   "source": [
    "# Add date in formal format\n",
    "dict_month = {'01':'Januari','02':'Februari','03':'Maret','04':'April','05':'Mei','06':'Juni',\n",
    "              '07':'Juli','08':'Agustus','09':'September','10':'Oktober','11':'November','12':'Desember'}\n",
    "day_re = re.compile(r'^[0-9]{2}')\n",
    "year_re = re.compile(r'[0-9]{4}')\n",
    "date_list = []\n",
    "for i in range(df_news.shape[0]):\n",
    "    day   = day_re.findall(df_news.iloc[i]['date'])\n",
    "    month = month_re.findall(df_news.iloc[i]['date'])\n",
    "    year  = year_re.findall(df_news.iloc[i]['date'])\n",
    "    # Convert month in string to numerical value\n",
    "    for num,month_name in dict_month.items():\n",
    "        if month_name == month[0]:\n",
    "            month_num = num\n",
    "    date_new = day[0] + '-' + month_num + '-' + year[0]\n",
    "    date_list.append(date_new)\n",
    "print('Sample of date: {}'.format(date_list[1]))"
   ]
  },
  {
   "cell_type": "code",
   "execution_count": 88,
   "metadata": {
    "ExecuteTime": {
     "end_time": "2020-03-24T09:36:04.234203Z",
     "start_time": "2020-03-24T09:36:04.208204Z"
    }
   },
   "outputs": [],
   "source": [
    "df_news.insert(loc = 1, column = 'date_format', value = date_list)\n",
    "df_news['date_format'] = pd.to_datetime(df_news['date_format'],format = '%d-%m-%Y')"
   ]
  },
  {
   "cell_type": "code",
   "execution_count": 89,
   "metadata": {
    "ExecuteTime": {
     "end_time": "2020-03-24T09:36:04.372291Z",
     "start_time": "2020-03-24T09:36:04.239786Z"
    }
   },
   "outputs": [
    {
     "data": {
      "text/html": [
       "<div>\n",
       "<style scoped>\n",
       "    .dataframe tbody tr th:only-of-type {\n",
       "        vertical-align: middle;\n",
       "    }\n",
       "\n",
       "    .dataframe tbody tr th {\n",
       "        vertical-align: top;\n",
       "    }\n",
       "\n",
       "    .dataframe thead th {\n",
       "        text-align: right;\n",
       "    }\n",
       "</style>\n",
       "<table border=\"1\" class=\"dataframe\">\n",
       "  <thead>\n",
       "    <tr style=\"text-align: right;\">\n",
       "      <th></th>\n",
       "      <th>date</th>\n",
       "      <th>date_format</th>\n",
       "      <th>month</th>\n",
       "      <th>num_pos_okezone</th>\n",
       "      <th>num_neg_okezone</th>\n",
       "      <th>num_net_okezone</th>\n",
       "      <th>total_okezone</th>\n",
       "      <th>num_pos_okezone_jci</th>\n",
       "      <th>num_neg_okezone_jci</th>\n",
       "      <th>num_net_okezone_jci</th>\n",
       "      <th>...</th>\n",
       "      <th>num_net_kompas_jci</th>\n",
       "      <th>total_kompas_jci</th>\n",
       "      <th>num_pos_detik</th>\n",
       "      <th>num_neg_detik</th>\n",
       "      <th>num_net_detik</th>\n",
       "      <th>total_detik</th>\n",
       "      <th>num_pos_detik_jci</th>\n",
       "      <th>num_neg_detik_jci</th>\n",
       "      <th>num_net_detik_jci</th>\n",
       "      <th>total_detik_jci</th>\n",
       "    </tr>\n",
       "  </thead>\n",
       "  <tbody>\n",
       "    <tr>\n",
       "      <th>360</th>\n",
       "      <td>27 Desember 2019</td>\n",
       "      <td>2019-12-27</td>\n",
       "      <td>Desember</td>\n",
       "      <td>11.0</td>\n",
       "      <td>8.0</td>\n",
       "      <td>3.0</td>\n",
       "      <td>22.0</td>\n",
       "      <td>4.0</td>\n",
       "      <td>0.0</td>\n",
       "      <td>0.0</td>\n",
       "      <td>...</td>\n",
       "      <td>0.0</td>\n",
       "      <td>0.0</td>\n",
       "      <td>14.0</td>\n",
       "      <td>11.0</td>\n",
       "      <td>14.0</td>\n",
       "      <td>39.0</td>\n",
       "      <td>5.0</td>\n",
       "      <td>0.0</td>\n",
       "      <td>0.0</td>\n",
       "      <td>5.0</td>\n",
       "    </tr>\n",
       "    <tr>\n",
       "      <th>361</th>\n",
       "      <td>28 Desember 2019</td>\n",
       "      <td>2019-12-28</td>\n",
       "      <td>Desember</td>\n",
       "      <td>0.0</td>\n",
       "      <td>5.0</td>\n",
       "      <td>0.0</td>\n",
       "      <td>5.0</td>\n",
       "      <td>0.0</td>\n",
       "      <td>0.0</td>\n",
       "      <td>0.0</td>\n",
       "      <td>...</td>\n",
       "      <td>0.0</td>\n",
       "      <td>0.0</td>\n",
       "      <td>3.0</td>\n",
       "      <td>5.0</td>\n",
       "      <td>9.0</td>\n",
       "      <td>17.0</td>\n",
       "      <td>1.0</td>\n",
       "      <td>0.0</td>\n",
       "      <td>1.0</td>\n",
       "      <td>2.0</td>\n",
       "    </tr>\n",
       "    <tr>\n",
       "      <th>362</th>\n",
       "      <td>29 Desember 2019</td>\n",
       "      <td>2019-12-29</td>\n",
       "      <td>Desember</td>\n",
       "      <td>2.0</td>\n",
       "      <td>1.0</td>\n",
       "      <td>1.0</td>\n",
       "      <td>4.0</td>\n",
       "      <td>1.0</td>\n",
       "      <td>0.0</td>\n",
       "      <td>0.0</td>\n",
       "      <td>...</td>\n",
       "      <td>0.0</td>\n",
       "      <td>0.0</td>\n",
       "      <td>1.0</td>\n",
       "      <td>3.0</td>\n",
       "      <td>8.0</td>\n",
       "      <td>12.0</td>\n",
       "      <td>0.0</td>\n",
       "      <td>0.0</td>\n",
       "      <td>0.0</td>\n",
       "      <td>0.0</td>\n",
       "    </tr>\n",
       "    <tr>\n",
       "      <th>363</th>\n",
       "      <td>30 Desember 2019</td>\n",
       "      <td>2019-12-30</td>\n",
       "      <td>Desember</td>\n",
       "      <td>9.0</td>\n",
       "      <td>4.0</td>\n",
       "      <td>3.0</td>\n",
       "      <td>16.0</td>\n",
       "      <td>2.0</td>\n",
       "      <td>3.0</td>\n",
       "      <td>0.0</td>\n",
       "      <td>...</td>\n",
       "      <td>1.0</td>\n",
       "      <td>2.0</td>\n",
       "      <td>12.0</td>\n",
       "      <td>13.0</td>\n",
       "      <td>12.0</td>\n",
       "      <td>37.0</td>\n",
       "      <td>2.0</td>\n",
       "      <td>6.0</td>\n",
       "      <td>0.0</td>\n",
       "      <td>8.0</td>\n",
       "    </tr>\n",
       "    <tr>\n",
       "      <th>364</th>\n",
       "      <td>31 Desember 2019</td>\n",
       "      <td>2019-12-31</td>\n",
       "      <td>Desember</td>\n",
       "      <td>0.0</td>\n",
       "      <td>0.0</td>\n",
       "      <td>0.0</td>\n",
       "      <td>0.0</td>\n",
       "      <td>0.0</td>\n",
       "      <td>0.0</td>\n",
       "      <td>0.0</td>\n",
       "      <td>...</td>\n",
       "      <td>0.0</td>\n",
       "      <td>0.0</td>\n",
       "      <td>0.0</td>\n",
       "      <td>0.0</td>\n",
       "      <td>0.0</td>\n",
       "      <td>0.0</td>\n",
       "      <td>0.0</td>\n",
       "      <td>0.0</td>\n",
       "      <td>0.0</td>\n",
       "      <td>0.0</td>\n",
       "    </tr>\n",
       "  </tbody>\n",
       "</table>\n",
       "<p>5 rows × 27 columns</p>\n",
       "</div>"
      ],
      "text/plain": [
       "                 date date_format     month  num_pos_okezone  num_neg_okezone  \\\n",
       "360  27 Desember 2019  2019-12-27  Desember             11.0              8.0   \n",
       "361  28 Desember 2019  2019-12-28  Desember              0.0              5.0   \n",
       "362  29 Desember 2019  2019-12-29  Desember              2.0              1.0   \n",
       "363  30 Desember 2019  2019-12-30  Desember              9.0              4.0   \n",
       "364  31 Desember 2019  2019-12-31  Desember              0.0              0.0   \n",
       "\n",
       "     num_net_okezone  total_okezone  num_pos_okezone_jci  num_neg_okezone_jci  \\\n",
       "360              3.0           22.0                  4.0                  0.0   \n",
       "361              0.0            5.0                  0.0                  0.0   \n",
       "362              1.0            4.0                  1.0                  0.0   \n",
       "363              3.0           16.0                  2.0                  3.0   \n",
       "364              0.0            0.0                  0.0                  0.0   \n",
       "\n",
       "     num_net_okezone_jci  ...  num_net_kompas_jci  total_kompas_jci  \\\n",
       "360                  0.0  ...                 0.0               0.0   \n",
       "361                  0.0  ...                 0.0               0.0   \n",
       "362                  0.0  ...                 0.0               0.0   \n",
       "363                  0.0  ...                 1.0               2.0   \n",
       "364                  0.0  ...                 0.0               0.0   \n",
       "\n",
       "     num_pos_detik  num_neg_detik  num_net_detik  total_detik  \\\n",
       "360           14.0           11.0           14.0         39.0   \n",
       "361            3.0            5.0            9.0         17.0   \n",
       "362            1.0            3.0            8.0         12.0   \n",
       "363           12.0           13.0           12.0         37.0   \n",
       "364            0.0            0.0            0.0          0.0   \n",
       "\n",
       "     num_pos_detik_jci  num_neg_detik_jci  num_net_detik_jci  total_detik_jci  \n",
       "360                5.0                0.0                0.0              5.0  \n",
       "361                1.0                0.0                1.0              2.0  \n",
       "362                0.0                0.0                0.0              0.0  \n",
       "363                2.0                6.0                0.0              8.0  \n",
       "364                0.0                0.0                0.0              0.0  \n",
       "\n",
       "[5 rows x 27 columns]"
      ]
     },
     "execution_count": 89,
     "metadata": {},
     "output_type": "execute_result"
    }
   ],
   "source": [
    "df_news.tail()"
   ]
  },
  {
   "cell_type": "code",
   "execution_count": 90,
   "metadata": {
    "ExecuteTime": {
     "end_time": "2020-03-24T09:36:04.425102Z",
     "start_time": "2020-03-24T09:36:04.377167Z"
    },
    "scrolled": false
   },
   "outputs": [
    {
     "name": "stdout",
     "output_type": "stream",
     "text": [
      "<class 'pandas.core.frame.DataFrame'>\n",
      "Int64Index: 365 entries, 0 to 364\n",
      "Data columns (total 27 columns):\n",
      "date                   365 non-null object\n",
      "date_format            365 non-null datetime64[ns]\n",
      "month                  365 non-null object\n",
      "num_pos_okezone        365 non-null float64\n",
      "num_neg_okezone        365 non-null float64\n",
      "num_net_okezone        365 non-null float64\n",
      "total_okezone          365 non-null float64\n",
      "num_pos_okezone_jci    365 non-null float64\n",
      "num_neg_okezone_jci    365 non-null float64\n",
      "num_net_okezone_jci    365 non-null float64\n",
      "total_okezone_jci      365 non-null float64\n",
      "num_pos_kompas         365 non-null float64\n",
      "num_neg_kompas         365 non-null float64\n",
      "num_net_kompas         365 non-null float64\n",
      "total_kompas           365 non-null float64\n",
      "num_pos_kompas_jci     365 non-null float64\n",
      "num_neg_kompas_jci     365 non-null float64\n",
      "num_net_kompas_jci     365 non-null float64\n",
      "total_kompas_jci       365 non-null float64\n",
      "num_pos_detik          365 non-null float64\n",
      "num_neg_detik          365 non-null float64\n",
      "num_net_detik          365 non-null float64\n",
      "total_detik            365 non-null float64\n",
      "num_pos_detik_jci      365 non-null float64\n",
      "num_neg_detik_jci      365 non-null float64\n",
      "num_net_detik_jci      365 non-null float64\n",
      "total_detik_jci        365 non-null float64\n",
      "dtypes: datetime64[ns](1), float64(24), object(2)\n",
      "memory usage: 79.8+ KB\n"
     ]
    }
   ],
   "source": [
    "df_news.info()"
   ]
  },
  {
   "cell_type": "code",
   "execution_count": 91,
   "metadata": {
    "ExecuteTime": {
     "end_time": "2020-03-24T09:36:04.505648Z",
     "start_time": "2020-03-24T09:36:04.431370Z"
    },
    "scrolled": true
   },
   "outputs": [],
   "source": [
    "# Add day\n",
    "day_name = ['Monday','Tuesday','Wednesday','Thursday','Friday','Saturday','Sunday']\n",
    "day_news = []\n",
    "for i in range(df_news.shape[0]):\n",
    "    c = df_news['date_format'][i].weekday()\n",
    "    day_news.append(day_name[c])"
   ]
  },
  {
   "cell_type": "code",
   "execution_count": 92,
   "metadata": {
    "ExecuteTime": {
     "end_time": "2020-03-24T09:36:04.575478Z",
     "start_time": "2020-03-24T09:36:04.512898Z"
    }
   },
   "outputs": [],
   "source": [
    "df_news.insert(loc = 2, column = 'day', value = day_news)"
   ]
  },
  {
   "cell_type": "code",
   "execution_count": 93,
   "metadata": {
    "ExecuteTime": {
     "end_time": "2020-03-24T09:36:04.723345Z",
     "start_time": "2020-03-24T09:36:04.587101Z"
    },
    "scrolled": false
   },
   "outputs": [
    {
     "data": {
      "text/html": [
       "<div>\n",
       "<style scoped>\n",
       "    .dataframe tbody tr th:only-of-type {\n",
       "        vertical-align: middle;\n",
       "    }\n",
       "\n",
       "    .dataframe tbody tr th {\n",
       "        vertical-align: top;\n",
       "    }\n",
       "\n",
       "    .dataframe thead th {\n",
       "        text-align: right;\n",
       "    }\n",
       "</style>\n",
       "<table border=\"1\" class=\"dataframe\">\n",
       "  <thead>\n",
       "    <tr style=\"text-align: right;\">\n",
       "      <th></th>\n",
       "      <th>date</th>\n",
       "      <th>date_format</th>\n",
       "      <th>day</th>\n",
       "      <th>month</th>\n",
       "      <th>num_pos_okezone</th>\n",
       "      <th>num_neg_okezone</th>\n",
       "      <th>num_net_okezone</th>\n",
       "      <th>total_okezone</th>\n",
       "      <th>num_pos_okezone_jci</th>\n",
       "      <th>num_neg_okezone_jci</th>\n",
       "      <th>...</th>\n",
       "      <th>num_net_kompas_jci</th>\n",
       "      <th>total_kompas_jci</th>\n",
       "      <th>num_pos_detik</th>\n",
       "      <th>num_neg_detik</th>\n",
       "      <th>num_net_detik</th>\n",
       "      <th>total_detik</th>\n",
       "      <th>num_pos_detik_jci</th>\n",
       "      <th>num_neg_detik_jci</th>\n",
       "      <th>num_net_detik_jci</th>\n",
       "      <th>total_detik_jci</th>\n",
       "    </tr>\n",
       "  </thead>\n",
       "  <tbody>\n",
       "    <tr>\n",
       "      <th>0</th>\n",
       "      <td>01 Januari 2019</td>\n",
       "      <td>2019-01-01</td>\n",
       "      <td>Tuesday</td>\n",
       "      <td>Januari</td>\n",
       "      <td>9.0</td>\n",
       "      <td>1.0</td>\n",
       "      <td>2.0</td>\n",
       "      <td>12.0</td>\n",
       "      <td>1.0</td>\n",
       "      <td>0.0</td>\n",
       "      <td>...</td>\n",
       "      <td>0.0</td>\n",
       "      <td>0.0</td>\n",
       "      <td>3.0</td>\n",
       "      <td>1.0</td>\n",
       "      <td>4.0</td>\n",
       "      <td>8.0</td>\n",
       "      <td>0.0</td>\n",
       "      <td>0.0</td>\n",
       "      <td>0.0</td>\n",
       "      <td>0.0</td>\n",
       "    </tr>\n",
       "    <tr>\n",
       "      <th>1</th>\n",
       "      <td>02 Januari 2019</td>\n",
       "      <td>2019-01-02</td>\n",
       "      <td>Wednesday</td>\n",
       "      <td>Januari</td>\n",
       "      <td>20.0</td>\n",
       "      <td>12.0</td>\n",
       "      <td>1.0</td>\n",
       "      <td>33.0</td>\n",
       "      <td>3.0</td>\n",
       "      <td>2.0</td>\n",
       "      <td>...</td>\n",
       "      <td>0.0</td>\n",
       "      <td>1.0</td>\n",
       "      <td>17.0</td>\n",
       "      <td>10.0</td>\n",
       "      <td>5.0</td>\n",
       "      <td>32.0</td>\n",
       "      <td>3.0</td>\n",
       "      <td>2.0</td>\n",
       "      <td>0.0</td>\n",
       "      <td>5.0</td>\n",
       "    </tr>\n",
       "    <tr>\n",
       "      <th>2</th>\n",
       "      <td>03 Januari 2019</td>\n",
       "      <td>2019-01-03</td>\n",
       "      <td>Thursday</td>\n",
       "      <td>Januari</td>\n",
       "      <td>23.0</td>\n",
       "      <td>7.0</td>\n",
       "      <td>3.0</td>\n",
       "      <td>33.0</td>\n",
       "      <td>3.0</td>\n",
       "      <td>1.0</td>\n",
       "      <td>...</td>\n",
       "      <td>0.0</td>\n",
       "      <td>0.0</td>\n",
       "      <td>12.0</td>\n",
       "      <td>5.0</td>\n",
       "      <td>6.0</td>\n",
       "      <td>23.0</td>\n",
       "      <td>4.0</td>\n",
       "      <td>0.0</td>\n",
       "      <td>0.0</td>\n",
       "      <td>4.0</td>\n",
       "    </tr>\n",
       "  </tbody>\n",
       "</table>\n",
       "<p>3 rows × 28 columns</p>\n",
       "</div>"
      ],
      "text/plain": [
       "              date date_format        day    month  num_pos_okezone  \\\n",
       "0  01 Januari 2019  2019-01-01    Tuesday  Januari              9.0   \n",
       "1  02 Januari 2019  2019-01-02  Wednesday  Januari             20.0   \n",
       "2  03 Januari 2019  2019-01-03   Thursday  Januari             23.0   \n",
       "\n",
       "   num_neg_okezone  num_net_okezone  total_okezone  num_pos_okezone_jci  \\\n",
       "0              1.0              2.0           12.0                  1.0   \n",
       "1             12.0              1.0           33.0                  3.0   \n",
       "2              7.0              3.0           33.0                  3.0   \n",
       "\n",
       "   num_neg_okezone_jci  ...  num_net_kompas_jci  total_kompas_jci  \\\n",
       "0                  0.0  ...                 0.0               0.0   \n",
       "1                  2.0  ...                 0.0               1.0   \n",
       "2                  1.0  ...                 0.0               0.0   \n",
       "\n",
       "   num_pos_detik  num_neg_detik  num_net_detik  total_detik  \\\n",
       "0            3.0            1.0            4.0          8.0   \n",
       "1           17.0           10.0            5.0         32.0   \n",
       "2           12.0            5.0            6.0         23.0   \n",
       "\n",
       "   num_pos_detik_jci  num_neg_detik_jci  num_net_detik_jci  total_detik_jci  \n",
       "0                0.0                0.0                0.0              0.0  \n",
       "1                3.0                2.0                0.0              5.0  \n",
       "2                4.0                0.0                0.0              4.0  \n",
       "\n",
       "[3 rows x 28 columns]"
      ]
     },
     "execution_count": 93,
     "metadata": {},
     "output_type": "execute_result"
    }
   ],
   "source": [
    "df_news.head(3)"
   ]
  },
  {
   "cell_type": "markdown",
   "metadata": {},
   "source": [
    "## Save the Data"
   ]
  },
  {
   "cell_type": "code",
   "execution_count": 94,
   "metadata": {
    "ExecuteTime": {
     "end_time": "2020-03-24T09:36:04.776041Z",
     "start_time": "2020-03-24T09:36:04.729893Z"
    }
   },
   "outputs": [],
   "source": [
    "df_news.to_csv('Datasets/interim/Aggregation Data of Financial News.csv',index=False)"
   ]
  }
 ],
 "metadata": {
  "kernelspec": {
   "display_name": "Python 3",
   "language": "python",
   "name": "python3"
  },
  "language_info": {
   "codemirror_mode": {
    "name": "ipython",
    "version": 3
   },
   "file_extension": ".py",
   "mimetype": "text/x-python",
   "name": "python",
   "nbconvert_exporter": "python",
   "pygments_lexer": "ipython3",
   "version": "3.6.9"
  }
 },
 "nbformat": 4,
 "nbformat_minor": 2
}
