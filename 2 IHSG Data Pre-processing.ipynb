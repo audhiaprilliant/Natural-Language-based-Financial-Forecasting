{
 "cells": [
  {
   "cell_type": "markdown",
   "metadata": {},
   "source": [
    "# IHSG Pre-processing Data"
   ]
  },
  {
   "cell_type": "markdown",
   "metadata": {},
   "source": [
    "### Audhi Aprilliant"
   ]
  },
  {
   "cell_type": "markdown",
   "metadata": {},
   "source": [
    "## 1 Import Libraries"
   ]
  },
  {
   "cell_type": "code",
   "execution_count": 222,
   "metadata": {
    "ExecuteTime": {
     "end_time": "2020-03-06T19:06:29.344194Z",
     "start_time": "2020-03-06T19:06:29.336176Z"
    }
   },
   "outputs": [],
   "source": [
    "import pandas as pd                   # Dataframe manipulation\n",
    "import numpy as np                    # Mathematics operation"
   ]
  },
  {
   "cell_type": "markdown",
   "metadata": {},
   "source": [
    "## Load the Data"
   ]
  },
  {
   "cell_type": "code",
   "execution_count": 223,
   "metadata": {
    "ExecuteTime": {
     "end_time": "2020-03-06T19:06:29.435797Z",
     "start_time": "2020-03-06T19:06:29.351098Z"
    }
   },
   "outputs": [],
   "source": [
    "ihsg_data = pd.read_csv('Datasets/4 IHSG 2019.csv')"
   ]
  },
  {
   "cell_type": "code",
   "execution_count": 224,
   "metadata": {
    "ExecuteTime": {
     "end_time": "2020-03-06T19:06:29.544800Z",
     "start_time": "2020-03-06T19:06:29.449073Z"
    },
    "scrolled": true
   },
   "outputs": [
    {
     "name": "stdout",
     "output_type": "stream",
     "text": [
      "Dimension of financial news:\n",
      "371 rows and 8 columns\n"
     ]
    },
    {
     "data": {
      "text/html": [
       "<div>\n",
       "<style scoped>\n",
       "    .dataframe tbody tr th:only-of-type {\n",
       "        vertical-align: middle;\n",
       "    }\n",
       "\n",
       "    .dataframe tbody tr th {\n",
       "        vertical-align: top;\n",
       "    }\n",
       "\n",
       "    .dataframe thead th {\n",
       "        text-align: right;\n",
       "    }\n",
       "</style>\n",
       "<table border=\"1\" class=\"dataframe\">\n",
       "  <thead>\n",
       "    <tr style=\"text-align: right;\">\n",
       "      <th></th>\n",
       "      <th>Date</th>\n",
       "      <th>Open</th>\n",
       "      <th>High</th>\n",
       "      <th>Low</th>\n",
       "      <th>Close</th>\n",
       "      <th>Adj Close</th>\n",
       "      <th>Volume</th>\n",
       "      <th>Used</th>\n",
       "    </tr>\n",
       "  </thead>\n",
       "  <tbody>\n",
       "    <tr>\n",
       "      <th>0</th>\n",
       "      <td>2018-12-28</td>\n",
       "      <td>6200.296875</td>\n",
       "      <td>6212.12500</td>\n",
       "      <td>6176.630859</td>\n",
       "      <td>6194.498047</td>\n",
       "      <td>6194.498047</td>\n",
       "      <td>69954900.0</td>\n",
       "      <td>1</td>\n",
       "    </tr>\n",
       "    <tr>\n",
       "      <th>1</th>\n",
       "      <td>2018-12-29</td>\n",
       "      <td>NaN</td>\n",
       "      <td>NaN</td>\n",
       "      <td>NaN</td>\n",
       "      <td>NaN</td>\n",
       "      <td>NaN</td>\n",
       "      <td>NaN</td>\n",
       "      <td>0</td>\n",
       "    </tr>\n",
       "    <tr>\n",
       "      <th>2</th>\n",
       "      <td>2018-12-30</td>\n",
       "      <td>NaN</td>\n",
       "      <td>NaN</td>\n",
       "      <td>NaN</td>\n",
       "      <td>NaN</td>\n",
       "      <td>NaN</td>\n",
       "      <td>NaN</td>\n",
       "      <td>0</td>\n",
       "    </tr>\n",
       "    <tr>\n",
       "      <th>3</th>\n",
       "      <td>2018-12-31</td>\n",
       "      <td>NaN</td>\n",
       "      <td>NaN</td>\n",
       "      <td>NaN</td>\n",
       "      <td>NaN</td>\n",
       "      <td>NaN</td>\n",
       "      <td>NaN</td>\n",
       "      <td>0</td>\n",
       "    </tr>\n",
       "    <tr>\n",
       "      <th>4</th>\n",
       "      <td>2019-01-01</td>\n",
       "      <td>NaN</td>\n",
       "      <td>NaN</td>\n",
       "      <td>NaN</td>\n",
       "      <td>NaN</td>\n",
       "      <td>NaN</td>\n",
       "      <td>NaN</td>\n",
       "      <td>0</td>\n",
       "    </tr>\n",
       "    <tr>\n",
       "      <th>5</th>\n",
       "      <td>2019-01-02</td>\n",
       "      <td>6197.871094</td>\n",
       "      <td>6205.89502</td>\n",
       "      <td>6164.833984</td>\n",
       "      <td>6181.174805</td>\n",
       "      <td>6181.174805</td>\n",
       "      <td>52797800.0</td>\n",
       "      <td>1</td>\n",
       "    </tr>\n",
       "  </tbody>\n",
       "</table>\n",
       "</div>"
      ],
      "text/plain": [
       "         Date         Open        High          Low        Close    Adj Close  \\\n",
       "0  2018-12-28  6200.296875  6212.12500  6176.630859  6194.498047  6194.498047   \n",
       "1  2018-12-29          NaN         NaN          NaN          NaN          NaN   \n",
       "2  2018-12-30          NaN         NaN          NaN          NaN          NaN   \n",
       "3  2018-12-31          NaN         NaN          NaN          NaN          NaN   \n",
       "4  2019-01-01          NaN         NaN          NaN          NaN          NaN   \n",
       "5  2019-01-02  6197.871094  6205.89502  6164.833984  6181.174805  6181.174805   \n",
       "\n",
       "       Volume  Used  \n",
       "0  69954900.0     1  \n",
       "1         NaN     0  \n",
       "2         NaN     0  \n",
       "3         NaN     0  \n",
       "4         NaN     0  \n",
       "5  52797800.0     1  "
      ]
     },
     "execution_count": 224,
     "metadata": {},
     "output_type": "execute_result"
    }
   ],
   "source": [
    "print('Dimension of financial news:\\n{}'.format(ihsg_data.shape[0]),\n",
    "      'rows and {}'.format(ihsg_data.shape[1]),'columns')\n",
    "ihsg_data.head(6)"
   ]
  },
  {
   "cell_type": "code",
   "execution_count": 225,
   "metadata": {
    "ExecuteTime": {
     "end_time": "2020-03-06T19:06:29.629803Z",
     "start_time": "2020-03-06T19:06:29.551544Z"
    },
    "scrolled": false
   },
   "outputs": [
    {
     "data": {
      "text/plain": [
       "Date           0\n",
       "Open         124\n",
       "High         124\n",
       "Low          124\n",
       "Close        124\n",
       "Adj Close    124\n",
       "Volume       124\n",
       "Used           0\n",
       "dtype: int64"
      ]
     },
     "execution_count": 225,
     "metadata": {},
     "output_type": "execute_result"
    }
   ],
   "source": [
    "# Check missing value\n",
    "ihsg_data.isna().sum()"
   ]
  },
  {
   "cell_type": "markdown",
   "metadata": {},
   "source": [
    "## 2 Function to Calculate the Return of IHSG"
   ]
  },
  {
   "cell_type": "code",
   "execution_count": 226,
   "metadata": {
    "ExecuteTime": {
     "end_time": "2020-03-06T19:06:29.697093Z",
     "start_time": "2020-03-06T19:06:29.637689Z"
    }
   },
   "outputs": [],
   "source": [
    "def return_ihsg(df):\n",
    "    df_no_na = df.dropna().reset_index(drop=True)\n",
    "    return_data = [0]\n",
    "    index_data = list(df_no_na.index)\n",
    "    for i in range(1,len(index_data)):\n",
    "        return_i = (df_no_na['Adj Close'][index_data[i]] - \n",
    "                    df_no_na['Adj Close'][index_data[i-1]])/df_no_na['Adj Close'][index_data[i]]\n",
    "        return_data.append(return_i)\n",
    "    df_no_na = pd.concat([df_no_na['Date'],pd.DataFrame(return_data)],axis=1)\n",
    "    df_full = pd.merge(df,df_no_na,on='Date',how='left')\n",
    "    df_full = df_full.rename(columns = {0:'Return'})\n",
    "    return df_full"
   ]
  },
  {
   "cell_type": "markdown",
   "metadata": {
    "ExecuteTime": {
     "end_time": "2020-03-04T09:24:24.082912Z",
     "start_time": "2020-03-04T09:24:24.066687Z"
    }
   },
   "source": [
    "## 3 Function to Apply Curve Function"
   ]
  },
  {
   "cell_type": "code",
   "execution_count": 227,
   "metadata": {
    "ExecuteTime": {
     "end_time": "2020-03-06T19:06:29.765337Z",
     "start_time": "2020-03-06T19:06:29.705067Z"
    },
    "scrolled": true
   },
   "outputs": [],
   "source": [
    "def curve_function(df):\n",
    "    for i in df.columns:\n",
    "        while df[i].isna().sum() > 0:\n",
    "            for j in range(df.shape[0]):\n",
    "                if pd.isnull(df.loc[j,i]):\n",
    "                    seq_k = [j]\n",
    "                    k = j\n",
    "                    while pd.isnull(df.loc[k,i]):\n",
    "                        k = k + 1\n",
    "                        seq_k.append(k)\n",
    "                    if len(seq_k) % 2 == 0:\n",
    "                        df.loc[seq_k[int((len(seq_k) - 1)/2)],i] = (df.loc[j - 1,i] + \n",
    "                                                                    df.loc[seq_k[len(seq_k) - 1],i])/2\n",
    "                    else:\n",
    "                        df.loc[seq_k[int((len(seq_k) - 1)/2)],i] = (df.loc[j - 1,i] + \n",
    "                                                                    df.loc[seq_k[len(seq_k) - 1],i])/2\n",
    "                else:\n",
    "                    df.loc[j,i] = df.loc[j,i]\n",
    "    return(df)"
   ]
  },
  {
   "cell_type": "markdown",
   "metadata": {},
   "source": [
    "## 4 Apply Functions Above"
   ]
  },
  {
   "cell_type": "code",
   "execution_count": 228,
   "metadata": {
    "ExecuteTime": {
     "end_time": "2020-03-06T19:06:29.971436Z",
     "start_time": "2020-03-06T19:06:29.774771Z"
    },
    "scrolled": true
   },
   "outputs": [
    {
     "name": "stdout",
     "output_type": "stream",
     "text": [
      "Dimension of financial news:\n",
      "371 rows and 9 columns\n"
     ]
    },
    {
     "data": {
      "text/html": [
       "<div>\n",
       "<style scoped>\n",
       "    .dataframe tbody tr th:only-of-type {\n",
       "        vertical-align: middle;\n",
       "    }\n",
       "\n",
       "    .dataframe tbody tr th {\n",
       "        vertical-align: top;\n",
       "    }\n",
       "\n",
       "    .dataframe thead th {\n",
       "        text-align: right;\n",
       "    }\n",
       "</style>\n",
       "<table border=\"1\" class=\"dataframe\">\n",
       "  <thead>\n",
       "    <tr style=\"text-align: right;\">\n",
       "      <th></th>\n",
       "      <th>Date</th>\n",
       "      <th>Open</th>\n",
       "      <th>High</th>\n",
       "      <th>Low</th>\n",
       "      <th>Close</th>\n",
       "      <th>Adj Close</th>\n",
       "      <th>Volume</th>\n",
       "      <th>Used</th>\n",
       "      <th>Return</th>\n",
       "    </tr>\n",
       "  </thead>\n",
       "  <tbody>\n",
       "    <tr>\n",
       "      <th>0</th>\n",
       "      <td>2018-12-28</td>\n",
       "      <td>6200.296875</td>\n",
       "      <td>6212.125</td>\n",
       "      <td>6176.630859</td>\n",
       "      <td>6194.498047</td>\n",
       "      <td>6194.498047</td>\n",
       "      <td>69954900.0</td>\n",
       "      <td>1</td>\n",
       "      <td>0.0</td>\n",
       "    </tr>\n",
       "    <tr>\n",
       "      <th>1</th>\n",
       "      <td>2018-12-29</td>\n",
       "      <td>NaN</td>\n",
       "      <td>NaN</td>\n",
       "      <td>NaN</td>\n",
       "      <td>NaN</td>\n",
       "      <td>NaN</td>\n",
       "      <td>NaN</td>\n",
       "      <td>0</td>\n",
       "      <td>NaN</td>\n",
       "    </tr>\n",
       "    <tr>\n",
       "      <th>2</th>\n",
       "      <td>2018-12-30</td>\n",
       "      <td>NaN</td>\n",
       "      <td>NaN</td>\n",
       "      <td>NaN</td>\n",
       "      <td>NaN</td>\n",
       "      <td>NaN</td>\n",
       "      <td>NaN</td>\n",
       "      <td>0</td>\n",
       "      <td>NaN</td>\n",
       "    </tr>\n",
       "    <tr>\n",
       "      <th>3</th>\n",
       "      <td>2018-12-31</td>\n",
       "      <td>NaN</td>\n",
       "      <td>NaN</td>\n",
       "      <td>NaN</td>\n",
       "      <td>NaN</td>\n",
       "      <td>NaN</td>\n",
       "      <td>NaN</td>\n",
       "      <td>0</td>\n",
       "      <td>NaN</td>\n",
       "    </tr>\n",
       "    <tr>\n",
       "      <th>4</th>\n",
       "      <td>2019-01-01</td>\n",
       "      <td>NaN</td>\n",
       "      <td>NaN</td>\n",
       "      <td>NaN</td>\n",
       "      <td>NaN</td>\n",
       "      <td>NaN</td>\n",
       "      <td>NaN</td>\n",
       "      <td>0</td>\n",
       "      <td>NaN</td>\n",
       "    </tr>\n",
       "  </tbody>\n",
       "</table>\n",
       "</div>"
      ],
      "text/plain": [
       "         Date         Open      High          Low        Close    Adj Close  \\\n",
       "0  2018-12-28  6200.296875  6212.125  6176.630859  6194.498047  6194.498047   \n",
       "1  2018-12-29          NaN       NaN          NaN          NaN          NaN   \n",
       "2  2018-12-30          NaN       NaN          NaN          NaN          NaN   \n",
       "3  2018-12-31          NaN       NaN          NaN          NaN          NaN   \n",
       "4  2019-01-01          NaN       NaN          NaN          NaN          NaN   \n",
       "\n",
       "       Volume  Used  Return  \n",
       "0  69954900.0     1     0.0  \n",
       "1         NaN     0     NaN  \n",
       "2         NaN     0     NaN  \n",
       "3         NaN     0     NaN  \n",
       "4         NaN     0     NaN  "
      ]
     },
     "execution_count": 228,
     "metadata": {},
     "output_type": "execute_result"
    }
   ],
   "source": [
    "ihsg_data_clean = return_ihsg(ihsg_data)\n",
    "print('Dimension of financial news:\\n{}'.format(ihsg_data_clean.shape[0]),\n",
    "      'rows and {}'.format(ihsg_data_clean.shape[1]),'columns')\n",
    "ihsg_data_clean.head()"
   ]
  },
  {
   "cell_type": "code",
   "execution_count": 229,
   "metadata": {
    "ExecuteTime": {
     "end_time": "2020-03-06T19:06:47.893110Z",
     "start_time": "2020-03-06T19:06:29.982536Z"
    },
    "scrolled": true
   },
   "outputs": [
    {
     "name": "stdout",
     "output_type": "stream",
     "text": [
      "Dimension of financial news:\n",
      "371 rows and 9 columns\n"
     ]
    },
    {
     "data": {
      "text/html": [
       "<div>\n",
       "<style scoped>\n",
       "    .dataframe tbody tr th:only-of-type {\n",
       "        vertical-align: middle;\n",
       "    }\n",
       "\n",
       "    .dataframe tbody tr th {\n",
       "        vertical-align: top;\n",
       "    }\n",
       "\n",
       "    .dataframe thead th {\n",
       "        text-align: right;\n",
       "    }\n",
       "</style>\n",
       "<table border=\"1\" class=\"dataframe\">\n",
       "  <thead>\n",
       "    <tr style=\"text-align: right;\">\n",
       "      <th></th>\n",
       "      <th>Date</th>\n",
       "      <th>Open</th>\n",
       "      <th>High</th>\n",
       "      <th>Low</th>\n",
       "      <th>Close</th>\n",
       "      <th>Adj Close</th>\n",
       "      <th>Volume</th>\n",
       "      <th>Used</th>\n",
       "      <th>Return</th>\n",
       "    </tr>\n",
       "  </thead>\n",
       "  <tbody>\n",
       "    <tr>\n",
       "      <th>0</th>\n",
       "      <td>2018-12-28</td>\n",
       "      <td>6200.296875</td>\n",
       "      <td>6212.125000</td>\n",
       "      <td>6176.630859</td>\n",
       "      <td>6194.498047</td>\n",
       "      <td>6194.498047</td>\n",
       "      <td>69954900.0</td>\n",
       "      <td>1</td>\n",
       "      <td>0.000000</td>\n",
       "    </tr>\n",
       "    <tr>\n",
       "      <th>1</th>\n",
       "      <td>2018-12-29</td>\n",
       "      <td>6199.993652</td>\n",
       "      <td>6211.346252</td>\n",
       "      <td>6175.156250</td>\n",
       "      <td>6192.832642</td>\n",
       "      <td>6192.832642</td>\n",
       "      <td>67810262.5</td>\n",
       "      <td>0</td>\n",
       "      <td>-0.000269</td>\n",
       "    </tr>\n",
       "    <tr>\n",
       "      <th>2</th>\n",
       "      <td>2018-12-30</td>\n",
       "      <td>6199.690430</td>\n",
       "      <td>6210.567505</td>\n",
       "      <td>6173.681640</td>\n",
       "      <td>6191.167236</td>\n",
       "      <td>6191.167236</td>\n",
       "      <td>65665625.0</td>\n",
       "      <td>0</td>\n",
       "      <td>-0.000539</td>\n",
       "    </tr>\n",
       "    <tr>\n",
       "      <th>3</th>\n",
       "      <td>2018-12-31</td>\n",
       "      <td>6199.083985</td>\n",
       "      <td>6209.010010</td>\n",
       "      <td>6170.732422</td>\n",
       "      <td>6187.836426</td>\n",
       "      <td>6187.836426</td>\n",
       "      <td>61376350.0</td>\n",
       "      <td>0</td>\n",
       "      <td>-0.001078</td>\n",
       "    </tr>\n",
       "    <tr>\n",
       "      <th>4</th>\n",
       "      <td>2019-01-01</td>\n",
       "      <td>6198.477539</td>\n",
       "      <td>6207.452515</td>\n",
       "      <td>6167.783203</td>\n",
       "      <td>6184.505616</td>\n",
       "      <td>6184.505616</td>\n",
       "      <td>57087075.0</td>\n",
       "      <td>0</td>\n",
       "      <td>-0.001617</td>\n",
       "    </tr>\n",
       "  </tbody>\n",
       "</table>\n",
       "</div>"
      ],
      "text/plain": [
       "         Date         Open         High          Low        Close  \\\n",
       "0  2018-12-28  6200.296875  6212.125000  6176.630859  6194.498047   \n",
       "1  2018-12-29  6199.993652  6211.346252  6175.156250  6192.832642   \n",
       "2  2018-12-30  6199.690430  6210.567505  6173.681640  6191.167236   \n",
       "3  2018-12-31  6199.083985  6209.010010  6170.732422  6187.836426   \n",
       "4  2019-01-01  6198.477539  6207.452515  6167.783203  6184.505616   \n",
       "\n",
       "     Adj Close      Volume  Used    Return  \n",
       "0  6194.498047  69954900.0     1  0.000000  \n",
       "1  6192.832642  67810262.5     0 -0.000269  \n",
       "2  6191.167236  65665625.0     0 -0.000539  \n",
       "3  6187.836426  61376350.0     0 -0.001078  \n",
       "4  6184.505616  57087075.0     0 -0.001617  "
      ]
     },
     "execution_count": 229,
     "metadata": {},
     "output_type": "execute_result"
    }
   ],
   "source": [
    "ihsg_data_curve = curve_function(ihsg_data_clean)\n",
    "print('Dimension of financial news:\\n{}'.format(ihsg_data_curve.shape[0]),\n",
    "      'rows and {}'.format(ihsg_data_curve.shape[1]),'columns')\n",
    "ihsg_data_curve.head()"
   ]
  },
  {
   "cell_type": "markdown",
   "metadata": {},
   "source": [
    "## Save Data"
   ]
  },
  {
   "cell_type": "code",
   "execution_count": 230,
   "metadata": {
    "ExecuteTime": {
     "end_time": "2020-03-06T19:08:52.496746Z",
     "start_time": "2020-03-06T19:08:52.213822Z"
    }
   },
   "outputs": [],
   "source": [
    "ihsg_data_curve.to_csv(\"Datasets/interim/Clean Data of JCI 2019.csv\",index=False)"
   ]
  }
 ],
 "metadata": {
  "kernelspec": {
   "display_name": "Python 3",
   "language": "python",
   "name": "python3"
  },
  "language_info": {
   "codemirror_mode": {
    "name": "ipython",
    "version": 3
   },
   "file_extension": ".py",
   "mimetype": "text/x-python",
   "name": "python",
   "nbconvert_exporter": "python",
   "pygments_lexer": "ipython3",
   "version": "3.6.9"
  }
 },
 "nbformat": 4,
 "nbformat_minor": 2
}
