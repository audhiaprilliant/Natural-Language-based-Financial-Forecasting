{
 "cells": [
  {
   "cell_type": "markdown",
   "metadata": {},
   "source": [
    "# Data Visualization of Financial News Data"
   ]
  },
  {
   "cell_type": "markdown",
   "metadata": {},
   "source": [
    "### Audhi Aprilliant"
   ]
  },
  {
   "cell_type": "markdown",
   "metadata": {},
   "source": [
    "## 1 Import Modules"
   ]
  },
  {
   "cell_type": "code",
   "execution_count": 1,
   "metadata": {
    "ExecuteTime": {
     "end_time": "2020-03-21T08:17:40.188339Z",
     "start_time": "2020-03-21T08:17:20.197299Z"
    }
   },
   "outputs": [],
   "source": [
    "import pandas as pd                   # Dataframe manipulation\n",
    "import numpy as np                    # Mathematics operation\n",
    "import matplotlib.pyplot as plt       # Data visualization\n",
    "import seaborn as sns\n",
    "from wordcloud import WordCloud       # Wordclouds\n",
    "# N-Grams\n",
    "import nltk\n",
    "from sklearn.feature_extraction.text import CountVectorizer\n",
    "import networkx as nx\n",
    "from nltk.util import ngrams\n",
    "# Text pre-processing\n",
    "import re                             # Regular expression\n",
    "import itertools\n",
    "import collections                    # Collections\n",
    "import string\n",
    "from collections import OrderedDict\n",
    "from Sastrawi.Stemmer.StemmerFactory import StemmerFactory\n",
    "from Sastrawi.StopWordRemover.StopWordRemoverFactory import StopWordRemoverFactory,StopWordRemover,ArrayDictionary\n",
    "from nltk.tokenize import word_tokenize"
   ]
  },
  {
   "cell_type": "markdown",
   "metadata": {},
   "source": [
    "## 2 Load the Data"
   ]
  },
  {
   "cell_type": "code",
   "execution_count": 2,
   "metadata": {
    "ExecuteTime": {
     "end_time": "2020-03-21T08:17:40.565478Z",
     "start_time": "2020-03-21T08:17:40.194325Z"
    }
   },
   "outputs": [],
   "source": [
    "data_okezone = pd.read_csv('Datasets/1 Okezone 2019.csv')  # Okezone\n",
    "data_kompas = pd.read_csv('Datasets/2 Kompas 2019.csv')    # Kompas\n",
    "data_detik = pd.read_csv('Datasets/3 Detik 2019.csv')      # Detik"
   ]
  },
  {
   "cell_type": "code",
   "execution_count": 3,
   "metadata": {
    "ExecuteTime": {
     "end_time": "2020-03-21T08:17:40.585247Z",
     "start_time": "2020-03-21T08:17:40.570661Z"
    }
   },
   "outputs": [
    {
     "name": "stdout",
     "output_type": "stream",
     "text": [
      "Dimension of Okezone data: 7753\n",
      "Dimension of Kompas data:  3936\n",
      "Dimension of Detik data:   8118\n"
     ]
    }
   ],
   "source": [
    "print('Dimension of Okezone data: {}'.format(data_okezone.shape[0]))\n",
    "print('Dimension of Kompas data:  {}'.format(data_kompas.shape[0]))\n",
    "print('Dimension of Detik data:   {}'.format(data_detik.shape[0]))"
   ]
  },
  {
   "cell_type": "code",
   "execution_count": 4,
   "metadata": {
    "ExecuteTime": {
     "end_time": "2020-03-21T08:17:40.696363Z",
     "start_time": "2020-03-21T08:17:40.592755Z"
    }
   },
   "outputs": [],
   "source": [
    "# Assign label\n",
    "okezone_lab = pd.Series(['Okezone']*data_okezone.shape[0],name='news')\n",
    "kompas_lab = pd.Series(['Kompas']*data_kompas.shape[0],name='news')\n",
    "detik_lab = pd.Series(['Detik']*data_detik.shape[0],name='news')\n",
    "# Concate dataframe and labels\n",
    "data_okezone = pd.concat([data_okezone,okezone_lab],axis=1)\n",
    "data_kompas = pd.concat([data_kompas,kompas_lab],axis=1)\n",
    "data_detik = pd.concat([data_detik,detik_lab],axis=1)\n",
    "# Combine the data\n",
    "df_full = pd.concat([data_okezone,data_kompas,data_detik],axis=0)"
   ]
  },
  {
   "cell_type": "code",
   "execution_count": 5,
   "metadata": {
    "ExecuteTime": {
     "end_time": "2020-03-21T08:17:41.390371Z",
     "start_time": "2020-03-21T08:17:40.702178Z"
    },
    "scrolled": true
   },
   "outputs": [
    {
     "data": {
      "text/html": [
       "<div>\n",
       "<style scoped>\n",
       "    .dataframe tbody tr th:only-of-type {\n",
       "        vertical-align: middle;\n",
       "    }\n",
       "\n",
       "    .dataframe tbody tr th {\n",
       "        vertical-align: top;\n",
       "    }\n",
       "\n",
       "    .dataframe thead th {\n",
       "        text-align: right;\n",
       "    }\n",
       "</style>\n",
       "<table border=\"1\" class=\"dataframe\">\n",
       "  <thead>\n",
       "    <tr style=\"text-align: right;\">\n",
       "      <th></th>\n",
       "      <th>date</th>\n",
       "      <th>title</th>\n",
       "      <th>time</th>\n",
       "      <th>class</th>\n",
       "      <th>news</th>\n",
       "    </tr>\n",
       "  </thead>\n",
       "  <tbody>\n",
       "    <tr>\n",
       "      <th>0</th>\n",
       "      <td>01 Januari 2019</td>\n",
       "      <td>5 Alasan Pilih Kos-kosan Sebagai Resolusi Bisn...</td>\n",
       "      <td>20:37 WIB</td>\n",
       "      <td>Neutral</td>\n",
       "      <td>Okezone</td>\n",
       "    </tr>\n",
       "    <tr>\n",
       "      <th>1</th>\n",
       "      <td>01 Januari 2019</td>\n",
       "      <td>Dulu Rp100.000/Liter, Kini 131 Wilayah Nikmati...</td>\n",
       "      <td>18:18 WIB</td>\n",
       "      <td>Positive</td>\n",
       "      <td>Okezone</td>\n",
       "    </tr>\n",
       "    <tr>\n",
       "      <th>2</th>\n",
       "      <td>01 Januari 2019</td>\n",
       "      <td>Realisasi Anggaran KESDM di Atas 87%, Terbesar...</td>\n",
       "      <td>18:18 WIB</td>\n",
       "      <td>Positive</td>\n",
       "      <td>Okezone</td>\n",
       "    </tr>\n",
       "    <tr>\n",
       "      <th>3</th>\n",
       "      <td>01 Januari 2019</td>\n",
       "      <td>Making Indonesia 4.0 Wujudkan Perekonomian Ter...</td>\n",
       "      <td>16:23 WIB</td>\n",
       "      <td>Positive</td>\n",
       "      <td>Okezone</td>\n",
       "    </tr>\n",
       "    <tr>\n",
       "      <th>4</th>\n",
       "      <td>01 Januari 2019</td>\n",
       "      <td>Ekspor PT Timah Tembus 33.250 M/T pada 2018</td>\n",
       "      <td>16:17 WIB</td>\n",
       "      <td>Positive</td>\n",
       "      <td>Okezone</td>\n",
       "    </tr>\n",
       "  </tbody>\n",
       "</table>\n",
       "</div>"
      ],
      "text/plain": [
       "              date                                              title  \\\n",
       "0  01 Januari 2019  5 Alasan Pilih Kos-kosan Sebagai Resolusi Bisn...   \n",
       "1  01 Januari 2019  Dulu Rp100.000/Liter, Kini 131 Wilayah Nikmati...   \n",
       "2  01 Januari 2019  Realisasi Anggaran KESDM di Atas 87%, Terbesar...   \n",
       "3  01 Januari 2019  Making Indonesia 4.0 Wujudkan Perekonomian Ter...   \n",
       "4  01 Januari 2019        Ekspor PT Timah Tembus 33.250 M/T pada 2018   \n",
       "\n",
       "        time     class     news  \n",
       "0  20:37 WIB   Neutral  Okezone  \n",
       "1  18:18 WIB  Positive  Okezone  \n",
       "2  18:18 WIB  Positive  Okezone  \n",
       "3  16:23 WIB  Positive  Okezone  \n",
       "4  16:17 WIB  Positive  Okezone  "
      ]
     },
     "execution_count": 5,
     "metadata": {},
     "output_type": "execute_result"
    }
   ],
   "source": [
    "# Sample data\n",
    "df_full.head()"
   ]
  },
  {
   "cell_type": "code",
   "execution_count": 6,
   "metadata": {
    "ExecuteTime": {
     "end_time": "2020-03-21T08:17:41.499970Z",
     "start_time": "2020-03-21T08:17:41.397174Z"
    }
   },
   "outputs": [
    {
     "name": "stdout",
     "output_type": "stream",
     "text": [
      "<class 'pandas.core.frame.DataFrame'>\n",
      "Int64Index: 19807 entries, 0 to 8117\n",
      "Data columns (total 5 columns):\n",
      "date     19807 non-null object\n",
      "title    19807 non-null object\n",
      "time     19807 non-null object\n",
      "class    19807 non-null object\n",
      "news     19807 non-null object\n",
      "dtypes: object(5)\n",
      "memory usage: 928.5+ KB\n"
     ]
    }
   ],
   "source": [
    "df_full.info()"
   ]
  },
  {
   "cell_type": "markdown",
   "metadata": {},
   "source": [
    "## 3 Data Pre-processing"
   ]
  },
  {
   "cell_type": "markdown",
   "metadata": {},
   "source": [
    "### 3.1 Duplicated data removal"
   ]
  },
  {
   "cell_type": "code",
   "execution_count": 7,
   "metadata": {
    "ExecuteTime": {
     "end_time": "2020-03-21T08:17:41.626093Z",
     "start_time": "2020-03-21T08:17:41.505476Z"
    }
   },
   "outputs": [
    {
     "name": "stdout",
     "output_type": "stream",
     "text": [
      "Dimension of non-duplicated data:\n",
      "19722 rows and 5 columns\n"
     ]
    }
   ],
   "source": [
    "df_full = df_full.drop_duplicates(subset=['title']).reset_index(drop=True)\n",
    "print('Dimension of non-duplicated data:\\n{}'.format(df_full.shape[0]),\n",
    "      'rows and {}'.format(df_full.shape[1]),'columns')"
   ]
  },
  {
   "cell_type": "markdown",
   "metadata": {},
   "source": [
    "### 3.2.1 Tokenization - case folding"
   ]
  },
  {
   "cell_type": "code",
   "execution_count": 8,
   "metadata": {
    "ExecuteTime": {
     "end_time": "2020-03-21T08:17:41.756206Z",
     "start_time": "2020-03-21T08:17:41.635068Z"
    }
   },
   "outputs": [],
   "source": [
    "df_full['title'] = df_full['title'].apply(lambda x: x.lower())"
   ]
  },
  {
   "cell_type": "code",
   "execution_count": 9,
   "metadata": {
    "ExecuteTime": {
     "end_time": "2020-03-21T08:17:41.832851Z",
     "start_time": "2020-03-21T08:17:41.762300Z"
    }
   },
   "outputs": [
    {
     "data": {
      "text/html": [
       "<div>\n",
       "<style scoped>\n",
       "    .dataframe tbody tr th:only-of-type {\n",
       "        vertical-align: middle;\n",
       "    }\n",
       "\n",
       "    .dataframe tbody tr th {\n",
       "        vertical-align: top;\n",
       "    }\n",
       "\n",
       "    .dataframe thead th {\n",
       "        text-align: right;\n",
       "    }\n",
       "</style>\n",
       "<table border=\"1\" class=\"dataframe\">\n",
       "  <thead>\n",
       "    <tr style=\"text-align: right;\">\n",
       "      <th></th>\n",
       "      <th>date</th>\n",
       "      <th>title</th>\n",
       "      <th>time</th>\n",
       "      <th>class</th>\n",
       "      <th>news</th>\n",
       "    </tr>\n",
       "  </thead>\n",
       "  <tbody>\n",
       "    <tr>\n",
       "      <th>0</th>\n",
       "      <td>01 Januari 2019</td>\n",
       "      <td>5 alasan pilih kos-kosan sebagai resolusi bisn...</td>\n",
       "      <td>20:37 WIB</td>\n",
       "      <td>Neutral</td>\n",
       "      <td>Okezone</td>\n",
       "    </tr>\n",
       "    <tr>\n",
       "      <th>1</th>\n",
       "      <td>01 Januari 2019</td>\n",
       "      <td>dulu rp100.000/liter, kini 131 wilayah nikmati...</td>\n",
       "      <td>18:18 WIB</td>\n",
       "      <td>Positive</td>\n",
       "      <td>Okezone</td>\n",
       "    </tr>\n",
       "    <tr>\n",
       "      <th>2</th>\n",
       "      <td>01 Januari 2019</td>\n",
       "      <td>realisasi anggaran kesdm di atas 87%, terbesar...</td>\n",
       "      <td>18:18 WIB</td>\n",
       "      <td>Positive</td>\n",
       "      <td>Okezone</td>\n",
       "    </tr>\n",
       "    <tr>\n",
       "      <th>3</th>\n",
       "      <td>01 Januari 2019</td>\n",
       "      <td>making indonesia 4.0 wujudkan perekonomian ter...</td>\n",
       "      <td>16:23 WIB</td>\n",
       "      <td>Positive</td>\n",
       "      <td>Okezone</td>\n",
       "    </tr>\n",
       "    <tr>\n",
       "      <th>4</th>\n",
       "      <td>01 Januari 2019</td>\n",
       "      <td>ekspor pt timah tembus 33.250 m/t pada 2018</td>\n",
       "      <td>16:17 WIB</td>\n",
       "      <td>Positive</td>\n",
       "      <td>Okezone</td>\n",
       "    </tr>\n",
       "  </tbody>\n",
       "</table>\n",
       "</div>"
      ],
      "text/plain": [
       "              date                                              title  \\\n",
       "0  01 Januari 2019  5 alasan pilih kos-kosan sebagai resolusi bisn...   \n",
       "1  01 Januari 2019  dulu rp100.000/liter, kini 131 wilayah nikmati...   \n",
       "2  01 Januari 2019  realisasi anggaran kesdm di atas 87%, terbesar...   \n",
       "3  01 Januari 2019  making indonesia 4.0 wujudkan perekonomian ter...   \n",
       "4  01 Januari 2019        ekspor pt timah tembus 33.250 m/t pada 2018   \n",
       "\n",
       "        time     class     news  \n",
       "0  20:37 WIB   Neutral  Okezone  \n",
       "1  18:18 WIB  Positive  Okezone  \n",
       "2  18:18 WIB  Positive  Okezone  \n",
       "3  16:23 WIB  Positive  Okezone  \n",
       "4  16:17 WIB  Positive  Okezone  "
      ]
     },
     "execution_count": 9,
     "metadata": {},
     "output_type": "execute_result"
    }
   ],
   "source": [
    "df_full.head()"
   ]
  },
  {
   "cell_type": "markdown",
   "metadata": {
    "ExecuteTime": {
     "end_time": "2020-03-20T06:12:37.015648Z",
     "start_time": "2020-03-20T06:12:37.001002Z"
    }
   },
   "source": [
    "### 3.2.2 Tokenization - number removal"
   ]
  },
  {
   "cell_type": "code",
   "execution_count": 10,
   "metadata": {
    "ExecuteTime": {
     "end_time": "2020-03-21T08:17:41.905387Z",
     "start_time": "2020-03-21T08:17:41.837722Z"
    }
   },
   "outputs": [],
   "source": [
    "def number_removal(data_text):\n",
    "    return re.sub('\\d+','',data_text)"
   ]
  },
  {
   "cell_type": "code",
   "execution_count": 11,
   "metadata": {
    "ExecuteTime": {
     "end_time": "2020-03-21T08:17:42.151576Z",
     "start_time": "2020-03-21T08:17:41.912919Z"
    }
   },
   "outputs": [],
   "source": [
    "df_full['title'] = df_full['title'].apply(number_removal)"
   ]
  },
  {
   "cell_type": "code",
   "execution_count": 12,
   "metadata": {
    "ExecuteTime": {
     "end_time": "2020-03-21T08:17:42.184681Z",
     "start_time": "2020-03-21T08:17:42.155559Z"
    },
    "scrolled": true
   },
   "outputs": [
    {
     "data": {
      "text/html": [
       "<div>\n",
       "<style scoped>\n",
       "    .dataframe tbody tr th:only-of-type {\n",
       "        vertical-align: middle;\n",
       "    }\n",
       "\n",
       "    .dataframe tbody tr th {\n",
       "        vertical-align: top;\n",
       "    }\n",
       "\n",
       "    .dataframe thead th {\n",
       "        text-align: right;\n",
       "    }\n",
       "</style>\n",
       "<table border=\"1\" class=\"dataframe\">\n",
       "  <thead>\n",
       "    <tr style=\"text-align: right;\">\n",
       "      <th></th>\n",
       "      <th>date</th>\n",
       "      <th>title</th>\n",
       "      <th>time</th>\n",
       "      <th>class</th>\n",
       "      <th>news</th>\n",
       "    </tr>\n",
       "  </thead>\n",
       "  <tbody>\n",
       "    <tr>\n",
       "      <th>0</th>\n",
       "      <td>01 Januari 2019</td>\n",
       "      <td>alasan pilih kos-kosan sebagai resolusi bisnis</td>\n",
       "      <td>20:37 WIB</td>\n",
       "      <td>Neutral</td>\n",
       "      <td>Okezone</td>\n",
       "    </tr>\n",
       "    <tr>\n",
       "      <th>1</th>\n",
       "      <td>01 Januari 2019</td>\n",
       "      <td>dulu rp./liter, kini  wilayah nikmati harga bb...</td>\n",
       "      <td>18:18 WIB</td>\n",
       "      <td>Positive</td>\n",
       "      <td>Okezone</td>\n",
       "    </tr>\n",
       "    <tr>\n",
       "      <th>2</th>\n",
       "      <td>01 Januari 2019</td>\n",
       "      <td>realisasi anggaran kesdm di atas %, terbesar u...</td>\n",
       "      <td>18:18 WIB</td>\n",
       "      <td>Positive</td>\n",
       "      <td>Okezone</td>\n",
       "    </tr>\n",
       "    <tr>\n",
       "      <th>3</th>\n",
       "      <td>01 Januari 2019</td>\n",
       "      <td>making indonesia . wujudkan perekonomian terku...</td>\n",
       "      <td>16:23 WIB</td>\n",
       "      <td>Positive</td>\n",
       "      <td>Okezone</td>\n",
       "    </tr>\n",
       "    <tr>\n",
       "      <th>4</th>\n",
       "      <td>01 Januari 2019</td>\n",
       "      <td>ekspor pt timah tembus . m/t pada</td>\n",
       "      <td>16:17 WIB</td>\n",
       "      <td>Positive</td>\n",
       "      <td>Okezone</td>\n",
       "    </tr>\n",
       "  </tbody>\n",
       "</table>\n",
       "</div>"
      ],
      "text/plain": [
       "              date                                              title  \\\n",
       "0  01 Januari 2019    alasan pilih kos-kosan sebagai resolusi bisnis    \n",
       "1  01 Januari 2019  dulu rp./liter, kini  wilayah nikmati harga bb...   \n",
       "2  01 Januari 2019  realisasi anggaran kesdm di atas %, terbesar u...   \n",
       "3  01 Januari 2019  making indonesia . wujudkan perekonomian terku...   \n",
       "4  01 Januari 2019                 ekspor pt timah tembus . m/t pada    \n",
       "\n",
       "        time     class     news  \n",
       "0  20:37 WIB   Neutral  Okezone  \n",
       "1  18:18 WIB  Positive  Okezone  \n",
       "2  18:18 WIB  Positive  Okezone  \n",
       "3  16:23 WIB  Positive  Okezone  \n",
       "4  16:17 WIB  Positive  Okezone  "
      ]
     },
     "execution_count": 12,
     "metadata": {},
     "output_type": "execute_result"
    }
   ],
   "source": [
    "df_full.head()"
   ]
  },
  {
   "cell_type": "markdown",
   "metadata": {},
   "source": [
    "### 3.2.3 Tokenization - punctuation removal"
   ]
  },
  {
   "cell_type": "code",
   "execution_count": 13,
   "metadata": {
    "ExecuteTime": {
     "end_time": "2020-03-21T08:17:42.249204Z",
     "start_time": "2020-03-21T08:17:42.190691Z"
    }
   },
   "outputs": [],
   "source": [
    "def punctuation_removal(data_text):\n",
    "    return data_text.translate(str.maketrans(string.punctuation,' '*len(string.punctuation)))"
   ]
  },
  {
   "cell_type": "code",
   "execution_count": 14,
   "metadata": {
    "ExecuteTime": {
     "end_time": "2020-03-21T08:17:42.560103Z",
     "start_time": "2020-03-21T08:17:42.254779Z"
    }
   },
   "outputs": [],
   "source": [
    "df_full['title'] = df_full['title'].apply(punctuation_removal)"
   ]
  },
  {
   "cell_type": "code",
   "execution_count": 15,
   "metadata": {
    "ExecuteTime": {
     "end_time": "2020-03-21T08:17:42.594681Z",
     "start_time": "2020-03-21T08:17:42.564987Z"
    },
    "scrolled": true
   },
   "outputs": [
    {
     "data": {
      "text/html": [
       "<div>\n",
       "<style scoped>\n",
       "    .dataframe tbody tr th:only-of-type {\n",
       "        vertical-align: middle;\n",
       "    }\n",
       "\n",
       "    .dataframe tbody tr th {\n",
       "        vertical-align: top;\n",
       "    }\n",
       "\n",
       "    .dataframe thead th {\n",
       "        text-align: right;\n",
       "    }\n",
       "</style>\n",
       "<table border=\"1\" class=\"dataframe\">\n",
       "  <thead>\n",
       "    <tr style=\"text-align: right;\">\n",
       "      <th></th>\n",
       "      <th>date</th>\n",
       "      <th>title</th>\n",
       "      <th>time</th>\n",
       "      <th>class</th>\n",
       "      <th>news</th>\n",
       "    </tr>\n",
       "  </thead>\n",
       "  <tbody>\n",
       "    <tr>\n",
       "      <th>0</th>\n",
       "      <td>01 Januari 2019</td>\n",
       "      <td>alasan pilih kos kosan sebagai resolusi bisnis</td>\n",
       "      <td>20:37 WIB</td>\n",
       "      <td>Neutral</td>\n",
       "      <td>Okezone</td>\n",
       "    </tr>\n",
       "    <tr>\n",
       "      <th>1</th>\n",
       "      <td>01 Januari 2019</td>\n",
       "      <td>dulu rp  liter  kini  wilayah nikmati harga bb...</td>\n",
       "      <td>18:18 WIB</td>\n",
       "      <td>Positive</td>\n",
       "      <td>Okezone</td>\n",
       "    </tr>\n",
       "    <tr>\n",
       "      <th>2</th>\n",
       "      <td>01 Januari 2019</td>\n",
       "      <td>realisasi anggaran kesdm di atas    terbesar u...</td>\n",
       "      <td>18:18 WIB</td>\n",
       "      <td>Positive</td>\n",
       "      <td>Okezone</td>\n",
       "    </tr>\n",
       "    <tr>\n",
       "      <th>3</th>\n",
       "      <td>01 Januari 2019</td>\n",
       "      <td>making indonesia   wujudkan perekonomian terku...</td>\n",
       "      <td>16:23 WIB</td>\n",
       "      <td>Positive</td>\n",
       "      <td>Okezone</td>\n",
       "    </tr>\n",
       "    <tr>\n",
       "      <th>4</th>\n",
       "      <td>01 Januari 2019</td>\n",
       "      <td>ekspor pt timah tembus   m t pada</td>\n",
       "      <td>16:17 WIB</td>\n",
       "      <td>Positive</td>\n",
       "      <td>Okezone</td>\n",
       "    </tr>\n",
       "  </tbody>\n",
       "</table>\n",
       "</div>"
      ],
      "text/plain": [
       "              date                                              title  \\\n",
       "0  01 Januari 2019    alasan pilih kos kosan sebagai resolusi bisnis    \n",
       "1  01 Januari 2019  dulu rp  liter  kini  wilayah nikmati harga bb...   \n",
       "2  01 Januari 2019  realisasi anggaran kesdm di atas    terbesar u...   \n",
       "3  01 Januari 2019  making indonesia   wujudkan perekonomian terku...   \n",
       "4  01 Januari 2019                 ekspor pt timah tembus   m t pada    \n",
       "\n",
       "        time     class     news  \n",
       "0  20:37 WIB   Neutral  Okezone  \n",
       "1  18:18 WIB  Positive  Okezone  \n",
       "2  18:18 WIB  Positive  Okezone  \n",
       "3  16:23 WIB  Positive  Okezone  \n",
       "4  16:17 WIB  Positive  Okezone  "
      ]
     },
     "execution_count": 15,
     "metadata": {},
     "output_type": "execute_result"
    }
   ],
   "source": [
    "df_full.head()"
   ]
  },
  {
   "cell_type": "markdown",
   "metadata": {},
   "source": [
    "### 3.2.4 Tokenization - extra space removal"
   ]
  },
  {
   "cell_type": "code",
   "execution_count": 16,
   "metadata": {
    "ExecuteTime": {
     "end_time": "2020-03-21T08:17:42.682358Z",
     "start_time": "2020-03-21T08:17:42.599798Z"
    }
   },
   "outputs": [],
   "source": [
    "def extra_space_removal(data_text):\n",
    "    return ' '.join(data_text.split())"
   ]
  },
  {
   "cell_type": "code",
   "execution_count": 17,
   "metadata": {
    "ExecuteTime": {
     "end_time": "2020-03-21T08:17:42.817768Z",
     "start_time": "2020-03-21T08:17:42.688509Z"
    }
   },
   "outputs": [],
   "source": [
    "df_full['title'] = df_full['title'].apply(extra_space_removal)"
   ]
  },
  {
   "cell_type": "code",
   "execution_count": 18,
   "metadata": {
    "ExecuteTime": {
     "end_time": "2020-03-21T08:17:43.025536Z",
     "start_time": "2020-03-21T08:17:42.822169Z"
    },
    "scrolled": false
   },
   "outputs": [
    {
     "data": {
      "text/html": [
       "<div>\n",
       "<style scoped>\n",
       "    .dataframe tbody tr th:only-of-type {\n",
       "        vertical-align: middle;\n",
       "    }\n",
       "\n",
       "    .dataframe tbody tr th {\n",
       "        vertical-align: top;\n",
       "    }\n",
       "\n",
       "    .dataframe thead th {\n",
       "        text-align: right;\n",
       "    }\n",
       "</style>\n",
       "<table border=\"1\" class=\"dataframe\">\n",
       "  <thead>\n",
       "    <tr style=\"text-align: right;\">\n",
       "      <th></th>\n",
       "      <th>date</th>\n",
       "      <th>title</th>\n",
       "      <th>time</th>\n",
       "      <th>class</th>\n",
       "      <th>news</th>\n",
       "    </tr>\n",
       "  </thead>\n",
       "  <tbody>\n",
       "    <tr>\n",
       "      <th>0</th>\n",
       "      <td>01 Januari 2019</td>\n",
       "      <td>alasan pilih kos kosan sebagai resolusi bisnis</td>\n",
       "      <td>20:37 WIB</td>\n",
       "      <td>Neutral</td>\n",
       "      <td>Okezone</td>\n",
       "    </tr>\n",
       "    <tr>\n",
       "      <th>1</th>\n",
       "      <td>01 Januari 2019</td>\n",
       "      <td>dulu rp liter kini wilayah nikmati harga bbm s...</td>\n",
       "      <td>18:18 WIB</td>\n",
       "      <td>Positive</td>\n",
       "      <td>Okezone</td>\n",
       "    </tr>\n",
       "    <tr>\n",
       "      <th>2</th>\n",
       "      <td>01 Januari 2019</td>\n",
       "      <td>realisasi anggaran kesdm di atas terbesar untu...</td>\n",
       "      <td>18:18 WIB</td>\n",
       "      <td>Positive</td>\n",
       "      <td>Okezone</td>\n",
       "    </tr>\n",
       "    <tr>\n",
       "      <th>3</th>\n",
       "      <td>01 Januari 2019</td>\n",
       "      <td>making indonesia wujudkan perekonomian terkuat...</td>\n",
       "      <td>16:23 WIB</td>\n",
       "      <td>Positive</td>\n",
       "      <td>Okezone</td>\n",
       "    </tr>\n",
       "    <tr>\n",
       "      <th>4</th>\n",
       "      <td>01 Januari 2019</td>\n",
       "      <td>ekspor pt timah tembus m t pada</td>\n",
       "      <td>16:17 WIB</td>\n",
       "      <td>Positive</td>\n",
       "      <td>Okezone</td>\n",
       "    </tr>\n",
       "  </tbody>\n",
       "</table>\n",
       "</div>"
      ],
      "text/plain": [
       "              date                                              title  \\\n",
       "0  01 Januari 2019     alasan pilih kos kosan sebagai resolusi bisnis   \n",
       "1  01 Januari 2019  dulu rp liter kini wilayah nikmati harga bbm s...   \n",
       "2  01 Januari 2019  realisasi anggaran kesdm di atas terbesar untu...   \n",
       "3  01 Januari 2019  making indonesia wujudkan perekonomian terkuat...   \n",
       "4  01 Januari 2019                    ekspor pt timah tembus m t pada   \n",
       "\n",
       "        time     class     news  \n",
       "0  20:37 WIB   Neutral  Okezone  \n",
       "1  18:18 WIB  Positive  Okezone  \n",
       "2  18:18 WIB  Positive  Okezone  \n",
       "3  16:23 WIB  Positive  Okezone  \n",
       "4  16:17 WIB  Positive  Okezone  "
      ]
     },
     "execution_count": 18,
     "metadata": {},
     "output_type": "execute_result"
    }
   ],
   "source": [
    "df_full.head()"
   ]
  },
  {
   "cell_type": "markdown",
   "metadata": {},
   "source": [
    "### 3.3 Stemming using Nazief and Adriani Algorithm"
   ]
  },
  {
   "cell_type": "code",
   "execution_count": 19,
   "metadata": {
    "ExecuteTime": {
     "end_time": "2020-03-21T08:17:43.295963Z",
     "start_time": "2020-03-21T08:17:43.037618Z"
    }
   },
   "outputs": [],
   "source": [
    "# Not used\n",
    "factory = StemmerFactory()\n",
    "stemmer = factory.create_stemmer()\n",
    "def stemming_indonesia(data_text):\n",
    "    return stemmer.stem(data_text)"
   ]
  },
  {
   "cell_type": "code",
   "execution_count": 20,
   "metadata": {
    "ExecuteTime": {
     "end_time": "2020-03-21T08:35:08.264170Z",
     "start_time": "2020-03-21T08:17:43.301568Z"
    }
   },
   "outputs": [],
   "source": [
    "df_full['title'] = df_full['title'].apply(stemming_indonesia)"
   ]
  },
  {
   "cell_type": "code",
   "execution_count": 21,
   "metadata": {
    "ExecuteTime": {
     "end_time": "2020-03-21T08:35:08.313155Z",
     "start_time": "2020-03-21T08:35:08.268228Z"
    }
   },
   "outputs": [
    {
     "data": {
      "text/html": [
       "<div>\n",
       "<style scoped>\n",
       "    .dataframe tbody tr th:only-of-type {\n",
       "        vertical-align: middle;\n",
       "    }\n",
       "\n",
       "    .dataframe tbody tr th {\n",
       "        vertical-align: top;\n",
       "    }\n",
       "\n",
       "    .dataframe thead th {\n",
       "        text-align: right;\n",
       "    }\n",
       "</style>\n",
       "<table border=\"1\" class=\"dataframe\">\n",
       "  <thead>\n",
       "    <tr style=\"text-align: right;\">\n",
       "      <th></th>\n",
       "      <th>date</th>\n",
       "      <th>title</th>\n",
       "      <th>time</th>\n",
       "      <th>class</th>\n",
       "      <th>news</th>\n",
       "    </tr>\n",
       "  </thead>\n",
       "  <tbody>\n",
       "    <tr>\n",
       "      <th>0</th>\n",
       "      <td>01 Januari 2019</td>\n",
       "      <td>alas pilih kos kosan bagai resolusi bisnis</td>\n",
       "      <td>20:37 WIB</td>\n",
       "      <td>Neutral</td>\n",
       "      <td>Okezone</td>\n",
       "    </tr>\n",
       "    <tr>\n",
       "      <th>1</th>\n",
       "      <td>01 Januari 2019</td>\n",
       "      <td>dulu rp liter kini wilayah nikmat harga bbm se...</td>\n",
       "      <td>18:18 WIB</td>\n",
       "      <td>Positive</td>\n",
       "      <td>Okezone</td>\n",
       "    </tr>\n",
       "    <tr>\n",
       "      <th>2</th>\n",
       "      <td>01 Januari 2019</td>\n",
       "      <td>realisasi anggar kesdm di atas besar untuk inf...</td>\n",
       "      <td>18:18 WIB</td>\n",
       "      <td>Positive</td>\n",
       "      <td>Okezone</td>\n",
       "    </tr>\n",
       "    <tr>\n",
       "      <th>3</th>\n",
       "      <td>01 Januari 2019</td>\n",
       "      <td>making indonesia wujud ekonomi kuat di dunia</td>\n",
       "      <td>16:23 WIB</td>\n",
       "      <td>Positive</td>\n",
       "      <td>Okezone</td>\n",
       "    </tr>\n",
       "    <tr>\n",
       "      <th>4</th>\n",
       "      <td>01 Januari 2019</td>\n",
       "      <td>ekspor pt timah tembus m t pada</td>\n",
       "      <td>16:17 WIB</td>\n",
       "      <td>Positive</td>\n",
       "      <td>Okezone</td>\n",
       "    </tr>\n",
       "  </tbody>\n",
       "</table>\n",
       "</div>"
      ],
      "text/plain": [
       "              date                                              title  \\\n",
       "0  01 Januari 2019         alas pilih kos kosan bagai resolusi bisnis   \n",
       "1  01 Januari 2019  dulu rp liter kini wilayah nikmat harga bbm se...   \n",
       "2  01 Januari 2019  realisasi anggar kesdm di atas besar untuk inf...   \n",
       "3  01 Januari 2019       making indonesia wujud ekonomi kuat di dunia   \n",
       "4  01 Januari 2019                    ekspor pt timah tembus m t pada   \n",
       "\n",
       "        time     class     news  \n",
       "0  20:37 WIB   Neutral  Okezone  \n",
       "1  18:18 WIB  Positive  Okezone  \n",
       "2  18:18 WIB  Positive  Okezone  \n",
       "3  16:23 WIB  Positive  Okezone  \n",
       "4  16:17 WIB  Positive  Okezone  "
      ]
     },
     "execution_count": 21,
     "metadata": {},
     "output_type": "execute_result"
    }
   ],
   "source": [
    "df_full.head()"
   ]
  },
  {
   "cell_type": "markdown",
   "metadata": {},
   "source": [
    "### 3.4 Stopwords removal"
   ]
  },
  {
   "cell_type": "code",
   "execution_count": 22,
   "metadata": {
    "ExecuteTime": {
     "end_time": "2020-03-21T08:35:08.380561Z",
     "start_time": "2020-03-21T08:35:08.318770Z"
    }
   },
   "outputs": [],
   "source": [
    "def stopwords_removal(data_text):\n",
    "    stop_factory = StopWordRemoverFactory().get_stop_words()    # load defaul stopword\n",
    "    more_stopword = [alpha for alpha in string.ascii_lowercase] # Add several terms as stopwords (single alphabet)\n",
    "    data_stopwords = stop_factory+more_stopword                 # Combine the whole stopwords\n",
    "    dictionary = ArrayDictionary(data_stopwords)                # Add combined-stopwords into dict\n",
    "    stopword = StopWordRemover(dictionary)\n",
    "    return stopword.remove(data_text)"
   ]
  },
  {
   "cell_type": "code",
   "execution_count": 23,
   "metadata": {
    "ExecuteTime": {
     "end_time": "2020-03-21T08:35:11.570291Z",
     "start_time": "2020-03-21T08:35:08.391305Z"
    }
   },
   "outputs": [],
   "source": [
    "df_full['title'] = df_full['title'].apply(stopwords_removal)"
   ]
  },
  {
   "cell_type": "code",
   "execution_count": 24,
   "metadata": {
    "ExecuteTime": {
     "end_time": "2020-03-21T08:35:11.606045Z",
     "start_time": "2020-03-21T08:35:11.575741Z"
    }
   },
   "outputs": [
    {
     "data": {
      "text/html": [
       "<div>\n",
       "<style scoped>\n",
       "    .dataframe tbody tr th:only-of-type {\n",
       "        vertical-align: middle;\n",
       "    }\n",
       "\n",
       "    .dataframe tbody tr th {\n",
       "        vertical-align: top;\n",
       "    }\n",
       "\n",
       "    .dataframe thead th {\n",
       "        text-align: right;\n",
       "    }\n",
       "</style>\n",
       "<table border=\"1\" class=\"dataframe\">\n",
       "  <thead>\n",
       "    <tr style=\"text-align: right;\">\n",
       "      <th></th>\n",
       "      <th>date</th>\n",
       "      <th>title</th>\n",
       "      <th>time</th>\n",
       "      <th>class</th>\n",
       "      <th>news</th>\n",
       "    </tr>\n",
       "  </thead>\n",
       "  <tbody>\n",
       "    <tr>\n",
       "      <th>0</th>\n",
       "      <td>01 Januari 2019</td>\n",
       "      <td>alas pilih kos kosan bagai resolusi bisnis</td>\n",
       "      <td>20:37 WIB</td>\n",
       "      <td>Neutral</td>\n",
       "      <td>Okezone</td>\n",
       "    </tr>\n",
       "    <tr>\n",
       "      <th>1</th>\n",
       "      <td>01 Januari 2019</td>\n",
       "      <td>dulu rp liter kini wilayah nikmat harga bbm di...</td>\n",
       "      <td>18:18 WIB</td>\n",
       "      <td>Positive</td>\n",
       "      <td>Okezone</td>\n",
       "    </tr>\n",
       "    <tr>\n",
       "      <th>2</th>\n",
       "      <td>01 Januari 2019</td>\n",
       "      <td>realisasi anggar kesdm atas besar infrastruktu...</td>\n",
       "      <td>18:18 WIB</td>\n",
       "      <td>Positive</td>\n",
       "      <td>Okezone</td>\n",
       "    </tr>\n",
       "    <tr>\n",
       "      <th>3</th>\n",
       "      <td>01 Januari 2019</td>\n",
       "      <td>making indonesia wujud ekonomi kuat dunia</td>\n",
       "      <td>16:23 WIB</td>\n",
       "      <td>Positive</td>\n",
       "      <td>Okezone</td>\n",
       "    </tr>\n",
       "    <tr>\n",
       "      <th>4</th>\n",
       "      <td>01 Januari 2019</td>\n",
       "      <td>ekspor pt timah tembus t</td>\n",
       "      <td>16:17 WIB</td>\n",
       "      <td>Positive</td>\n",
       "      <td>Okezone</td>\n",
       "    </tr>\n",
       "  </tbody>\n",
       "</table>\n",
       "</div>"
      ],
      "text/plain": [
       "              date                                              title  \\\n",
       "0  01 Januari 2019         alas pilih kos kosan bagai resolusi bisnis   \n",
       "1  01 Januari 2019  dulu rp liter kini wilayah nikmat harga bbm di...   \n",
       "2  01 Januari 2019  realisasi anggar kesdm atas besar infrastruktu...   \n",
       "3  01 Januari 2019          making indonesia wujud ekonomi kuat dunia   \n",
       "4  01 Januari 2019                           ekspor pt timah tembus t   \n",
       "\n",
       "        time     class     news  \n",
       "0  20:37 WIB   Neutral  Okezone  \n",
       "1  18:18 WIB  Positive  Okezone  \n",
       "2  18:18 WIB  Positive  Okezone  \n",
       "3  16:23 WIB  Positive  Okezone  \n",
       "4  16:17 WIB  Positive  Okezone  "
      ]
     },
     "execution_count": 24,
     "metadata": {},
     "output_type": "execute_result"
    }
   ],
   "source": [
    "df_full.head()"
   ]
  },
  {
   "cell_type": "code",
   "execution_count": 25,
   "metadata": {
    "ExecuteTime": {
     "end_time": "2020-03-21T08:35:12.075213Z",
     "start_time": "2020-03-21T08:35:11.611575Z"
    }
   },
   "outputs": [],
   "source": [
    "# Save the whole data\n",
    "df_full.to_csv('Datasets/interim/Whole Financial News Data after Preprocessing.csv',index=False)"
   ]
  },
  {
   "cell_type": "markdown",
   "metadata": {},
   "source": [
    "## 4 Data Visualization"
   ]
  },
  {
   "cell_type": "markdown",
   "metadata": {},
   "source": [
    "### 4.1 Wordclouds"
   ]
  },
  {
   "cell_type": "code",
   "execution_count": 26,
   "metadata": {
    "ExecuteTime": {
     "end_time": "2020-03-21T08:35:12.203662Z",
     "start_time": "2020-03-21T08:35:12.079589Z"
    }
   },
   "outputs": [
    {
     "name": "stdout",
     "output_type": "stream",
     "text": [
      "rp           6776\n",
      "harga        3069\n",
      "ekonomi      2174\n",
      "triliun      1937\n",
      "ihsg         1900\n",
      "ri           1544\n",
      "naik         1444\n",
      "investasi    1436\n",
      "turun        1307\n",
      "saham        1281\n",
      "dtype: int64\n"
     ]
    }
   ],
   "source": [
    "# Frequent terms\n",
    "term_freq = pd.Series(' '.join(df_full['title']).split(' ')).value_counts()\n",
    "print(term_freq[:10])"
   ]
  },
  {
   "cell_type": "code",
   "execution_count": 27,
   "metadata": {
    "ExecuteTime": {
     "end_time": "2020-03-21T08:35:12.222010Z",
     "start_time": "2020-03-21T08:35:12.210927Z"
    }
   },
   "outputs": [],
   "source": [
    "wordcloud = WordCloud(background_color='white',\n",
    "                      max_words=10000,\n",
    "                      max_font_size=40, \n",
    "                      random_state=42,\n",
    "                      min_font_size = 10)"
   ]
  },
  {
   "cell_type": "code",
   "execution_count": 28,
   "metadata": {
    "ExecuteTime": {
     "end_time": "2020-03-21T08:35:32.573451Z",
     "start_time": "2020-03-21T08:35:12.233908Z"
    }
   },
   "outputs": [
    {
     "data": {
      "image/png": "[encoded data removed]",
      "text/plain": [
       "<Figure size 576x576 with 1 Axes>"
      ]
     },
     "metadata": {
      "needs_background": "light"
     },
     "output_type": "display_data"
    }
   ],
   "source": [
    "fig = plt.figure(figsize=(8,8),facecolor=None) \n",
    "plt.imshow(wordcloud.generate(str(df_full['title'])))\n",
    "plt.axis('off')\n",
    "plt.tight_layout(pad=0)\n",
    "fig.savefig('Reports/figures/Worcloud Financial News.png',dpi=1000)"
   ]
  },
  {
   "cell_type": "markdown",
   "metadata": {},
   "source": [
    "### 4.2 N-grams with network"
   ]
  },
  {
   "cell_type": "code",
   "execution_count": 29,
   "metadata": {
    "ExecuteTime": {
     "end_time": "2020-03-21T08:35:32.593914Z",
     "start_time": "2020-03-21T08:35:32.580615Z"
    }
   },
   "outputs": [],
   "source": [
    "# Determine n-grams\n",
    "word_vectorizer = CountVectorizer(ngram_range=(1,3),analyzer='word')"
   ]
  },
  {
   "cell_type": "markdown",
   "metadata": {},
   "source": [
    "### 4.2.1 Okezone"
   ]
  },
  {
   "cell_type": "code",
   "execution_count": 30,
   "metadata": {
    "ExecuteTime": {
     "end_time": "2020-03-21T08:35:52.206872Z",
     "start_time": "2020-03-21T08:35:32.600315Z"
    }
   },
   "outputs": [],
   "source": [
    "sparse_matrix = word_vectorizer.fit_transform(df_full[df_full['news'] == 'Okezone']['title'])\n",
    "frequencies = sum(sparse_matrix).toarray()[0]\n",
    "# Dataframe of N-grams\n",
    "ngrams_okezone = pd.DataFrame(frequencies,index=word_vectorizer.get_feature_names(),columns=['frequency'])\n",
    "ngrams_okezone.reset_index(level=0,inplace=True)"
   ]
  },
  {
   "cell_type": "code",
   "execution_count": 31,
   "metadata": {
    "ExecuteTime": {
     "end_time": "2020-03-21T08:36:26.123320Z",
     "start_time": "2020-03-21T08:35:52.211147Z"
    }
   },
   "outputs": [],
   "source": [
    "# N-Grams\n",
    "ngrams = []\n",
    "for i in range(ngrams_okezone.shape[0]):\n",
    "    ngrams.append(len(str.split(ngrams_okezone.iloc[i]['index'])))\n",
    "ngrams = pd.Series(ngrams,name='NGrams')"
   ]
  },
  {
   "cell_type": "code",
   "execution_count": 32,
   "metadata": {
    "ExecuteTime": {
     "end_time": "2020-03-21T08:36:26.196415Z",
     "start_time": "2020-03-21T08:36:26.127963Z"
    }
   },
   "outputs": [],
   "source": [
    "# Merge dataframe\n",
    "ngrams_okezone = pd.concat([ngrams_okezone,ngrams],axis=1)\n",
    "ngrams_okezone = ngrams_okezone.sort_values(by='frequency',ascending=False)"
   ]
  },
  {
   "cell_type": "code",
   "execution_count": 33,
   "metadata": {
    "ExecuteTime": {
     "end_time": "2020-03-21T08:36:26.289832Z",
     "start_time": "2020-03-21T08:36:26.200587Z"
    },
    "cell_style": "split"
   },
   "outputs": [
    {
     "data": {
      "text/html": [
       "<div>\n",
       "<style scoped>\n",
       "    .dataframe tbody tr th:only-of-type {\n",
       "        vertical-align: middle;\n",
       "    }\n",
       "\n",
       "    .dataframe tbody tr th {\n",
       "        vertical-align: top;\n",
       "    }\n",
       "\n",
       "    .dataframe thead th {\n",
       "        text-align: right;\n",
       "    }\n",
       "</style>\n",
       "<table border=\"1\" class=\"dataframe\">\n",
       "  <thead>\n",
       "    <tr style=\"text-align: right;\">\n",
       "      <th></th>\n",
       "      <th>index</th>\n",
       "      <th>frequency</th>\n",
       "      <th>NGrams</th>\n",
       "    </tr>\n",
       "  </thead>\n",
       "  <tbody>\n",
       "    <tr>\n",
       "      <th>45089</th>\n",
       "      <td>rp</td>\n",
       "      <td>2768</td>\n",
       "      <td>1</td>\n",
       "    </tr>\n",
       "    <tr>\n",
       "      <th>17433</th>\n",
       "      <td>harga</td>\n",
       "      <td>1323</td>\n",
       "      <td>1</td>\n",
       "    </tr>\n",
       "    <tr>\n",
       "      <th>55099</th>\n",
       "      <td>triliun</td>\n",
       "      <td>1100</td>\n",
       "      <td>1</td>\n",
       "    </tr>\n",
       "    <tr>\n",
       "      <th>19218</th>\n",
       "      <td>ihsg</td>\n",
       "      <td>968</td>\n",
       "      <td>1</td>\n",
       "    </tr>\n",
       "    <tr>\n",
       "      <th>13241</th>\n",
       "      <td>ekonomi</td>\n",
       "      <td>830</td>\n",
       "      <td>1</td>\n",
       "    </tr>\n",
       "  </tbody>\n",
       "</table>\n",
       "</div>"
      ],
      "text/plain": [
       "         index  frequency  NGrams\n",
       "45089       rp       2768       1\n",
       "17433    harga       1323       1\n",
       "55099  triliun       1100       1\n",
       "19218     ihsg        968       1\n",
       "13241  ekonomi        830       1"
      ]
     },
     "execution_count": 33,
     "metadata": {},
     "output_type": "execute_result"
    }
   ],
   "source": [
    "ngrams_okezone[ngrams_okezone.NGrams == 1].head()"
   ]
  },
  {
   "cell_type": "code",
   "execution_count": 34,
   "metadata": {
    "ExecuteTime": {
     "end_time": "2020-03-21T08:36:26.366473Z",
     "start_time": "2020-03-21T08:36:26.297196Z"
    },
    "cell_style": "split"
   },
   "outputs": [
    {
     "data": {
      "text/html": [
       "<div>\n",
       "<style scoped>\n",
       "    .dataframe tbody tr th:only-of-type {\n",
       "        vertical-align: middle;\n",
       "    }\n",
       "\n",
       "    .dataframe tbody tr th {\n",
       "        vertical-align: top;\n",
       "    }\n",
       "\n",
       "    .dataframe thead th {\n",
       "        text-align: right;\n",
       "    }\n",
       "</style>\n",
       "<table border=\"1\" class=\"dataframe\">\n",
       "  <thead>\n",
       "    <tr style=\"text-align: right;\">\n",
       "      <th></th>\n",
       "      <th>index</th>\n",
       "      <th>frequency</th>\n",
       "      <th>NGrams</th>\n",
       "    </tr>\n",
       "  </thead>\n",
       "  <tbody>\n",
       "    <tr>\n",
       "      <th>45405</th>\n",
       "      <td>rp triliun</td>\n",
       "      <td>1085</td>\n",
       "      <td>2</td>\n",
       "    </tr>\n",
       "    <tr>\n",
       "      <th>45227</th>\n",
       "      <td>rp miliar</td>\n",
       "      <td>506</td>\n",
       "      <td>2</td>\n",
       "    </tr>\n",
       "    <tr>\n",
       "      <th>45643</th>\n",
       "      <td>rp usd</td>\n",
       "      <td>405</td>\n",
       "      <td>2</td>\n",
       "    </tr>\n",
       "    <tr>\n",
       "      <th>17593</th>\n",
       "      <td>harga emas</td>\n",
       "      <td>401</td>\n",
       "      <td>2</td>\n",
       "    </tr>\n",
       "    <tr>\n",
       "      <th>12395</th>\n",
       "      <td>dolar as</td>\n",
       "      <td>287</td>\n",
       "      <td>2</td>\n",
       "    </tr>\n",
       "  </tbody>\n",
       "</table>\n",
       "</div>"
      ],
      "text/plain": [
       "            index  frequency  NGrams\n",
       "45405  rp triliun       1085       2\n",
       "45227   rp miliar        506       2\n",
       "45643      rp usd        405       2\n",
       "17593  harga emas        401       2\n",
       "12395    dolar as        287       2"
      ]
     },
     "execution_count": 34,
     "metadata": {},
     "output_type": "execute_result"
    }
   ],
   "source": [
    "ngrams_okezone[ngrams_okezone.NGrams == 2].head()"
   ]
  },
  {
   "cell_type": "markdown",
   "metadata": {},
   "source": [
    "### 4.2.2 Kompas"
   ]
  },
  {
   "cell_type": "code",
   "execution_count": 35,
   "metadata": {
    "ExecuteTime": {
     "end_time": "2020-03-21T08:36:32.531493Z",
     "start_time": "2020-03-21T08:36:26.371406Z"
    }
   },
   "outputs": [],
   "source": [
    "sparse_matrix = word_vectorizer.fit_transform(df_full[df_full['news'] == 'Kompas']['title'])\n",
    "frequencies = sum(sparse_matrix).toarray()[0]\n",
    "# Dataframe of N-grams\n",
    "ngrams_kompas = pd.DataFrame(frequencies,index=word_vectorizer.get_feature_names(),columns=['frequency'])\n",
    "ngrams_kompas.reset_index(level=0,inplace=True)"
   ]
  },
  {
   "cell_type": "code",
   "execution_count": 36,
   "metadata": {
    "ExecuteTime": {
     "end_time": "2020-03-21T08:36:54.711445Z",
     "start_time": "2020-03-21T08:36:32.536623Z"
    }
   },
   "outputs": [],
   "source": [
    "# N-Grams\n",
    "ngrams = []\n",
    "for i in range(ngrams_kompas.shape[0]):\n",
    "    ngrams.append(len(str.split(ngrams_kompas.iloc[i]['index'])))\n",
    "ngrams = pd.Series(ngrams,name='NGrams')"
   ]
  },
  {
   "cell_type": "code",
   "execution_count": 37,
   "metadata": {
    "ExecuteTime": {
     "end_time": "2020-03-21T08:36:54.746998Z",
     "start_time": "2020-03-21T08:36:54.715433Z"
    }
   },
   "outputs": [],
   "source": [
    "# Merge dataframe\n",
    "ngrams_kompas = pd.concat([ngrams_kompas,ngrams],axis=1)\n",
    "ngrams_kompas = ngrams_kompas.sort_values(by='frequency',ascending=False)"
   ]
  },
  {
   "cell_type": "code",
   "execution_count": 38,
   "metadata": {
    "ExecuteTime": {
     "end_time": "2020-03-21T08:36:54.831014Z",
     "start_time": "2020-03-21T08:36:54.754561Z"
    },
    "cell_style": "split"
   },
   "outputs": [
    {
     "data": {
      "text/html": [
       "<div>\n",
       "<style scoped>\n",
       "    .dataframe tbody tr th:only-of-type {\n",
       "        vertical-align: middle;\n",
       "    }\n",
       "\n",
       "    .dataframe tbody tr th {\n",
       "        vertical-align: top;\n",
       "    }\n",
       "\n",
       "    .dataframe thead th {\n",
       "        text-align: right;\n",
       "    }\n",
       "</style>\n",
       "<table border=\"1\" class=\"dataframe\">\n",
       "  <thead>\n",
       "    <tr style=\"text-align: right;\">\n",
       "      <th></th>\n",
       "      <th>index</th>\n",
       "      <th>frequency</th>\n",
       "      <th>NGrams</th>\n",
       "    </tr>\n",
       "  </thead>\n",
       "  <tbody>\n",
       "    <tr>\n",
       "      <th>29716</th>\n",
       "      <td>rp</td>\n",
       "      <td>1152</td>\n",
       "      <td>1</td>\n",
       "    </tr>\n",
       "    <tr>\n",
       "      <th>11898</th>\n",
       "      <td>harga</td>\n",
       "      <td>591</td>\n",
       "      <td>1</td>\n",
       "    </tr>\n",
       "    <tr>\n",
       "      <th>8972</th>\n",
       "      <td>ekonomi</td>\n",
       "      <td>543</td>\n",
       "      <td>1</td>\n",
       "    </tr>\n",
       "    <tr>\n",
       "      <th>36440</th>\n",
       "      <td>triliun</td>\n",
       "      <td>542</td>\n",
       "      <td>1</td>\n",
       "    </tr>\n",
       "    <tr>\n",
       "      <th>14434</th>\n",
       "      <td>investasi</td>\n",
       "      <td>423</td>\n",
       "      <td>1</td>\n",
       "    </tr>\n",
       "  </tbody>\n",
       "</table>\n",
       "</div>"
      ],
      "text/plain": [
       "           index  frequency  NGrams\n",
       "29716         rp       1152       1\n",
       "11898      harga        591       1\n",
       "8972     ekonomi        543       1\n",
       "36440    triliun        542       1\n",
       "14434  investasi        423       1"
      ]
     },
     "execution_count": 38,
     "metadata": {},
     "output_type": "execute_result"
    }
   ],
   "source": [
    "ngrams_kompas[ngrams_kompas.NGrams == 1].head()"
   ]
  },
  {
   "cell_type": "code",
   "execution_count": 39,
   "metadata": {
    "ExecuteTime": {
     "end_time": "2020-03-21T08:36:54.896076Z",
     "start_time": "2020-03-21T08:36:54.837724Z"
    },
    "cell_style": "split"
   },
   "outputs": [
    {
     "data": {
      "text/html": [
       "<div>\n",
       "<style scoped>\n",
       "    .dataframe tbody tr th:only-of-type {\n",
       "        vertical-align: middle;\n",
       "    }\n",
       "\n",
       "    .dataframe tbody tr th {\n",
       "        vertical-align: top;\n",
       "    }\n",
       "\n",
       "    .dataframe thead th {\n",
       "        text-align: right;\n",
       "    }\n",
       "</style>\n",
       "<table border=\"1\" class=\"dataframe\">\n",
       "  <thead>\n",
       "    <tr style=\"text-align: right;\">\n",
       "      <th></th>\n",
       "      <th>index</th>\n",
       "      <th>frequency</th>\n",
       "      <th>NGrams</th>\n",
       "    </tr>\n",
       "  </thead>\n",
       "  <tbody>\n",
       "    <tr>\n",
       "      <th>29962</th>\n",
       "      <td>rp triliun</td>\n",
       "      <td>537</td>\n",
       "      <td>2</td>\n",
       "    </tr>\n",
       "    <tr>\n",
       "      <th>29835</th>\n",
       "      <td>rp miliar</td>\n",
       "      <td>243</td>\n",
       "      <td>2</td>\n",
       "    </tr>\n",
       "    <tr>\n",
       "      <th>12219</th>\n",
       "      <td>harga tiket</td>\n",
       "      <td>167</td>\n",
       "      <td>2</td>\n",
       "    </tr>\n",
       "    <tr>\n",
       "      <th>11994</th>\n",
       "      <td>harga emas</td>\n",
       "      <td>142</td>\n",
       "      <td>2</td>\n",
       "    </tr>\n",
       "    <tr>\n",
       "      <th>36872</th>\n",
       "      <td>tumbuh ekonomi</td>\n",
       "      <td>133</td>\n",
       "      <td>2</td>\n",
       "    </tr>\n",
       "  </tbody>\n",
       "</table>\n",
       "</div>"
      ],
      "text/plain": [
       "                index  frequency  NGrams\n",
       "29962      rp triliun        537       2\n",
       "29835       rp miliar        243       2\n",
       "12219     harga tiket        167       2\n",
       "11994      harga emas        142       2\n",
       "36872  tumbuh ekonomi        133       2"
      ]
     },
     "execution_count": 39,
     "metadata": {},
     "output_type": "execute_result"
    }
   ],
   "source": [
    "ngrams_kompas[ngrams_kompas.NGrams == 2].head()"
   ]
  },
  {
   "cell_type": "markdown",
   "metadata": {},
   "source": [
    "### 4.2.3 Detik"
   ]
  },
  {
   "cell_type": "code",
   "execution_count": 40,
   "metadata": {
    "ExecuteTime": {
     "end_time": "2020-03-21T08:37:18.773041Z",
     "start_time": "2020-03-21T08:36:54.907464Z"
    }
   },
   "outputs": [],
   "source": [
    "sparse_matrix = word_vectorizer.fit_transform(df_full[df_full['news'] == 'Detik']['title'])\n",
    "frequencies = sum(sparse_matrix).toarray()[0]\n",
    "# Dataframe of N-grams\n",
    "ngrams_detik = pd.DataFrame(frequencies,index=word_vectorizer.get_feature_names(),columns=['frequency'])\n",
    "ngrams_detik.reset_index(level=0,inplace=True)"
   ]
  },
  {
   "cell_type": "code",
   "execution_count": 41,
   "metadata": {
    "ExecuteTime": {
     "end_time": "2020-03-21T08:37:59.646777Z",
     "start_time": "2020-03-21T08:37:18.776980Z"
    }
   },
   "outputs": [],
   "source": [
    "# N-Grams\n",
    "ngrams = []\n",
    "for i in range(ngrams_detik.shape[0]):\n",
    "    ngrams.append(len(str.split(ngrams_detik.iloc[i]['index'])))\n",
    "ngrams = pd.Series(ngrams,name='NGrams')"
   ]
  },
  {
   "cell_type": "code",
   "execution_count": 42,
   "metadata": {
    "ExecuteTime": {
     "end_time": "2020-03-21T08:37:59.704527Z",
     "start_time": "2020-03-21T08:37:59.651368Z"
    }
   },
   "outputs": [],
   "source": [
    "# Merge dataframe\n",
    "ngrams_detik = pd.concat([ngrams_detik,ngrams],axis=1)\n",
    "ngrams_detik = ngrams_detik.sort_values(by='frequency',ascending=False)"
   ]
  },
  {
   "cell_type": "code",
   "execution_count": 43,
   "metadata": {
    "ExecuteTime": {
     "end_time": "2020-03-21T08:37:59.763555Z",
     "start_time": "2020-03-21T08:37:59.710675Z"
    },
    "cell_style": "split"
   },
   "outputs": [
    {
     "data": {
      "text/html": [
       "<div>\n",
       "<style scoped>\n",
       "    .dataframe tbody tr th:only-of-type {\n",
       "        vertical-align: middle;\n",
       "    }\n",
       "\n",
       "    .dataframe tbody tr th {\n",
       "        vertical-align: top;\n",
       "    }\n",
       "\n",
       "    .dataframe thead th {\n",
       "        text-align: right;\n",
       "    }\n",
       "</style>\n",
       "<table border=\"1\" class=\"dataframe\">\n",
       "  <thead>\n",
       "    <tr style=\"text-align: right;\">\n",
       "      <th></th>\n",
       "      <th>index</th>\n",
       "      <th>frequency</th>\n",
       "      <th>NGrams</th>\n",
       "    </tr>\n",
       "  </thead>\n",
       "  <tbody>\n",
       "    <tr>\n",
       "      <th>50970</th>\n",
       "      <td>rp</td>\n",
       "      <td>2856</td>\n",
       "      <td>1</td>\n",
       "    </tr>\n",
       "    <tr>\n",
       "      <th>20249</th>\n",
       "      <td>harga</td>\n",
       "      <td>1155</td>\n",
       "      <td>1</td>\n",
       "    </tr>\n",
       "    <tr>\n",
       "      <th>49547</th>\n",
       "      <td>ri</td>\n",
       "      <td>1024</td>\n",
       "      <td>1</td>\n",
       "    </tr>\n",
       "    <tr>\n",
       "      <th>22253</th>\n",
       "      <td>ihsg</td>\n",
       "      <td>864</td>\n",
       "      <td>1</td>\n",
       "    </tr>\n",
       "    <tr>\n",
       "      <th>15981</th>\n",
       "      <td>ekonomi</td>\n",
       "      <td>801</td>\n",
       "      <td>1</td>\n",
       "    </tr>\n",
       "  </tbody>\n",
       "</table>\n",
       "</div>"
      ],
      "text/plain": [
       "         index  frequency  NGrams\n",
       "50970       rp       2856       1\n",
       "20249    harga       1155       1\n",
       "49547       ri       1024       1\n",
       "22253     ihsg        864       1\n",
       "15981  ekonomi        801       1"
      ]
     },
     "execution_count": 43,
     "metadata": {},
     "output_type": "execute_result"
    }
   ],
   "source": [
    "ngrams_detik[ngrams_detik.NGrams == 1].head()"
   ]
  },
  {
   "cell_type": "code",
   "execution_count": 44,
   "metadata": {
    "ExecuteTime": {
     "end_time": "2020-03-21T08:37:59.834185Z",
     "start_time": "2020-03-21T08:37:59.769392Z"
    },
    "cell_style": "split"
   },
   "outputs": [
    {
     "data": {
      "text/html": [
       "<div>\n",
       "<style scoped>\n",
       "    .dataframe tbody tr th:only-of-type {\n",
       "        vertical-align: middle;\n",
       "    }\n",
       "\n",
       "    .dataframe tbody tr th {\n",
       "        vertical-align: top;\n",
       "    }\n",
       "\n",
       "    .dataframe thead th {\n",
       "        text-align: right;\n",
       "    }\n",
       "</style>\n",
       "<table border=\"1\" class=\"dataframe\">\n",
       "  <thead>\n",
       "    <tr style=\"text-align: right;\">\n",
       "      <th></th>\n",
       "      <th>index</th>\n",
       "      <th>frequency</th>\n",
       "      <th>NGrams</th>\n",
       "    </tr>\n",
       "  </thead>\n",
       "  <tbody>\n",
       "    <tr>\n",
       "      <th>51404</th>\n",
       "      <td>rp juta</td>\n",
       "      <td>335</td>\n",
       "      <td>2</td>\n",
       "    </tr>\n",
       "    <tr>\n",
       "      <th>14929</th>\n",
       "      <td>dolar as</td>\n",
       "      <td>326</td>\n",
       "      <td>2</td>\n",
       "    </tr>\n",
       "    <tr>\n",
       "      <th>51997</th>\n",
       "      <td>rp triliun</td>\n",
       "      <td>280</td>\n",
       "      <td>2</td>\n",
       "    </tr>\n",
       "    <tr>\n",
       "      <th>16353</th>\n",
       "      <td>ekonomi ri</td>\n",
       "      <td>250</td>\n",
       "      <td>2</td>\n",
       "    </tr>\n",
       "    <tr>\n",
       "      <th>56599</th>\n",
       "      <td>sri mulyani</td>\n",
       "      <td>223</td>\n",
       "      <td>2</td>\n",
       "    </tr>\n",
       "  </tbody>\n",
       "</table>\n",
       "</div>"
      ],
      "text/plain": [
       "             index  frequency  NGrams\n",
       "51404      rp juta        335       2\n",
       "14929     dolar as        326       2\n",
       "51997   rp triliun        280       2\n",
       "16353   ekonomi ri        250       2\n",
       "56599  sri mulyani        223       2"
      ]
     },
     "execution_count": 44,
     "metadata": {},
     "output_type": "execute_result"
    }
   ],
   "source": [
    "ngrams_detik[ngrams_detik.NGrams == 2].head()"
   ]
  },
  {
   "cell_type": "markdown",
   "metadata": {},
   "source": [
    "### 4.3 3-grams with network"
   ]
  },
  {
   "cell_type": "code",
   "execution_count": 45,
   "metadata": {
    "ExecuteTime": {
     "end_time": "2020-03-21T08:37:59.904658Z",
     "start_time": "2020-03-21T08:37:59.839213Z"
    }
   },
   "outputs": [],
   "source": [
    "# Preparing the data\n",
    "n3grams_okezone = ngrams_okezone[ngrams_okezone.NGrams == 3]\n",
    "n3grams_kompas = ngrams_kompas[ngrams_kompas.NGrams == 3]\n",
    "n3grams_detik = ngrams_detik[ngrams_detik.NGrams == 3]"
   ]
  },
  {
   "cell_type": "code",
   "execution_count": 46,
   "metadata": {
    "ExecuteTime": {
     "end_time": "2020-03-21T08:38:00.282266Z",
     "start_time": "2020-03-21T08:37:59.911245Z"
    }
   },
   "outputs": [],
   "source": [
    "# Add categories\n",
    "cat_okezone = pd.Series(['Okezone']*n3grams_okezone.shape[0],name='cat')\n",
    "cat_kompas = pd.Series(['Kompas']*n3grams_kompas.shape[0],name='cat')\n",
    "cat_detik = pd.Series(['Detik']*n3grams_detik.shape[0],name='cat')\n",
    "# Concate with each data\n",
    "n3grams_okezone = pd.concat([n3grams_okezone,cat_okezone],axis=1)\n",
    "n3grams_kompas = pd.concat([n3grams_kompas,cat_kompas],axis=1)\n",
    "n3grams_detik = pd.concat([n3grams_detik,cat_detik],axis=1)\n",
    "# Merge into one dataframe\n",
    "trigram_df = pd.concat([n3grams_okezone.sort_values(by='frequency',ascending=False).head(20),\n",
    "                        n3grams_kompas.sort_values(by='frequency',ascending=False).head(20),\n",
    "                        n3grams_detik.sort_values(by='frequency',ascending=False).head(20)])"
   ]
  },
  {
   "cell_type": "code",
   "execution_count": 47,
   "metadata": {
    "ExecuteTime": {
     "end_time": "2020-03-21T08:38:00.300363Z",
     "start_time": "2020-03-21T08:38:00.287316Z"
    },
    "scrolled": true
   },
   "outputs": [
    {
     "name": "stdout",
     "output_type": "stream",
     "text": [
      "Name: \n",
      "Type: Graph\n",
      "Number of nodes: 50\n",
      "Number of edges: 57\n",
      "Average degree:   2.2800\n"
     ]
    }
   ],
   "source": [
    "graph_net = nx.from_pandas_edgelist(trigram_df,source='cat',target='index')\n",
    "print(nx.info(graph_net))"
   ]
  },
  {
   "cell_type": "code",
   "execution_count": 48,
   "metadata": {
    "ExecuteTime": {
     "end_time": "2020-03-21T08:38:08.596665Z",
     "start_time": "2020-03-21T08:38:00.305930Z"
    }
   },
   "outputs": [
    {
     "data": {
      "image/png": "[encoded data removed]",
      "text/plain": [
       "<Figure size 1080x1080 with 1 Axes>"
      ]
     },
     "metadata": {},
     "output_type": "display_data"
    }
   ],
   "source": [
    "plt.figure(figsize=(15,15))\n",
    "cmap = plt.cm.coolwarm\n",
    "colors = [n for n in range(len(graph_net.nodes()))]\n",
    "# k = 0.0319\n",
    "k = 0.14\n",
    "pos = nx.spring_layout(graph_net,k=k)\n",
    "nx.draw_networkx(graph_net,pos,node_size=trigram_df['frequency'].values*30,cmap = cmap,\n",
    "                        node_color=colors,edge_color='grey',font_size=12,width=2,alpha=0.8)\n",
    "plt.title('Network Diagram of Top 20 Trigrams to each Categories',fontsize=14)\n",
    "plt.savefig('Reports/figures/3-Grams Network.png',format='PNG',dpi=300)\n",
    "plt.show()"
   ]
  }
 ],
 "metadata": {
  "kernelspec": {
   "display_name": "Python 3",
   "language": "python",
   "name": "python3"
  },
  "language_info": {
   "codemirror_mode": {
    "name": "ipython",
    "version": 3
   },
   "file_extension": ".py",
   "mimetype": "text/x-python",
   "name": "python",
   "nbconvert_exporter": "python",
   "pygments_lexer": "ipython3",
   "version": "3.6.9"
  }
 },
 "nbformat": 4,
 "nbformat_minor": 2
}
