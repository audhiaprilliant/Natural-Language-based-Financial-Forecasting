{
 "cells": [
  {
   "cell_type": "markdown",
   "metadata": {},
   "source": [
    "# Data Aggregation and Visualization"
   ]
  },
  {
   "cell_type": "markdown",
   "metadata": {},
   "source": [
    "### Audhi Aprilliant"
   ]
  },
  {
   "cell_type": "markdown",
   "metadata": {},
   "source": [
    "## 1 Import Modules"
   ]
  },
  {
   "cell_type": "code",
   "execution_count": 1,
   "metadata": {
    "ExecuteTime": {
     "end_time": "2020-04-02T01:28:54.841427Z",
     "start_time": "2020-04-02T01:27:31.301261Z"
    }
   },
   "outputs": [],
   "source": [
    "import pandas as pd                   # Dataframe manipulation\n",
    "import numpy as np                    # Mathematics operation\n",
    "import seaborn as sns                 # Data visualization with seaborn\n",
    "import matplotlib.pyplot as plt       # Data visualization with matplotlib\n",
    "plt.style.use('ggplot')               # Matplotlib with ggplot style\n",
    "import plotnine as pln                # Data visualization\n",
    "from plotnine import *                # Data visualization\n",
    "pln.options.figure_size = (7.8,3.7)   # Size of plotnine figure "
   ]
  },
  {
   "cell_type": "markdown",
   "metadata": {},
   "source": [
    "## 2 Load the Data"
   ]
  },
  {
   "cell_type": "markdown",
   "metadata": {},
   "source": [
    "### 2.1 JCI Data"
   ]
  },
  {
   "cell_type": "code",
   "execution_count": 2,
   "metadata": {
    "ExecuteTime": {
     "end_time": "2020-04-02T01:29:27.626960Z",
     "start_time": "2020-04-02T01:29:24.773281Z"
    },
    "scrolled": true
   },
   "outputs": [],
   "source": [
    "jci_data = pd.read_csv('Datasets/interim/Clean Data of JCI 2019.csv')"
   ]
  },
  {
   "cell_type": "code",
   "execution_count": 3,
   "metadata": {
    "ExecuteTime": {
     "end_time": "2020-04-02T01:29:35.055342Z",
     "start_time": "2020-04-02T01:29:33.429508Z"
    }
   },
   "outputs": [],
   "source": [
    "jci_data['Date'] = pd.to_datetime(jci_data['Date'],format = '%Y-%m-%d')\n",
    "day_name = ['Monday','Tuesday','Wednesday','Thursday','Friday','Saturday','Sunday']\n",
    "day_news = []\n",
    "for i in range(jci_data.shape[0]):\n",
    "    c = jci_data['Date'][i].weekday()\n",
    "    day_news.append(day_name[c])\n",
    "jci_data.insert(loc=1,column='Day',value = day_news)"
   ]
  },
  {
   "cell_type": "code",
   "execution_count": 4,
   "metadata": {
    "ExecuteTime": {
     "end_time": "2020-04-02T01:29:45.439242Z",
     "start_time": "2020-04-02T01:29:44.767387Z"
    }
   },
   "outputs": [
    {
     "name": "stdout",
     "output_type": "stream",
     "text": [
      "Dimension of JCI data:\n",
      "371 rows and 10 columns\n"
     ]
    },
    {
     "data": {
      "text/html": [
       "<div>\n",
       "<style scoped>\n",
       "    .dataframe tbody tr th:only-of-type {\n",
       "        vertical-align: middle;\n",
       "    }\n",
       "\n",
       "    .dataframe tbody tr th {\n",
       "        vertical-align: top;\n",
       "    }\n",
       "\n",
       "    .dataframe thead th {\n",
       "        text-align: right;\n",
       "    }\n",
       "</style>\n",
       "<table border=\"1\" class=\"dataframe\">\n",
       "  <thead>\n",
       "    <tr style=\"text-align: right;\">\n",
       "      <th></th>\n",
       "      <th>Date</th>\n",
       "      <th>Day</th>\n",
       "      <th>Open</th>\n",
       "      <th>High</th>\n",
       "      <th>Low</th>\n",
       "      <th>Close</th>\n",
       "      <th>Adj Close</th>\n",
       "      <th>Volume</th>\n",
       "      <th>Return</th>\n",
       "      <th>Free</th>\n",
       "    </tr>\n",
       "  </thead>\n",
       "  <tbody>\n",
       "    <tr>\n",
       "      <th>0</th>\n",
       "      <td>2018-12-28</td>\n",
       "      <td>Friday</td>\n",
       "      <td>6200.296875</td>\n",
       "      <td>6212.125000</td>\n",
       "      <td>6176.630859</td>\n",
       "      <td>6194.498047</td>\n",
       "      <td>6194.498047</td>\n",
       "      <td>69954900.0</td>\n",
       "      <td>0.000000</td>\n",
       "      <td>1</td>\n",
       "    </tr>\n",
       "    <tr>\n",
       "      <th>1</th>\n",
       "      <td>2018-12-29</td>\n",
       "      <td>Saturday</td>\n",
       "      <td>6199.993652</td>\n",
       "      <td>6211.346253</td>\n",
       "      <td>6175.156250</td>\n",
       "      <td>6192.832642</td>\n",
       "      <td>6192.832642</td>\n",
       "      <td>67810262.5</td>\n",
       "      <td>-0.000269</td>\n",
       "      <td>0</td>\n",
       "    </tr>\n",
       "    <tr>\n",
       "      <th>2</th>\n",
       "      <td>2018-12-30</td>\n",
       "      <td>Sunday</td>\n",
       "      <td>6199.690430</td>\n",
       "      <td>6210.567505</td>\n",
       "      <td>6173.681640</td>\n",
       "      <td>6191.167237</td>\n",
       "      <td>6191.167237</td>\n",
       "      <td>65665625.0</td>\n",
       "      <td>-0.000539</td>\n",
       "      <td>0</td>\n",
       "    </tr>\n",
       "    <tr>\n",
       "      <th>3</th>\n",
       "      <td>2018-12-31</td>\n",
       "      <td>Monday</td>\n",
       "      <td>6199.083985</td>\n",
       "      <td>6209.010010</td>\n",
       "      <td>6170.732422</td>\n",
       "      <td>6187.836426</td>\n",
       "      <td>6187.836426</td>\n",
       "      <td>61376350.0</td>\n",
       "      <td>-0.001078</td>\n",
       "      <td>0</td>\n",
       "    </tr>\n",
       "    <tr>\n",
       "      <th>4</th>\n",
       "      <td>2019-01-01</td>\n",
       "      <td>Tuesday</td>\n",
       "      <td>6198.477539</td>\n",
       "      <td>6207.452515</td>\n",
       "      <td>6167.783203</td>\n",
       "      <td>6184.505616</td>\n",
       "      <td>6184.505616</td>\n",
       "      <td>57087075.0</td>\n",
       "      <td>-0.001617</td>\n",
       "      <td>0</td>\n",
       "    </tr>\n",
       "  </tbody>\n",
       "</table>\n",
       "</div>"
      ],
      "text/plain": [
       "        Date       Day         Open         High          Low        Close  \\\n",
       "0 2018-12-28    Friday  6200.296875  6212.125000  6176.630859  6194.498047   \n",
       "1 2018-12-29  Saturday  6199.993652  6211.346253  6175.156250  6192.832642   \n",
       "2 2018-12-30    Sunday  6199.690430  6210.567505  6173.681640  6191.167237   \n",
       "3 2018-12-31    Monday  6199.083985  6209.010010  6170.732422  6187.836426   \n",
       "4 2019-01-01   Tuesday  6198.477539  6207.452515  6167.783203  6184.505616   \n",
       "\n",
       "     Adj Close      Volume    Return  Free  \n",
       "0  6194.498047  69954900.0  0.000000     1  \n",
       "1  6192.832642  67810262.5 -0.000269     0  \n",
       "2  6191.167237  65665625.0 -0.000539     0  \n",
       "3  6187.836426  61376350.0 -0.001078     0  \n",
       "4  6184.505616  57087075.0 -0.001617     0  "
      ]
     },
     "execution_count": 4,
     "metadata": {},
     "output_type": "execute_result"
    }
   ],
   "source": [
    "print('Dimension of JCI data:\\n{}'.format(jci_data.shape[0]),\n",
    "      'rows and {}'.format(jci_data.shape[1]),'columns')\n",
    "jci_data.head()"
   ]
  },
  {
   "cell_type": "code",
   "execution_count": 5,
   "metadata": {
    "ExecuteTime": {
     "end_time": "2020-04-02T01:29:53.353817Z",
     "start_time": "2020-04-02T01:29:53.302364Z"
    },
    "scrolled": false
   },
   "outputs": [
    {
     "data": {
      "text/html": [
       "<div>\n",
       "<style scoped>\n",
       "    .dataframe tbody tr th:only-of-type {\n",
       "        vertical-align: middle;\n",
       "    }\n",
       "\n",
       "    .dataframe tbody tr th {\n",
       "        vertical-align: top;\n",
       "    }\n",
       "\n",
       "    .dataframe thead th {\n",
       "        text-align: right;\n",
       "    }\n",
       "</style>\n",
       "<table border=\"1\" class=\"dataframe\">\n",
       "  <thead>\n",
       "    <tr style=\"text-align: right;\">\n",
       "      <th></th>\n",
       "      <th>Date</th>\n",
       "      <th>Day</th>\n",
       "      <th>Open</th>\n",
       "      <th>High</th>\n",
       "      <th>Low</th>\n",
       "      <th>Close</th>\n",
       "      <th>Adj Close</th>\n",
       "      <th>Volume</th>\n",
       "      <th>Return</th>\n",
       "      <th>Free</th>\n",
       "    </tr>\n",
       "  </thead>\n",
       "  <tbody>\n",
       "    <tr>\n",
       "      <th>366</th>\n",
       "      <td>2019-12-29</td>\n",
       "      <td>Sunday</td>\n",
       "      <td>6325.351807</td>\n",
       "      <td>6337.127930</td>\n",
       "      <td>6300.963867</td>\n",
       "      <td>6314.426514</td>\n",
       "      <td>6314.426514</td>\n",
       "      <td>44828800.0</td>\n",
       "      <td>-0.001583</td>\n",
       "      <td>0</td>\n",
       "    </tr>\n",
       "    <tr>\n",
       "      <th>367</th>\n",
       "      <td>2019-12-30</td>\n",
       "      <td>Monday</td>\n",
       "      <td>6329.134766</td>\n",
       "      <td>6336.919922</td>\n",
       "      <td>6289.546875</td>\n",
       "      <td>6299.539063</td>\n",
       "      <td>6299.539063</td>\n",
       "      <td>47557400.0</td>\n",
       "      <td>-0.004727</td>\n",
       "      <td>1</td>\n",
       "    </tr>\n",
       "    <tr>\n",
       "      <th>368</th>\n",
       "      <td>2019-12-31</td>\n",
       "      <td>Tuesday</td>\n",
       "      <td>6325.133057</td>\n",
       "      <td>6331.943237</td>\n",
       "      <td>6283.079102</td>\n",
       "      <td>6295.549561</td>\n",
       "      <td>6295.549561</td>\n",
       "      <td>43928975.0</td>\n",
       "      <td>-0.004180</td>\n",
       "      <td>0</td>\n",
       "    </tr>\n",
       "    <tr>\n",
       "      <th>369</th>\n",
       "      <td>2020-01-01</td>\n",
       "      <td>Wednesday</td>\n",
       "      <td>6321.131348</td>\n",
       "      <td>6326.966553</td>\n",
       "      <td>6276.611328</td>\n",
       "      <td>6291.560059</td>\n",
       "      <td>6291.560059</td>\n",
       "      <td>40300550.0</td>\n",
       "      <td>-0.003633</td>\n",
       "      <td>0</td>\n",
       "    </tr>\n",
       "    <tr>\n",
       "      <th>370</th>\n",
       "      <td>2020-01-02</td>\n",
       "      <td>Thursday</td>\n",
       "      <td>6313.127930</td>\n",
       "      <td>6317.013184</td>\n",
       "      <td>6263.675781</td>\n",
       "      <td>6283.581055</td>\n",
       "      <td>6283.581055</td>\n",
       "      <td>33043700.0</td>\n",
       "      <td>-0.002540</td>\n",
       "      <td>1</td>\n",
       "    </tr>\n",
       "  </tbody>\n",
       "</table>\n",
       "</div>"
      ],
      "text/plain": [
       "          Date        Day         Open         High          Low        Close  \\\n",
       "366 2019-12-29     Sunday  6325.351807  6337.127930  6300.963867  6314.426514   \n",
       "367 2019-12-30     Monday  6329.134766  6336.919922  6289.546875  6299.539063   \n",
       "368 2019-12-31    Tuesday  6325.133057  6331.943237  6283.079102  6295.549561   \n",
       "369 2020-01-01  Wednesday  6321.131348  6326.966553  6276.611328  6291.560059   \n",
       "370 2020-01-02   Thursday  6313.127930  6317.013184  6263.675781  6283.581055   \n",
       "\n",
       "       Adj Close      Volume    Return  Free  \n",
       "366  6314.426514  44828800.0 -0.001583     0  \n",
       "367  6299.539063  47557400.0 -0.004727     1  \n",
       "368  6295.549561  43928975.0 -0.004180     0  \n",
       "369  6291.560059  40300550.0 -0.003633     0  \n",
       "370  6283.581055  33043700.0 -0.002540     1  "
      ]
     },
     "execution_count": 5,
     "metadata": {},
     "output_type": "execute_result"
    }
   ],
   "source": [
    "jci_data.tail()"
   ]
  },
  {
   "cell_type": "code",
   "execution_count": 6,
   "metadata": {
    "ExecuteTime": {
     "end_time": "2020-04-02T01:30:08.953569Z",
     "start_time": "2020-04-02T01:29:55.827198Z"
    },
    "scrolled": false
   },
   "outputs": [
    {
     "data": {
      "text/plain": [
       "Date         0\n",
       "Day          0\n",
       "Open         0\n",
       "High         0\n",
       "Low          0\n",
       "Close        0\n",
       "Adj Close    0\n",
       "Volume       0\n",
       "Return       0\n",
       "Free         0\n",
       "dtype: int64"
      ]
     },
     "execution_count": 6,
     "metadata": {},
     "output_type": "execute_result"
    }
   ],
   "source": [
    "jci_data.isna().sum()"
   ]
  },
  {
   "cell_type": "markdown",
   "metadata": {},
   "source": [
    "### 2.2 Financial News Data"
   ]
  },
  {
   "cell_type": "code",
   "execution_count": 7,
   "metadata": {
    "ExecuteTime": {
     "end_time": "2020-04-02T01:30:17.724199Z",
     "start_time": "2020-04-02T01:30:17.519385Z"
    },
    "scrolled": false
   },
   "outputs": [
    {
     "name": "stdout",
     "output_type": "stream",
     "text": [
      "Dimension of financial news data:\n",
      "365 rows and 28 columns\n"
     ]
    },
    {
     "data": {
      "text/html": [
       "<div>\n",
       "<style scoped>\n",
       "    .dataframe tbody tr th:only-of-type {\n",
       "        vertical-align: middle;\n",
       "    }\n",
       "\n",
       "    .dataframe tbody tr th {\n",
       "        vertical-align: top;\n",
       "    }\n",
       "\n",
       "    .dataframe thead th {\n",
       "        text-align: right;\n",
       "    }\n",
       "</style>\n",
       "<table border=\"1\" class=\"dataframe\">\n",
       "  <thead>\n",
       "    <tr style=\"text-align: right;\">\n",
       "      <th></th>\n",
       "      <th>date</th>\n",
       "      <th>date_format</th>\n",
       "      <th>day</th>\n",
       "      <th>month</th>\n",
       "      <th>num_pos_okezone</th>\n",
       "      <th>num_neg_okezone</th>\n",
       "      <th>num_net_okezone</th>\n",
       "      <th>total_okezone</th>\n",
       "      <th>num_pos_okezone_jci</th>\n",
       "      <th>num_neg_okezone_jci</th>\n",
       "      <th>...</th>\n",
       "      <th>num_net_kompas_jci</th>\n",
       "      <th>total_kompas_jci</th>\n",
       "      <th>num_pos_detik</th>\n",
       "      <th>num_neg_detik</th>\n",
       "      <th>num_net_detik</th>\n",
       "      <th>total_detik</th>\n",
       "      <th>num_pos_detik_jci</th>\n",
       "      <th>num_neg_detik_jci</th>\n",
       "      <th>num_net_detik_jci</th>\n",
       "      <th>total_detik_jci</th>\n",
       "    </tr>\n",
       "  </thead>\n",
       "  <tbody>\n",
       "    <tr>\n",
       "      <th>0</th>\n",
       "      <td>01 Januari 2019</td>\n",
       "      <td>2019-01-01</td>\n",
       "      <td>Tuesday</td>\n",
       "      <td>Januari</td>\n",
       "      <td>9.0</td>\n",
       "      <td>1.0</td>\n",
       "      <td>2.0</td>\n",
       "      <td>12.0</td>\n",
       "      <td>1.0</td>\n",
       "      <td>0.0</td>\n",
       "      <td>...</td>\n",
       "      <td>0.0</td>\n",
       "      <td>0.0</td>\n",
       "      <td>3.0</td>\n",
       "      <td>1.0</td>\n",
       "      <td>4.0</td>\n",
       "      <td>8.0</td>\n",
       "      <td>0.0</td>\n",
       "      <td>0.0</td>\n",
       "      <td>0.0</td>\n",
       "      <td>0.0</td>\n",
       "    </tr>\n",
       "    <tr>\n",
       "      <th>1</th>\n",
       "      <td>02 Januari 2019</td>\n",
       "      <td>2019-01-02</td>\n",
       "      <td>Wednesday</td>\n",
       "      <td>Januari</td>\n",
       "      <td>20.0</td>\n",
       "      <td>12.0</td>\n",
       "      <td>1.0</td>\n",
       "      <td>33.0</td>\n",
       "      <td>3.0</td>\n",
       "      <td>2.0</td>\n",
       "      <td>...</td>\n",
       "      <td>0.0</td>\n",
       "      <td>1.0</td>\n",
       "      <td>17.0</td>\n",
       "      <td>10.0</td>\n",
       "      <td>5.0</td>\n",
       "      <td>32.0</td>\n",
       "      <td>3.0</td>\n",
       "      <td>2.0</td>\n",
       "      <td>0.0</td>\n",
       "      <td>5.0</td>\n",
       "    </tr>\n",
       "    <tr>\n",
       "      <th>2</th>\n",
       "      <td>03 Januari 2019</td>\n",
       "      <td>2019-01-03</td>\n",
       "      <td>Thursday</td>\n",
       "      <td>Januari</td>\n",
       "      <td>23.0</td>\n",
       "      <td>7.0</td>\n",
       "      <td>3.0</td>\n",
       "      <td>33.0</td>\n",
       "      <td>3.0</td>\n",
       "      <td>1.0</td>\n",
       "      <td>...</td>\n",
       "      <td>0.0</td>\n",
       "      <td>0.0</td>\n",
       "      <td>12.0</td>\n",
       "      <td>5.0</td>\n",
       "      <td>6.0</td>\n",
       "      <td>23.0</td>\n",
       "      <td>4.0</td>\n",
       "      <td>0.0</td>\n",
       "      <td>0.0</td>\n",
       "      <td>4.0</td>\n",
       "    </tr>\n",
       "    <tr>\n",
       "      <th>3</th>\n",
       "      <td>04 Januari 2019</td>\n",
       "      <td>2019-01-04</td>\n",
       "      <td>Friday</td>\n",
       "      <td>Januari</td>\n",
       "      <td>26.0</td>\n",
       "      <td>8.0</td>\n",
       "      <td>3.0</td>\n",
       "      <td>37.0</td>\n",
       "      <td>2.0</td>\n",
       "      <td>1.0</td>\n",
       "      <td>...</td>\n",
       "      <td>0.0</td>\n",
       "      <td>0.0</td>\n",
       "      <td>22.0</td>\n",
       "      <td>9.0</td>\n",
       "      <td>5.0</td>\n",
       "      <td>36.0</td>\n",
       "      <td>3.0</td>\n",
       "      <td>1.0</td>\n",
       "      <td>0.0</td>\n",
       "      <td>4.0</td>\n",
       "    </tr>\n",
       "    <tr>\n",
       "      <th>4</th>\n",
       "      <td>05 Januari 2019</td>\n",
       "      <td>2019-01-05</td>\n",
       "      <td>Saturday</td>\n",
       "      <td>Januari</td>\n",
       "      <td>10.0</td>\n",
       "      <td>3.0</td>\n",
       "      <td>1.0</td>\n",
       "      <td>14.0</td>\n",
       "      <td>0.0</td>\n",
       "      <td>0.0</td>\n",
       "      <td>...</td>\n",
       "      <td>0.0</td>\n",
       "      <td>0.0</td>\n",
       "      <td>7.0</td>\n",
       "      <td>3.0</td>\n",
       "      <td>1.0</td>\n",
       "      <td>11.0</td>\n",
       "      <td>0.0</td>\n",
       "      <td>0.0</td>\n",
       "      <td>0.0</td>\n",
       "      <td>0.0</td>\n",
       "    </tr>\n",
       "  </tbody>\n",
       "</table>\n",
       "<p>5 rows × 28 columns</p>\n",
       "</div>"
      ],
      "text/plain": [
       "              date date_format        day    month  num_pos_okezone  \\\n",
       "0  01 Januari 2019  2019-01-01    Tuesday  Januari              9.0   \n",
       "1  02 Januari 2019  2019-01-02  Wednesday  Januari             20.0   \n",
       "2  03 Januari 2019  2019-01-03   Thursday  Januari             23.0   \n",
       "3  04 Januari 2019  2019-01-04     Friday  Januari             26.0   \n",
       "4  05 Januari 2019  2019-01-05   Saturday  Januari             10.0   \n",
       "\n",
       "   num_neg_okezone  num_net_okezone  total_okezone  num_pos_okezone_jci  \\\n",
       "0              1.0              2.0           12.0                  1.0   \n",
       "1             12.0              1.0           33.0                  3.0   \n",
       "2              7.0              3.0           33.0                  3.0   \n",
       "3              8.0              3.0           37.0                  2.0   \n",
       "4              3.0              1.0           14.0                  0.0   \n",
       "\n",
       "   num_neg_okezone_jci  ...  num_net_kompas_jci  total_kompas_jci  \\\n",
       "0                  0.0  ...                 0.0               0.0   \n",
       "1                  2.0  ...                 0.0               1.0   \n",
       "2                  1.0  ...                 0.0               0.0   \n",
       "3                  1.0  ...                 0.0               0.0   \n",
       "4                  0.0  ...                 0.0               0.0   \n",
       "\n",
       "   num_pos_detik  num_neg_detik  num_net_detik  total_detik  \\\n",
       "0            3.0            1.0            4.0          8.0   \n",
       "1           17.0           10.0            5.0         32.0   \n",
       "2           12.0            5.0            6.0         23.0   \n",
       "3           22.0            9.0            5.0         36.0   \n",
       "4            7.0            3.0            1.0         11.0   \n",
       "\n",
       "   num_pos_detik_jci  num_neg_detik_jci  num_net_detik_jci  total_detik_jci  \n",
       "0                0.0                0.0                0.0              0.0  \n",
       "1                3.0                2.0                0.0              5.0  \n",
       "2                4.0                0.0                0.0              4.0  \n",
       "3                3.0                1.0                0.0              4.0  \n",
       "4                0.0                0.0                0.0              0.0  \n",
       "\n",
       "[5 rows x 28 columns]"
      ]
     },
     "execution_count": 7,
     "metadata": {},
     "output_type": "execute_result"
    }
   ],
   "source": [
    "news_data = pd.read_csv('Datasets/interim/Aggregation Data of Financial News.csv')\n",
    "print('Dimension of financial news data:\\n{}'.format(news_data.shape[0]),\n",
    "      'rows and {}'.format(news_data.shape[1]),'columns')\n",
    "news_data.head()"
   ]
  },
  {
   "cell_type": "code",
   "execution_count": 8,
   "metadata": {
    "ExecuteTime": {
     "end_time": "2020-04-02T01:30:20.934202Z",
     "start_time": "2020-04-02T01:30:20.833450Z"
    }
   },
   "outputs": [
    {
     "data": {
      "text/html": [
       "<div>\n",
       "<style scoped>\n",
       "    .dataframe tbody tr th:only-of-type {\n",
       "        vertical-align: middle;\n",
       "    }\n",
       "\n",
       "    .dataframe tbody tr th {\n",
       "        vertical-align: top;\n",
       "    }\n",
       "\n",
       "    .dataframe thead th {\n",
       "        text-align: right;\n",
       "    }\n",
       "</style>\n",
       "<table border=\"1\" class=\"dataframe\">\n",
       "  <thead>\n",
       "    <tr style=\"text-align: right;\">\n",
       "      <th></th>\n",
       "      <th>date</th>\n",
       "      <th>date_format</th>\n",
       "      <th>day</th>\n",
       "      <th>month</th>\n",
       "      <th>num_pos_okezone</th>\n",
       "      <th>num_neg_okezone</th>\n",
       "      <th>num_net_okezone</th>\n",
       "      <th>total_okezone</th>\n",
       "      <th>num_pos_okezone_jci</th>\n",
       "      <th>num_neg_okezone_jci</th>\n",
       "      <th>...</th>\n",
       "      <th>num_net_kompas_jci</th>\n",
       "      <th>total_kompas_jci</th>\n",
       "      <th>num_pos_detik</th>\n",
       "      <th>num_neg_detik</th>\n",
       "      <th>num_net_detik</th>\n",
       "      <th>total_detik</th>\n",
       "      <th>num_pos_detik_jci</th>\n",
       "      <th>num_neg_detik_jci</th>\n",
       "      <th>num_net_detik_jci</th>\n",
       "      <th>total_detik_jci</th>\n",
       "    </tr>\n",
       "  </thead>\n",
       "  <tbody>\n",
       "    <tr>\n",
       "      <th>360</th>\n",
       "      <td>27 Desember 2019</td>\n",
       "      <td>2019-12-27</td>\n",
       "      <td>Friday</td>\n",
       "      <td>Desember</td>\n",
       "      <td>11.0</td>\n",
       "      <td>8.0</td>\n",
       "      <td>3.0</td>\n",
       "      <td>22.0</td>\n",
       "      <td>4.0</td>\n",
       "      <td>0.0</td>\n",
       "      <td>...</td>\n",
       "      <td>0.0</td>\n",
       "      <td>0.0</td>\n",
       "      <td>14.0</td>\n",
       "      <td>11.0</td>\n",
       "      <td>14.0</td>\n",
       "      <td>39.0</td>\n",
       "      <td>5.0</td>\n",
       "      <td>0.0</td>\n",
       "      <td>0.0</td>\n",
       "      <td>5.0</td>\n",
       "    </tr>\n",
       "    <tr>\n",
       "      <th>361</th>\n",
       "      <td>28 Desember 2019</td>\n",
       "      <td>2019-12-28</td>\n",
       "      <td>Saturday</td>\n",
       "      <td>Desember</td>\n",
       "      <td>0.0</td>\n",
       "      <td>5.0</td>\n",
       "      <td>0.0</td>\n",
       "      <td>5.0</td>\n",
       "      <td>0.0</td>\n",
       "      <td>0.0</td>\n",
       "      <td>...</td>\n",
       "      <td>0.0</td>\n",
       "      <td>0.0</td>\n",
       "      <td>3.0</td>\n",
       "      <td>5.0</td>\n",
       "      <td>9.0</td>\n",
       "      <td>17.0</td>\n",
       "      <td>1.0</td>\n",
       "      <td>0.0</td>\n",
       "      <td>1.0</td>\n",
       "      <td>2.0</td>\n",
       "    </tr>\n",
       "    <tr>\n",
       "      <th>362</th>\n",
       "      <td>29 Desember 2019</td>\n",
       "      <td>2019-12-29</td>\n",
       "      <td>Sunday</td>\n",
       "      <td>Desember</td>\n",
       "      <td>2.0</td>\n",
       "      <td>1.0</td>\n",
       "      <td>1.0</td>\n",
       "      <td>4.0</td>\n",
       "      <td>1.0</td>\n",
       "      <td>0.0</td>\n",
       "      <td>...</td>\n",
       "      <td>0.0</td>\n",
       "      <td>0.0</td>\n",
       "      <td>1.0</td>\n",
       "      <td>3.0</td>\n",
       "      <td>8.0</td>\n",
       "      <td>12.0</td>\n",
       "      <td>0.0</td>\n",
       "      <td>0.0</td>\n",
       "      <td>0.0</td>\n",
       "      <td>0.0</td>\n",
       "    </tr>\n",
       "    <tr>\n",
       "      <th>363</th>\n",
       "      <td>30 Desember 2019</td>\n",
       "      <td>2019-12-30</td>\n",
       "      <td>Monday</td>\n",
       "      <td>Desember</td>\n",
       "      <td>9.0</td>\n",
       "      <td>4.0</td>\n",
       "      <td>3.0</td>\n",
       "      <td>16.0</td>\n",
       "      <td>2.0</td>\n",
       "      <td>3.0</td>\n",
       "      <td>...</td>\n",
       "      <td>1.0</td>\n",
       "      <td>2.0</td>\n",
       "      <td>12.0</td>\n",
       "      <td>13.0</td>\n",
       "      <td>12.0</td>\n",
       "      <td>37.0</td>\n",
       "      <td>2.0</td>\n",
       "      <td>6.0</td>\n",
       "      <td>0.0</td>\n",
       "      <td>8.0</td>\n",
       "    </tr>\n",
       "    <tr>\n",
       "      <th>364</th>\n",
       "      <td>31 Desember 2019</td>\n",
       "      <td>2019-12-31</td>\n",
       "      <td>Tuesday</td>\n",
       "      <td>Desember</td>\n",
       "      <td>0.0</td>\n",
       "      <td>0.0</td>\n",
       "      <td>0.0</td>\n",
       "      <td>0.0</td>\n",
       "      <td>0.0</td>\n",
       "      <td>0.0</td>\n",
       "      <td>...</td>\n",
       "      <td>0.0</td>\n",
       "      <td>0.0</td>\n",
       "      <td>0.0</td>\n",
       "      <td>0.0</td>\n",
       "      <td>0.0</td>\n",
       "      <td>0.0</td>\n",
       "      <td>0.0</td>\n",
       "      <td>0.0</td>\n",
       "      <td>0.0</td>\n",
       "      <td>0.0</td>\n",
       "    </tr>\n",
       "  </tbody>\n",
       "</table>\n",
       "<p>5 rows × 28 columns</p>\n",
       "</div>"
      ],
      "text/plain": [
       "                 date date_format       day     month  num_pos_okezone  \\\n",
       "360  27 Desember 2019  2019-12-27    Friday  Desember             11.0   \n",
       "361  28 Desember 2019  2019-12-28  Saturday  Desember              0.0   \n",
       "362  29 Desember 2019  2019-12-29    Sunday  Desember              2.0   \n",
       "363  30 Desember 2019  2019-12-30    Monday  Desember              9.0   \n",
       "364  31 Desember 2019  2019-12-31   Tuesday  Desember              0.0   \n",
       "\n",
       "     num_neg_okezone  num_net_okezone  total_okezone  num_pos_okezone_jci  \\\n",
       "360              8.0              3.0           22.0                  4.0   \n",
       "361              5.0              0.0            5.0                  0.0   \n",
       "362              1.0              1.0            4.0                  1.0   \n",
       "363              4.0              3.0           16.0                  2.0   \n",
       "364              0.0              0.0            0.0                  0.0   \n",
       "\n",
       "     num_neg_okezone_jci  ...  num_net_kompas_jci  total_kompas_jci  \\\n",
       "360                  0.0  ...                 0.0               0.0   \n",
       "361                  0.0  ...                 0.0               0.0   \n",
       "362                  0.0  ...                 0.0               0.0   \n",
       "363                  3.0  ...                 1.0               2.0   \n",
       "364                  0.0  ...                 0.0               0.0   \n",
       "\n",
       "     num_pos_detik  num_neg_detik  num_net_detik  total_detik  \\\n",
       "360           14.0           11.0           14.0         39.0   \n",
       "361            3.0            5.0            9.0         17.0   \n",
       "362            1.0            3.0            8.0         12.0   \n",
       "363           12.0           13.0           12.0         37.0   \n",
       "364            0.0            0.0            0.0          0.0   \n",
       "\n",
       "     num_pos_detik_jci  num_neg_detik_jci  num_net_detik_jci  total_detik_jci  \n",
       "360                5.0                0.0                0.0              5.0  \n",
       "361                1.0                0.0                1.0              2.0  \n",
       "362                0.0                0.0                0.0              0.0  \n",
       "363                2.0                6.0                0.0              8.0  \n",
       "364                0.0                0.0                0.0              0.0  \n",
       "\n",
       "[5 rows x 28 columns]"
      ]
     },
     "execution_count": 8,
     "metadata": {},
     "output_type": "execute_result"
    }
   ],
   "source": [
    "news_data.tail()"
   ]
  },
  {
   "cell_type": "code",
   "execution_count": 9,
   "metadata": {
    "ExecuteTime": {
     "end_time": "2020-04-02T01:30:25.423144Z",
     "start_time": "2020-04-02T01:30:25.401624Z"
    },
    "scrolled": false
   },
   "outputs": [
    {
     "data": {
      "text/plain": [
       "date                   0\n",
       "date_format            0\n",
       "day                    0\n",
       "month                  0\n",
       "num_pos_okezone        0\n",
       "num_neg_okezone        0\n",
       "num_net_okezone        0\n",
       "total_okezone          0\n",
       "num_pos_okezone_jci    0\n",
       "num_neg_okezone_jci    0\n",
       "num_net_okezone_jci    0\n",
       "total_okezone_jci      0\n",
       "num_pos_kompas         0\n",
       "num_neg_kompas         0\n",
       "num_net_kompas         0\n",
       "total_kompas           0\n",
       "num_pos_kompas_jci     0\n",
       "num_neg_kompas_jci     0\n",
       "num_net_kompas_jci     0\n",
       "total_kompas_jci       0\n",
       "num_pos_detik          0\n",
       "num_neg_detik          0\n",
       "num_net_detik          0\n",
       "total_detik            0\n",
       "num_pos_detik_jci      0\n",
       "num_neg_detik_jci      0\n",
       "num_net_detik_jci      0\n",
       "total_detik_jci        0\n",
       "dtype: int64"
      ]
     },
     "execution_count": 9,
     "metadata": {},
     "output_type": "execute_result"
    }
   ],
   "source": [
    "news_data.isna().sum()"
   ]
  },
  {
   "cell_type": "markdown",
   "metadata": {},
   "source": [
    "## 3 Merge the Data"
   ]
  },
  {
   "cell_type": "code",
   "execution_count": 10,
   "metadata": {
    "ExecuteTime": {
     "end_time": "2020-04-02T01:30:42.603507Z",
     "start_time": "2020-04-02T01:30:42.513659Z"
    }
   },
   "outputs": [],
   "source": [
    "# Subsetting JCI data\n",
    "subset_jci = jci_data.iloc[4:367][['Return','Free']]\n",
    "subset_jci.reset_index(drop=True,inplace=True)"
   ]
  },
  {
   "cell_type": "code",
   "execution_count": 11,
   "metadata": {
    "ExecuteTime": {
     "end_time": "2020-04-02T01:30:45.280595Z",
     "start_time": "2020-04-02T01:30:44.611560Z"
    }
   },
   "outputs": [],
   "source": [
    "df_full = pd.concat([news_data,subset_jci],axis=1)"
   ]
  },
  {
   "cell_type": "code",
   "execution_count": 12,
   "metadata": {
    "ExecuteTime": {
     "end_time": "2020-04-02T01:30:57.320716Z",
     "start_time": "2020-04-02T01:30:57.236654Z"
    },
    "scrolled": false
   },
   "outputs": [
    {
     "name": "stdout",
     "output_type": "stream",
     "text": [
      "<class 'pandas.core.frame.DataFrame'>\n",
      "RangeIndex: 365 entries, 0 to 364\n",
      "Data columns (total 30 columns):\n",
      "date                   365 non-null object\n",
      "date_format            365 non-null object\n",
      "day                    365 non-null object\n",
      "month                  365 non-null object\n",
      "num_pos_okezone        365 non-null float64\n",
      "num_neg_okezone        365 non-null float64\n",
      "num_net_okezone        365 non-null float64\n",
      "total_okezone          365 non-null float64\n",
      "num_pos_okezone_jci    365 non-null float64\n",
      "num_neg_okezone_jci    365 non-null float64\n",
      "num_net_okezone_jci    365 non-null float64\n",
      "total_okezone_jci      365 non-null float64\n",
      "num_pos_kompas         365 non-null float64\n",
      "num_neg_kompas         365 non-null float64\n",
      "num_net_kompas         365 non-null float64\n",
      "total_kompas           365 non-null float64\n",
      "num_pos_kompas_jci     365 non-null float64\n",
      "num_neg_kompas_jci     365 non-null float64\n",
      "num_net_kompas_jci     365 non-null float64\n",
      "total_kompas_jci       365 non-null float64\n",
      "num_pos_detik          365 non-null float64\n",
      "num_neg_detik          365 non-null float64\n",
      "num_net_detik          365 non-null float64\n",
      "total_detik            365 non-null float64\n",
      "num_pos_detik_jci      365 non-null float64\n",
      "num_neg_detik_jci      365 non-null float64\n",
      "num_net_detik_jci      365 non-null float64\n",
      "total_detik_jci        365 non-null float64\n",
      "Return                 363 non-null float64\n",
      "Free                   363 non-null float64\n",
      "dtypes: float64(26), object(4)\n",
      "memory usage: 85.7+ KB\n"
     ]
    }
   ],
   "source": [
    "df_full.info()"
   ]
  },
  {
   "cell_type": "code",
   "execution_count": 13,
   "metadata": {
    "ExecuteTime": {
     "end_time": "2020-04-02T01:31:03.035473Z",
     "start_time": "2020-04-02T01:31:03.029144Z"
    }
   },
   "outputs": [],
   "source": [
    "# Copy of full data for calculating percentage of sentiment\n",
    "df_full_raw = df_full.copy()"
   ]
  },
  {
   "cell_type": "code",
   "execution_count": 14,
   "metadata": {
    "ExecuteTime": {
     "end_time": "2020-04-02T01:31:04.932745Z",
     "start_time": "2020-04-02T01:31:04.861769Z"
    }
   },
   "outputs": [
    {
     "data": {
      "text/html": [
       "<div>\n",
       "<style scoped>\n",
       "    .dataframe tbody tr th:only-of-type {\n",
       "        vertical-align: middle;\n",
       "    }\n",
       "\n",
       "    .dataframe tbody tr th {\n",
       "        vertical-align: top;\n",
       "    }\n",
       "\n",
       "    .dataframe thead th {\n",
       "        text-align: right;\n",
       "    }\n",
       "</style>\n",
       "<table border=\"1\" class=\"dataframe\">\n",
       "  <thead>\n",
       "    <tr style=\"text-align: right;\">\n",
       "      <th></th>\n",
       "      <th>date</th>\n",
       "      <th>date_format</th>\n",
       "      <th>day</th>\n",
       "      <th>month</th>\n",
       "      <th>num_pos_okezone</th>\n",
       "      <th>num_neg_okezone</th>\n",
       "      <th>num_net_okezone</th>\n",
       "      <th>total_okezone</th>\n",
       "      <th>num_pos_okezone_jci</th>\n",
       "      <th>num_neg_okezone_jci</th>\n",
       "      <th>...</th>\n",
       "      <th>num_pos_detik</th>\n",
       "      <th>num_neg_detik</th>\n",
       "      <th>num_net_detik</th>\n",
       "      <th>total_detik</th>\n",
       "      <th>num_pos_detik_jci</th>\n",
       "      <th>num_neg_detik_jci</th>\n",
       "      <th>num_net_detik_jci</th>\n",
       "      <th>total_detik_jci</th>\n",
       "      <th>Return</th>\n",
       "      <th>Free</th>\n",
       "    </tr>\n",
       "  </thead>\n",
       "  <tbody>\n",
       "    <tr>\n",
       "      <th>0</th>\n",
       "      <td>01 Januari 2019</td>\n",
       "      <td>2019-01-01</td>\n",
       "      <td>Tuesday</td>\n",
       "      <td>Januari</td>\n",
       "      <td>9.0</td>\n",
       "      <td>1.0</td>\n",
       "      <td>2.0</td>\n",
       "      <td>12.0</td>\n",
       "      <td>1.0</td>\n",
       "      <td>0.0</td>\n",
       "      <td>...</td>\n",
       "      <td>3.0</td>\n",
       "      <td>1.0</td>\n",
       "      <td>4.0</td>\n",
       "      <td>8.0</td>\n",
       "      <td>0.0</td>\n",
       "      <td>0.0</td>\n",
       "      <td>0.0</td>\n",
       "      <td>0.0</td>\n",
       "      <td>-0.001617</td>\n",
       "      <td>0.0</td>\n",
       "    </tr>\n",
       "    <tr>\n",
       "      <th>1</th>\n",
       "      <td>02 Januari 2019</td>\n",
       "      <td>2019-01-02</td>\n",
       "      <td>Wednesday</td>\n",
       "      <td>Januari</td>\n",
       "      <td>20.0</td>\n",
       "      <td>12.0</td>\n",
       "      <td>1.0</td>\n",
       "      <td>33.0</td>\n",
       "      <td>3.0</td>\n",
       "      <td>2.0</td>\n",
       "      <td>...</td>\n",
       "      <td>17.0</td>\n",
       "      <td>10.0</td>\n",
       "      <td>5.0</td>\n",
       "      <td>32.0</td>\n",
       "      <td>3.0</td>\n",
       "      <td>2.0</td>\n",
       "      <td>0.0</td>\n",
       "      <td>5.0</td>\n",
       "      <td>-0.002155</td>\n",
       "      <td>1.0</td>\n",
       "    </tr>\n",
       "    <tr>\n",
       "      <th>2</th>\n",
       "      <td>03 Januari 2019</td>\n",
       "      <td>2019-01-03</td>\n",
       "      <td>Thursday</td>\n",
       "      <td>Januari</td>\n",
       "      <td>23.0</td>\n",
       "      <td>7.0</td>\n",
       "      <td>3.0</td>\n",
       "      <td>33.0</td>\n",
       "      <td>3.0</td>\n",
       "      <td>1.0</td>\n",
       "      <td>...</td>\n",
       "      <td>12.0</td>\n",
       "      <td>5.0</td>\n",
       "      <td>6.0</td>\n",
       "      <td>23.0</td>\n",
       "      <td>4.0</td>\n",
       "      <td>0.0</td>\n",
       "      <td>0.0</td>\n",
       "      <td>4.0</td>\n",
       "      <td>0.006403</td>\n",
       "      <td>1.0</td>\n",
       "    </tr>\n",
       "    <tr>\n",
       "      <th>3</th>\n",
       "      <td>04 Januari 2019</td>\n",
       "      <td>2019-01-04</td>\n",
       "      <td>Friday</td>\n",
       "      <td>Januari</td>\n",
       "      <td>26.0</td>\n",
       "      <td>8.0</td>\n",
       "      <td>3.0</td>\n",
       "      <td>37.0</td>\n",
       "      <td>2.0</td>\n",
       "      <td>1.0</td>\n",
       "      <td>...</td>\n",
       "      <td>22.0</td>\n",
       "      <td>9.0</td>\n",
       "      <td>5.0</td>\n",
       "      <td>36.0</td>\n",
       "      <td>3.0</td>\n",
       "      <td>1.0</td>\n",
       "      <td>0.0</td>\n",
       "      <td>4.0</td>\n",
       "      <td>0.008531</td>\n",
       "      <td>1.0</td>\n",
       "    </tr>\n",
       "    <tr>\n",
       "      <th>4</th>\n",
       "      <td>05 Januari 2019</td>\n",
       "      <td>2019-01-05</td>\n",
       "      <td>Saturday</td>\n",
       "      <td>Januari</td>\n",
       "      <td>10.0</td>\n",
       "      <td>3.0</td>\n",
       "      <td>1.0</td>\n",
       "      <td>14.0</td>\n",
       "      <td>0.0</td>\n",
       "      <td>0.0</td>\n",
       "      <td>...</td>\n",
       "      <td>7.0</td>\n",
       "      <td>3.0</td>\n",
       "      <td>1.0</td>\n",
       "      <td>11.0</td>\n",
       "      <td>0.0</td>\n",
       "      <td>0.0</td>\n",
       "      <td>0.0</td>\n",
       "      <td>0.0</td>\n",
       "      <td>0.006903</td>\n",
       "      <td>0.0</td>\n",
       "    </tr>\n",
       "  </tbody>\n",
       "</table>\n",
       "<p>5 rows × 30 columns</p>\n",
       "</div>"
      ],
      "text/plain": [
       "              date date_format        day    month  num_pos_okezone  \\\n",
       "0  01 Januari 2019  2019-01-01    Tuesday  Januari              9.0   \n",
       "1  02 Januari 2019  2019-01-02  Wednesday  Januari             20.0   \n",
       "2  03 Januari 2019  2019-01-03   Thursday  Januari             23.0   \n",
       "3  04 Januari 2019  2019-01-04     Friday  Januari             26.0   \n",
       "4  05 Januari 2019  2019-01-05   Saturday  Januari             10.0   \n",
       "\n",
       "   num_neg_okezone  num_net_okezone  total_okezone  num_pos_okezone_jci  \\\n",
       "0              1.0              2.0           12.0                  1.0   \n",
       "1             12.0              1.0           33.0                  3.0   \n",
       "2              7.0              3.0           33.0                  3.0   \n",
       "3              8.0              3.0           37.0                  2.0   \n",
       "4              3.0              1.0           14.0                  0.0   \n",
       "\n",
       "   num_neg_okezone_jci  ...  num_pos_detik  num_neg_detik  num_net_detik  \\\n",
       "0                  0.0  ...            3.0            1.0            4.0   \n",
       "1                  2.0  ...           17.0           10.0            5.0   \n",
       "2                  1.0  ...           12.0            5.0            6.0   \n",
       "3                  1.0  ...           22.0            9.0            5.0   \n",
       "4                  0.0  ...            7.0            3.0            1.0   \n",
       "\n",
       "   total_detik  num_pos_detik_jci  num_neg_detik_jci  num_net_detik_jci  \\\n",
       "0          8.0                0.0                0.0                0.0   \n",
       "1         32.0                3.0                2.0                0.0   \n",
       "2         23.0                4.0                0.0                0.0   \n",
       "3         36.0                3.0                1.0                0.0   \n",
       "4         11.0                0.0                0.0                0.0   \n",
       "\n",
       "   total_detik_jci    Return  Free  \n",
       "0              0.0 -0.001617   0.0  \n",
       "1              5.0 -0.002155   1.0  \n",
       "2              4.0  0.006403   1.0  \n",
       "3              4.0  0.008531   1.0  \n",
       "4              0.0  0.006903   0.0  \n",
       "\n",
       "[5 rows x 30 columns]"
      ]
     },
     "execution_count": 14,
     "metadata": {},
     "output_type": "execute_result"
    }
   ],
   "source": [
    "df_full_raw.head()"
   ]
  },
  {
   "cell_type": "code",
   "execution_count": 15,
   "metadata": {
    "ExecuteTime": {
     "end_time": "2020-04-02T01:31:10.531155Z",
     "start_time": "2020-04-02T01:31:10.095799Z"
    }
   },
   "outputs": [],
   "source": [
    "# Preprocessing of Okezone\n",
    "df_full['num_pos_okezone'] = df_full['num_pos_okezone']/df_full['total_okezone']\n",
    "df_full['num_neg_okezone'] = df_full['num_neg_okezone']/df_full['total_okezone']\n",
    "df_full['num_pos_okezone_jci'] = df_full['num_pos_okezone_jci']/df_full['total_okezone_jci']\n",
    "df_full['num_neg_okezone_jci'] = df_full['num_neg_okezone_jci']/df_full['total_okezone_jci']\n",
    "# Preprocessing of Kompas\n",
    "df_full['num_pos_kompas'] = df_full['num_pos_kompas']/df_full['total_kompas']\n",
    "df_full['num_neg_kompas'] = df_full['num_neg_kompas']/df_full['total_kompas']\n",
    "df_full['num_pos_kompas_jci'] = df_full['num_pos_kompas_jci']/df_full['total_kompas_jci']\n",
    "df_full['num_neg_kompas_jci'] = df_full['num_neg_kompas_jci']/df_full['total_kompas_jci']\n",
    "# Preprocessing of Detik\n",
    "df_full['num_pos_detik'] = df_full['num_pos_detik']/df_full['total_detik']\n",
    "df_full['num_neg_detik'] = df_full['num_neg_detik']/df_full['total_detik']\n",
    "df_full['num_pos_detik_jci'] = df_full['num_pos_detik_jci']/df_full['total_detik_jci']\n",
    "df_full['num_neg_detik_jci'] = df_full['num_neg_detik_jci']/df_full['total_detik_jci']"
   ]
  },
  {
   "cell_type": "code",
   "execution_count": 16,
   "metadata": {
    "ExecuteTime": {
     "end_time": "2020-04-02T01:31:12.560464Z",
     "start_time": "2020-04-02T01:31:12.534061Z"
    }
   },
   "outputs": [],
   "source": [
    "# Drop neutral sentiment\n",
    "df_full = df_full.drop(['num_net_okezone','num_net_okezone_jci',\n",
    "                        'num_net_kompas','num_net_kompas_jci',\n",
    "                        'num_net_detik','num_net_detik_jci'],axis=1)"
   ]
  },
  {
   "cell_type": "code",
   "execution_count": 17,
   "metadata": {
    "ExecuteTime": {
     "end_time": "2020-04-02T01:31:15.430022Z",
     "start_time": "2020-04-02T01:31:15.363295Z"
    },
    "scrolled": false
   },
   "outputs": [
    {
     "data": {
      "text/html": [
       "<div>\n",
       "<style scoped>\n",
       "    .dataframe tbody tr th:only-of-type {\n",
       "        vertical-align: middle;\n",
       "    }\n",
       "\n",
       "    .dataframe tbody tr th {\n",
       "        vertical-align: top;\n",
       "    }\n",
       "\n",
       "    .dataframe thead th {\n",
       "        text-align: right;\n",
       "    }\n",
       "</style>\n",
       "<table border=\"1\" class=\"dataframe\">\n",
       "  <thead>\n",
       "    <tr style=\"text-align: right;\">\n",
       "      <th></th>\n",
       "      <th>date</th>\n",
       "      <th>date_format</th>\n",
       "      <th>day</th>\n",
       "      <th>month</th>\n",
       "      <th>num_pos_okezone</th>\n",
       "      <th>num_neg_okezone</th>\n",
       "      <th>total_okezone</th>\n",
       "      <th>num_pos_okezone_jci</th>\n",
       "      <th>num_neg_okezone_jci</th>\n",
       "      <th>total_okezone_jci</th>\n",
       "      <th>...</th>\n",
       "      <th>num_neg_kompas_jci</th>\n",
       "      <th>total_kompas_jci</th>\n",
       "      <th>num_pos_detik</th>\n",
       "      <th>num_neg_detik</th>\n",
       "      <th>total_detik</th>\n",
       "      <th>num_pos_detik_jci</th>\n",
       "      <th>num_neg_detik_jci</th>\n",
       "      <th>total_detik_jci</th>\n",
       "      <th>Return</th>\n",
       "      <th>Free</th>\n",
       "    </tr>\n",
       "  </thead>\n",
       "  <tbody>\n",
       "    <tr>\n",
       "      <th>0</th>\n",
       "      <td>01 Januari 2019</td>\n",
       "      <td>2019-01-01</td>\n",
       "      <td>Tuesday</td>\n",
       "      <td>Januari</td>\n",
       "      <td>0.750000</td>\n",
       "      <td>0.083333</td>\n",
       "      <td>12.0</td>\n",
       "      <td>1.00</td>\n",
       "      <td>0.00</td>\n",
       "      <td>1.0</td>\n",
       "      <td>...</td>\n",
       "      <td>NaN</td>\n",
       "      <td>0.0</td>\n",
       "      <td>0.375000</td>\n",
       "      <td>0.125000</td>\n",
       "      <td>8.0</td>\n",
       "      <td>NaN</td>\n",
       "      <td>NaN</td>\n",
       "      <td>0.0</td>\n",
       "      <td>-0.001617</td>\n",
       "      <td>0.0</td>\n",
       "    </tr>\n",
       "    <tr>\n",
       "      <th>1</th>\n",
       "      <td>02 Januari 2019</td>\n",
       "      <td>2019-01-02</td>\n",
       "      <td>Wednesday</td>\n",
       "      <td>Januari</td>\n",
       "      <td>0.606061</td>\n",
       "      <td>0.363636</td>\n",
       "      <td>33.0</td>\n",
       "      <td>0.60</td>\n",
       "      <td>0.40</td>\n",
       "      <td>5.0</td>\n",
       "      <td>...</td>\n",
       "      <td>0.0</td>\n",
       "      <td>1.0</td>\n",
       "      <td>0.531250</td>\n",
       "      <td>0.312500</td>\n",
       "      <td>32.0</td>\n",
       "      <td>0.60</td>\n",
       "      <td>0.40</td>\n",
       "      <td>5.0</td>\n",
       "      <td>-0.002155</td>\n",
       "      <td>1.0</td>\n",
       "    </tr>\n",
       "    <tr>\n",
       "      <th>2</th>\n",
       "      <td>03 Januari 2019</td>\n",
       "      <td>2019-01-03</td>\n",
       "      <td>Thursday</td>\n",
       "      <td>Januari</td>\n",
       "      <td>0.696970</td>\n",
       "      <td>0.212121</td>\n",
       "      <td>33.0</td>\n",
       "      <td>0.75</td>\n",
       "      <td>0.25</td>\n",
       "      <td>4.0</td>\n",
       "      <td>...</td>\n",
       "      <td>NaN</td>\n",
       "      <td>0.0</td>\n",
       "      <td>0.521739</td>\n",
       "      <td>0.217391</td>\n",
       "      <td>23.0</td>\n",
       "      <td>1.00</td>\n",
       "      <td>0.00</td>\n",
       "      <td>4.0</td>\n",
       "      <td>0.006403</td>\n",
       "      <td>1.0</td>\n",
       "    </tr>\n",
       "    <tr>\n",
       "      <th>3</th>\n",
       "      <td>04 Januari 2019</td>\n",
       "      <td>2019-01-04</td>\n",
       "      <td>Friday</td>\n",
       "      <td>Januari</td>\n",
       "      <td>0.702703</td>\n",
       "      <td>0.216216</td>\n",
       "      <td>37.0</td>\n",
       "      <td>0.50</td>\n",
       "      <td>0.25</td>\n",
       "      <td>4.0</td>\n",
       "      <td>...</td>\n",
       "      <td>NaN</td>\n",
       "      <td>0.0</td>\n",
       "      <td>0.611111</td>\n",
       "      <td>0.250000</td>\n",
       "      <td>36.0</td>\n",
       "      <td>0.75</td>\n",
       "      <td>0.25</td>\n",
       "      <td>4.0</td>\n",
       "      <td>0.008531</td>\n",
       "      <td>1.0</td>\n",
       "    </tr>\n",
       "    <tr>\n",
       "      <th>4</th>\n",
       "      <td>05 Januari 2019</td>\n",
       "      <td>2019-01-05</td>\n",
       "      <td>Saturday</td>\n",
       "      <td>Januari</td>\n",
       "      <td>0.714286</td>\n",
       "      <td>0.214286</td>\n",
       "      <td>14.0</td>\n",
       "      <td>NaN</td>\n",
       "      <td>NaN</td>\n",
       "      <td>0.0</td>\n",
       "      <td>...</td>\n",
       "      <td>NaN</td>\n",
       "      <td>0.0</td>\n",
       "      <td>0.636364</td>\n",
       "      <td>0.272727</td>\n",
       "      <td>11.0</td>\n",
       "      <td>NaN</td>\n",
       "      <td>NaN</td>\n",
       "      <td>0.0</td>\n",
       "      <td>0.006903</td>\n",
       "      <td>0.0</td>\n",
       "    </tr>\n",
       "  </tbody>\n",
       "</table>\n",
       "<p>5 rows × 24 columns</p>\n",
       "</div>"
      ],
      "text/plain": [
       "              date date_format        day    month  num_pos_okezone  \\\n",
       "0  01 Januari 2019  2019-01-01    Tuesday  Januari         0.750000   \n",
       "1  02 Januari 2019  2019-01-02  Wednesday  Januari         0.606061   \n",
       "2  03 Januari 2019  2019-01-03   Thursday  Januari         0.696970   \n",
       "3  04 Januari 2019  2019-01-04     Friday  Januari         0.702703   \n",
       "4  05 Januari 2019  2019-01-05   Saturday  Januari         0.714286   \n",
       "\n",
       "   num_neg_okezone  total_okezone  num_pos_okezone_jci  num_neg_okezone_jci  \\\n",
       "0         0.083333           12.0                 1.00                 0.00   \n",
       "1         0.363636           33.0                 0.60                 0.40   \n",
       "2         0.212121           33.0                 0.75                 0.25   \n",
       "3         0.216216           37.0                 0.50                 0.25   \n",
       "4         0.214286           14.0                  NaN                  NaN   \n",
       "\n",
       "   total_okezone_jci  ...  num_neg_kompas_jci  total_kompas_jci  \\\n",
       "0                1.0  ...                 NaN               0.0   \n",
       "1                5.0  ...                 0.0               1.0   \n",
       "2                4.0  ...                 NaN               0.0   \n",
       "3                4.0  ...                 NaN               0.0   \n",
       "4                0.0  ...                 NaN               0.0   \n",
       "\n",
       "   num_pos_detik  num_neg_detik  total_detik  num_pos_detik_jci  \\\n",
       "0       0.375000       0.125000          8.0                NaN   \n",
       "1       0.531250       0.312500         32.0               0.60   \n",
       "2       0.521739       0.217391         23.0               1.00   \n",
       "3       0.611111       0.250000         36.0               0.75   \n",
       "4       0.636364       0.272727         11.0                NaN   \n",
       "\n",
       "   num_neg_detik_jci  total_detik_jci    Return  Free  \n",
       "0                NaN              0.0 -0.001617   0.0  \n",
       "1               0.40              5.0 -0.002155   1.0  \n",
       "2               0.00              4.0  0.006403   1.0  \n",
       "3               0.25              4.0  0.008531   1.0  \n",
       "4                NaN              0.0  0.006903   0.0  \n",
       "\n",
       "[5 rows x 24 columns]"
      ]
     },
     "execution_count": 17,
     "metadata": {},
     "output_type": "execute_result"
    }
   ],
   "source": [
    "df_full.head()"
   ]
  },
  {
   "cell_type": "code",
   "execution_count": 18,
   "metadata": {
    "ExecuteTime": {
     "end_time": "2020-04-02T01:31:22.648062Z",
     "start_time": "2020-04-02T01:31:22.630728Z"
    },
    "cell_style": "split",
    "scrolled": false
   },
   "outputs": [
    {
     "data": {
      "text/plain": [
       "date                     0\n",
       "date_format              0\n",
       "day                      0\n",
       "month                    0\n",
       "num_pos_okezone          2\n",
       "num_neg_okezone          2\n",
       "total_okezone            0\n",
       "num_pos_okezone_jci    103\n",
       "num_neg_okezone_jci    103\n",
       "total_okezone_jci        0\n",
       "num_pos_kompas           5\n",
       "num_neg_kompas           5\n",
       "total_kompas             0\n",
       "num_pos_kompas_jci     318\n",
       "num_neg_kompas_jci     318\n",
       "total_kompas_jci         0\n",
       "num_pos_detik            2\n",
       "num_neg_detik            2\n",
       "total_detik              0\n",
       "num_pos_detik_jci      114\n",
       "num_neg_detik_jci      114\n",
       "total_detik_jci          0\n",
       "Return                   2\n",
       "Free                     2\n",
       "dtype: int64"
      ]
     },
     "execution_count": 18,
     "metadata": {},
     "output_type": "execute_result"
    }
   ],
   "source": [
    "df_full.isna().sum()"
   ]
  },
  {
   "cell_type": "code",
   "execution_count": 19,
   "metadata": {
    "ExecuteTime": {
     "end_time": "2020-04-02T01:31:24.333035Z",
     "start_time": "2020-04-02T01:31:24.314730Z"
    },
    "cell_style": "split"
   },
   "outputs": [],
   "source": [
    "# Handle NaN data\n",
    "df_full = df_full.fillna(0)"
   ]
  },
  {
   "cell_type": "code",
   "execution_count": 20,
   "metadata": {
    "ExecuteTime": {
     "end_time": "2020-04-02T01:31:26.042186Z",
     "start_time": "2020-04-02T01:31:26.024092Z"
    },
    "cell_style": "split"
   },
   "outputs": [
    {
     "data": {
      "text/plain": [
       "date                   0\n",
       "date_format            0\n",
       "day                    0\n",
       "month                  0\n",
       "num_pos_okezone        0\n",
       "num_neg_okezone        0\n",
       "total_okezone          0\n",
       "num_pos_okezone_jci    0\n",
       "num_neg_okezone_jci    0\n",
       "total_okezone_jci      0\n",
       "num_pos_kompas         0\n",
       "num_neg_kompas         0\n",
       "total_kompas           0\n",
       "num_pos_kompas_jci     0\n",
       "num_neg_kompas_jci     0\n",
       "total_kompas_jci       0\n",
       "num_pos_detik          0\n",
       "num_neg_detik          0\n",
       "total_detik            0\n",
       "num_pos_detik_jci      0\n",
       "num_neg_detik_jci      0\n",
       "total_detik_jci        0\n",
       "Return                 0\n",
       "Free                   0\n",
       "dtype: int64"
      ]
     },
     "execution_count": 20,
     "metadata": {},
     "output_type": "execute_result"
    }
   ],
   "source": [
    "df_full.isna().sum()"
   ]
  },
  {
   "cell_type": "code",
   "execution_count": 21,
   "metadata": {
    "ExecuteTime": {
     "end_time": "2020-04-02T01:31:39.547353Z",
     "start_time": "2020-04-02T01:31:39.196539Z"
    }
   },
   "outputs": [],
   "source": [
    "# Save the full data with calculation of sentiment percentages\n",
    "df_full.to_csv('Datasets/interim/Data NLFF for Modelling.csv',index=False)"
   ]
  },
  {
   "cell_type": "markdown",
   "metadata": {},
   "source": [
    "## 4 Data Visualization"
   ]
  },
  {
   "cell_type": "markdown",
   "metadata": {},
   "source": [
    "### 4.1 Correlation of All Variables"
   ]
  },
  {
   "cell_type": "code",
   "execution_count": 22,
   "metadata": {
    "ExecuteTime": {
     "end_time": "2020-04-02T01:31:51.392852Z",
     "start_time": "2020-04-02T01:31:49.488698Z"
    },
    "cell_style": "split",
    "scrolled": false
   },
   "outputs": [
    {
     "data": {
      "text/plain": [
       "<matplotlib.axes._subplots.AxesSubplot at 0x7f451e0750b8>"
      ]
     },
     "execution_count": 22,
     "metadata": {},
     "output_type": "execute_result"
    },
    {
     "data": {
      "image/png": "[encoded data removed]",
      "text/plain": [
       "<Figure size 648x576 with 2 Axes>"
      ]
     },
     "metadata": {},
     "output_type": "display_data"
    }
   ],
   "source": [
    "corrmat = df_full.corr() # For calculating correlation\n",
    "f,ax = plt.subplots(figsize=(9,8))\n",
    "sns.heatmap(corrmat,ax=ax,cmap='YlGnBu',linewidths = 0.1)"
   ]
  },
  {
   "cell_type": "code",
   "execution_count": 23,
   "metadata": {
    "ExecuteTime": {
     "end_time": "2020-04-02T01:32:04.846595Z",
     "start_time": "2020-04-02T01:32:03.239259Z"
    },
    "cell_style": "split",
    "scrolled": false
   },
   "outputs": [
    {
     "data": {
      "text/plain": [
       "<seaborn.matrix.ClusterGrid at 0x7f451e0a9dd8>"
      ]
     },
     "execution_count": 23,
     "metadata": {},
     "output_type": "execute_result"
    },
    {
     "data": {
      "image/png": "[encoded data removed]",
      "text/plain": [
       "<Figure size 720x720 with 4 Axes>"
      ]
     },
     "metadata": {},
     "output_type": "display_data"
    }
   ],
   "source": [
    "corrmat = df_full.corr()\n",
    "cg = sns.clustermap(corrmat,cmap ='YlGnBu',linewidths=0.1);\n",
    "plt.setp(cg.ax_heatmap.yaxis.get_majorticklabels(),rotation=0)\n",
    "cg"
   ]
  },
  {
   "cell_type": "markdown",
   "metadata": {},
   "source": [
    "### 4.2 Time Series Plot of the Return"
   ]
  },
  {
   "cell_type": "code",
   "execution_count": 34,
   "metadata": {
    "ExecuteTime": {
     "end_time": "2020-04-02T01:35:47.244390Z",
     "start_time": "2020-04-02T01:35:47.226680Z"
    }
   },
   "outputs": [],
   "source": [
    "# Drop data in Saturday and Sunday\n",
    "df_full_weekday = df_full[df_full['Free'] == 1]\n",
    "df_full_weekday = df_full_weekday.drop(['Free'],axis=1)"
   ]
  },
  {
   "cell_type": "code",
   "execution_count": 35,
   "metadata": {
    "ExecuteTime": {
     "end_time": "2020-04-02T01:35:50.194692Z",
     "start_time": "2020-04-02T01:35:49.543290Z"
    },
    "scrolled": true
   },
   "outputs": [
    {
     "data": {
      "image/png": "[encoded data removed]",
      "text/plain": [
       "<Figure size 720x360 with 1 Axes>"
      ]
     },
     "metadata": {},
     "output_type": "display_data"
    }
   ],
   "source": [
    "# Using matplotlib\n",
    "plt.figure(figsize=(10,5))                                      # Set image size\n",
    "ax=sns.lineplot(x=range(df_full_weekday.shape[0]),y='Return',\n",
    "                data=df_full_weekday,color='red',linewidth=2)   # Expression for figure\n",
    "plt.title('Time Series Plot of the Return JCI',fontsize=16)     # Title of figure\n",
    "plt.show()                                                      # Show the figure"
   ]
  },
  {
   "cell_type": "code",
   "execution_count": 36,
   "metadata": {
    "ExecuteTime": {
     "end_time": "2020-04-02T01:36:04.517371Z",
     "start_time": "2020-04-02T01:36:03.604577Z"
    },
    "scrolled": false
   },
   "outputs": [
    {
     "data": {
      "image/png": "[encoded data removed]",
      "text/plain": [
       "<Figure size 780x370 with 1 Axes>"
      ]
     },
     "metadata": {},
     "output_type": "display_data"
    },
    {
     "data": {
      "text/plain": [
       "<ggplot: (-9223363290929874786)>"
      ]
     },
     "execution_count": 36,
     "metadata": {},
     "output_type": "execute_result"
    }
   ],
   "source": [
    "# Using plotnine\n",
    "(ggplot(df_full_weekday)\n",
    " + geom_line(aes(x = range(df_full_weekday.shape[0]),\n",
    "                 y = 'Return'),\n",
    "             size = 0.7,\n",
    "             color = 'red')\n",
    " + labs(title = 'Time Series Plot of the Return JCI',\n",
    "        x = 'Time')\n",
    " + scale_x_continuous(labels = ['1 Jan','14 Mar','29 May','15 Aug','24 Oct','31 Dec'])\n",
    " + theme_bw()\n",
    ")"
   ]
  },
  {
   "cell_type": "markdown",
   "metadata": {},
   "source": [
    "### 4.3 Box and Whisker Plot of Daily Return of JCI"
   ]
  },
  {
   "cell_type": "code",
   "execution_count": 37,
   "metadata": {
    "ExecuteTime": {
     "end_time": "2020-04-02T01:36:38.076727Z",
     "start_time": "2020-04-02T01:36:37.993211Z"
    }
   },
   "outputs": [
    {
     "data": {
      "text/html": [
       "<div>\n",
       "<style scoped>\n",
       "    .dataframe tbody tr th:only-of-type {\n",
       "        vertical-align: middle;\n",
       "    }\n",
       "\n",
       "    .dataframe tbody tr th {\n",
       "        vertical-align: top;\n",
       "    }\n",
       "\n",
       "    .dataframe thead th {\n",
       "        text-align: right;\n",
       "    }\n",
       "</style>\n",
       "<table border=\"1\" class=\"dataframe\">\n",
       "  <thead>\n",
       "    <tr style=\"text-align: right;\">\n",
       "      <th></th>\n",
       "      <th>day</th>\n",
       "      <th>Return</th>\n",
       "    </tr>\n",
       "  </thead>\n",
       "  <tbody>\n",
       "    <tr>\n",
       "      <th>1</th>\n",
       "      <td>Monday</td>\n",
       "      <td>-0.001833</td>\n",
       "    </tr>\n",
       "    <tr>\n",
       "      <th>3</th>\n",
       "      <td>Tuesday</td>\n",
       "      <td>0.001331</td>\n",
       "    </tr>\n",
       "    <tr>\n",
       "      <th>4</th>\n",
       "      <td>Wednesday</td>\n",
       "      <td>0.000446</td>\n",
       "    </tr>\n",
       "    <tr>\n",
       "      <th>2</th>\n",
       "      <td>Thursday</td>\n",
       "      <td>-0.000307</td>\n",
       "    </tr>\n",
       "    <tr>\n",
       "      <th>0</th>\n",
       "      <td>Friday</td>\n",
       "      <td>0.000743</td>\n",
       "    </tr>\n",
       "  </tbody>\n",
       "</table>\n",
       "</div>"
      ],
      "text/plain": [
       "         day    Return\n",
       "1     Monday -0.001833\n",
       "3    Tuesday  0.001331\n",
       "4  Wednesday  0.000446\n",
       "2   Thursday -0.000307\n",
       "0     Friday  0.000743"
      ]
     },
     "execution_count": 37,
     "metadata": {},
     "output_type": "execute_result"
    }
   ],
   "source": [
    "# Aggregating data according to day variable\n",
    "df_return_daily = df_full_weekday.groupby(by=['day'],as_index = False).agg({'Return':'mean'})\n",
    "# Order the rows\n",
    "cats = ['Monday','Tuesday','Wednesday','Thursday','Friday','Saturday','Sunday']\n",
    "df_return_daily['day'] = pd.Categorical(df_return_daily['day'],categories = cats,ordered = True)\n",
    "df_return_daily.sort_values('day',ascending = True)"
   ]
  },
  {
   "cell_type": "code",
   "execution_count": 38,
   "metadata": {
    "ExecuteTime": {
     "end_time": "2020-04-02T01:36:49.529110Z",
     "start_time": "2020-04-02T01:36:49.327672Z"
    }
   },
   "outputs": [
    {
     "data": {
      "text/html": [
       "<div>\n",
       "<style scoped>\n",
       "    .dataframe tbody tr th:only-of-type {\n",
       "        vertical-align: middle;\n",
       "    }\n",
       "\n",
       "    .dataframe tbody tr th {\n",
       "        vertical-align: top;\n",
       "    }\n",
       "\n",
       "    .dataframe thead tr th {\n",
       "        text-align: left;\n",
       "    }\n",
       "</style>\n",
       "<table border=\"1\" class=\"dataframe\">\n",
       "  <thead>\n",
       "    <tr>\n",
       "      <th></th>\n",
       "      <th>Day</th>\n",
       "      <th colspan=\"8\" halign=\"left\">Return</th>\n",
       "    </tr>\n",
       "    <tr>\n",
       "      <th></th>\n",
       "      <th></th>\n",
       "      <th>count</th>\n",
       "      <th>mean</th>\n",
       "      <th>std</th>\n",
       "      <th>min</th>\n",
       "      <th>25%</th>\n",
       "      <th>50%</th>\n",
       "      <th>75%</th>\n",
       "      <th>max</th>\n",
       "    </tr>\n",
       "  </thead>\n",
       "  <tbody>\n",
       "    <tr>\n",
       "      <th>1</th>\n",
       "      <td>Monday</td>\n",
       "      <td>50.0</td>\n",
       "      <td>-0.001833</td>\n",
       "      <td>0.008545</td>\n",
       "      <td>-0.026633</td>\n",
       "      <td>-0.004998</td>\n",
       "      <td>-0.003011</td>\n",
       "      <td>0.003158</td>\n",
       "      <td>0.019286</td>\n",
       "    </tr>\n",
       "    <tr>\n",
       "      <th>3</th>\n",
       "      <td>Tuesday</td>\n",
       "      <td>48.0</td>\n",
       "      <td>0.001331</td>\n",
       "      <td>0.006657</td>\n",
       "      <td>-0.011176</td>\n",
       "      <td>-0.004045</td>\n",
       "      <td>0.002553</td>\n",
       "      <td>0.005900</td>\n",
       "      <td>0.013379</td>\n",
       "    </tr>\n",
       "    <tr>\n",
       "      <th>4</th>\n",
       "      <td>Wednesday</td>\n",
       "      <td>47.0</td>\n",
       "      <td>0.000446</td>\n",
       "      <td>0.005878</td>\n",
       "      <td>-0.015101</td>\n",
       "      <td>-0.002518</td>\n",
       "      <td>0.000375</td>\n",
       "      <td>0.003135</td>\n",
       "      <td>0.013656</td>\n",
       "    </tr>\n",
       "    <tr>\n",
       "      <th>2</th>\n",
       "      <td>Thursday</td>\n",
       "      <td>49.0</td>\n",
       "      <td>-0.000307</td>\n",
       "      <td>0.007499</td>\n",
       "      <td>-0.014442</td>\n",
       "      <td>-0.006170</td>\n",
       "      <td>0.000995</td>\n",
       "      <td>0.003946</td>\n",
       "      <td>0.015426</td>\n",
       "    </tr>\n",
       "    <tr>\n",
       "      <th>0</th>\n",
       "      <td>Friday</td>\n",
       "      <td>50.0</td>\n",
       "      <td>0.000743</td>\n",
       "      <td>0.006555</td>\n",
       "      <td>-0.013963</td>\n",
       "      <td>-0.003202</td>\n",
       "      <td>0.001374</td>\n",
       "      <td>0.004753</td>\n",
       "      <td>0.016912</td>\n",
       "    </tr>\n",
       "  </tbody>\n",
       "</table>\n",
       "</div>"
      ],
      "text/plain": [
       "         Day Return                                                    \\\n",
       "              count      mean       std       min       25%       50%   \n",
       "1     Monday   50.0 -0.001833  0.008545 -0.026633 -0.004998 -0.003011   \n",
       "3    Tuesday   48.0  0.001331  0.006657 -0.011176 -0.004045  0.002553   \n",
       "4  Wednesday   47.0  0.000446  0.005878 -0.015101 -0.002518  0.000375   \n",
       "2   Thursday   49.0 -0.000307  0.007499 -0.014442 -0.006170  0.000995   \n",
       "0     Friday   50.0  0.000743  0.006555 -0.013963 -0.003202  0.001374   \n",
       "\n",
       "                       \n",
       "        75%       max  \n",
       "1  0.003158  0.019286  \n",
       "3  0.005900  0.013379  \n",
       "4  0.003135  0.013656  \n",
       "2  0.003946  0.015426  \n",
       "0  0.004753  0.016912  "
      ]
     },
     "execution_count": 38,
     "metadata": {},
     "output_type": "execute_result"
    }
   ],
   "source": [
    "# Create dataframe for summary, first\n",
    "df_return_sum_daily = df_full_weekday[['day','Return']].groupby(by=['day'],as_index = False).describe()\n",
    "# Reindex\n",
    "df_return_sum_daily = df_return_sum_daily.iloc[[1,3,4,2,0]]\n",
    "# Rename the day\n",
    "date_weekday = ['Monday','Tuesday','Wednesday','Thursday','Friday']\n",
    "df_return_sum_daily.insert(loc=0,column='Day',value=date_weekday)\n",
    "df_return_sum_daily"
   ]
  },
  {
   "cell_type": "code",
   "execution_count": 39,
   "metadata": {
    "ExecuteTime": {
     "end_time": "2020-04-02T01:37:05.266816Z",
     "start_time": "2020-04-02T01:37:02.585305Z"
    },
    "scrolled": false
   },
   "outputs": [
    {
     "data": {
      "image/png": "[encoded data removed]",
      "text/plain": [
       "<Figure size 780x370 with 1 Axes>"
      ]
     },
     "metadata": {},
     "output_type": "display_data"
    },
    {
     "data": {
      "text/plain": [
       "<ggplot: (8745914098254)>"
      ]
     },
     "execution_count": 39,
     "metadata": {},
     "output_type": "execute_result"
    }
   ],
   "source": [
    "(ggplot(df_full_weekday)\n",
    " + geom_boxplot(aes(x = 'day',\n",
    "                    y = 'Return',\n",
    "                    fill = 'day'),\n",
    "                show_legend = False)\n",
    " + labs(title = 'Box and Whisker Plot of Daily Return JCI',\n",
    "        x = 'Day',\n",
    "        y = 'Return JCI')\n",
    " + xlim(date_weekday)\n",
    " + theme_bw()\n",
    ")"
   ]
  },
  {
   "cell_type": "markdown",
   "metadata": {},
   "source": [
    "### 4.4 Box and Whisker Plot of Monthly Return of JCI"
   ]
  },
  {
   "cell_type": "code",
   "execution_count": 40,
   "metadata": {
    "ExecuteTime": {
     "end_time": "2020-04-02T01:37:32.307845Z",
     "start_time": "2020-04-02T01:37:32.255260Z"
    }
   },
   "outputs": [
    {
     "data": {
      "text/html": [
       "<div>\n",
       "<style scoped>\n",
       "    .dataframe tbody tr th:only-of-type {\n",
       "        vertical-align: middle;\n",
       "    }\n",
       "\n",
       "    .dataframe tbody tr th {\n",
       "        vertical-align: top;\n",
       "    }\n",
       "\n",
       "    .dataframe thead th {\n",
       "        text-align: right;\n",
       "    }\n",
       "</style>\n",
       "<table border=\"1\" class=\"dataframe\">\n",
       "  <thead>\n",
       "    <tr style=\"text-align: right;\">\n",
       "      <th></th>\n",
       "      <th>month</th>\n",
       "      <th>Return</th>\n",
       "    </tr>\n",
       "  </thead>\n",
       "  <tbody>\n",
       "    <tr>\n",
       "      <th>4</th>\n",
       "      <td>Januari</td>\n",
       "      <td>0.002405</td>\n",
       "    </tr>\n",
       "    <tr>\n",
       "      <th>3</th>\n",
       "      <td>Februari</td>\n",
       "      <td>-0.000750</td>\n",
       "    </tr>\n",
       "    <tr>\n",
       "      <th>7</th>\n",
       "      <td>Maret</td>\n",
       "      <td>0.000174</td>\n",
       "    </tr>\n",
       "    <tr>\n",
       "      <th>1</th>\n",
       "      <td>April</td>\n",
       "      <td>-0.000131</td>\n",
       "    </tr>\n",
       "    <tr>\n",
       "      <th>8</th>\n",
       "      <td>Mei</td>\n",
       "      <td>-0.001910</td>\n",
       "    </tr>\n",
       "    <tr>\n",
       "      <th>6</th>\n",
       "      <td>Juni</td>\n",
       "      <td>0.001563</td>\n",
       "    </tr>\n",
       "    <tr>\n",
       "      <th>5</th>\n",
       "      <td>Juli</td>\n",
       "      <td>0.000204</td>\n",
       "    </tr>\n",
       "    <tr>\n",
       "      <th>0</th>\n",
       "      <td>Agustus</td>\n",
       "      <td>-0.000479</td>\n",
       "    </tr>\n",
       "    <tr>\n",
       "      <th>11</th>\n",
       "      <td>September</td>\n",
       "      <td>-0.001238</td>\n",
       "    </tr>\n",
       "    <tr>\n",
       "      <th>10</th>\n",
       "      <td>Oktober</td>\n",
       "      <td>0.000390</td>\n",
       "    </tr>\n",
       "    <tr>\n",
       "      <th>9</th>\n",
       "      <td>November</td>\n",
       "      <td>-0.001706</td>\n",
       "    </tr>\n",
       "    <tr>\n",
       "      <th>2</th>\n",
       "      <td>Desember</td>\n",
       "      <td>0.002838</td>\n",
       "    </tr>\n",
       "  </tbody>\n",
       "</table>\n",
       "</div>"
      ],
      "text/plain": [
       "        month    Return\n",
       "4     Januari  0.002405\n",
       "3    Februari -0.000750\n",
       "7       Maret  0.000174\n",
       "1       April -0.000131\n",
       "8         Mei -0.001910\n",
       "6        Juni  0.001563\n",
       "5        Juli  0.000204\n",
       "0     Agustus -0.000479\n",
       "11  September -0.001238\n",
       "10    Oktober  0.000390\n",
       "9    November -0.001706\n",
       "2    Desember  0.002838"
      ]
     },
     "execution_count": 40,
     "metadata": {},
     "output_type": "execute_result"
    }
   ],
   "source": [
    "# Aggregating data according to day variable\n",
    "df_return_monthly = df_full_weekday.groupby(by=['month'],as_index = False).agg({'Return':'mean'})\n",
    "# Order the rows\n",
    "cats = ['Januari','Februari','Maret','April','Mei','Juni',\n",
    "        'Juli','Agustus','September','Oktober','November','Desember']\n",
    "df_return_monthly['month'] = pd.Categorical(df_return_monthly['month'],categories = cats,ordered = True)\n",
    "df_return_monthly.sort_values('month',ascending = True)"
   ]
  },
  {
   "cell_type": "code",
   "execution_count": 41,
   "metadata": {
    "ExecuteTime": {
     "end_time": "2020-04-02T01:37:40.517015Z",
     "start_time": "2020-04-02T01:37:40.247893Z"
    }
   },
   "outputs": [
    {
     "data": {
      "text/html": [
       "<div>\n",
       "<style scoped>\n",
       "    .dataframe tbody tr th:only-of-type {\n",
       "        vertical-align: middle;\n",
       "    }\n",
       "\n",
       "    .dataframe tbody tr th {\n",
       "        vertical-align: top;\n",
       "    }\n",
       "\n",
       "    .dataframe thead tr th {\n",
       "        text-align: left;\n",
       "    }\n",
       "</style>\n",
       "<table border=\"1\" class=\"dataframe\">\n",
       "  <thead>\n",
       "    <tr>\n",
       "      <th></th>\n",
       "      <th>Month</th>\n",
       "      <th colspan=\"8\" halign=\"left\">Return</th>\n",
       "    </tr>\n",
       "    <tr>\n",
       "      <th></th>\n",
       "      <th></th>\n",
       "      <th>count</th>\n",
       "      <th>mean</th>\n",
       "      <th>std</th>\n",
       "      <th>min</th>\n",
       "      <th>25%</th>\n",
       "      <th>50%</th>\n",
       "      <th>75%</th>\n",
       "      <th>max</th>\n",
       "    </tr>\n",
       "  </thead>\n",
       "  <tbody>\n",
       "    <tr>\n",
       "      <th>4</th>\n",
       "      <td>Januari</td>\n",
       "      <td>22.0</td>\n",
       "      <td>0.002405</td>\n",
       "      <td>0.004695</td>\n",
       "      <td>-0.004001</td>\n",
       "      <td>-0.001513</td>\n",
       "      <td>0.002206</td>\n",
       "      <td>0.004933</td>\n",
       "      <td>0.011339</td>\n",
       "    </tr>\n",
       "    <tr>\n",
       "      <th>3</th>\n",
       "      <td>Februari</td>\n",
       "      <td>19.0</td>\n",
       "      <td>-0.000750</td>\n",
       "      <td>0.006899</td>\n",
       "      <td>-0.012778</td>\n",
       "      <td>-0.004473</td>\n",
       "      <td>-0.001123</td>\n",
       "      <td>0.002583</td>\n",
       "      <td>0.016733</td>\n",
       "    </tr>\n",
       "    <tr>\n",
       "      <th>7</th>\n",
       "      <td>Maret</td>\n",
       "      <td>20.0</td>\n",
       "      <td>0.000174</td>\n",
       "      <td>0.007005</td>\n",
       "      <td>-0.017785</td>\n",
       "      <td>-0.002939</td>\n",
       "      <td>0.001479</td>\n",
       "      <td>0.005563</td>\n",
       "      <td>0.009080</td>\n",
       "    </tr>\n",
       "    <tr>\n",
       "      <th>1</th>\n",
       "      <td>April</td>\n",
       "      <td>19.0</td>\n",
       "      <td>-0.000131</td>\n",
       "      <td>0.006832</td>\n",
       "      <td>-0.014416</td>\n",
       "      <td>-0.002843</td>\n",
       "      <td>0.002858</td>\n",
       "      <td>0.004485</td>\n",
       "      <td>0.009039</td>\n",
       "    </tr>\n",
       "    <tr>\n",
       "      <th>8</th>\n",
       "      <td>Mei</td>\n",
       "      <td>21.0</td>\n",
       "      <td>-0.001910</td>\n",
       "      <td>0.010900</td>\n",
       "      <td>-0.015101</td>\n",
       "      <td>-0.011518</td>\n",
       "      <td>-0.004325</td>\n",
       "      <td>0.006824</td>\n",
       "      <td>0.016912</td>\n",
       "    </tr>\n",
       "    <tr>\n",
       "      <th>6</th>\n",
       "      <td>Juni</td>\n",
       "      <td>15.0</td>\n",
       "      <td>0.001563</td>\n",
       "      <td>0.006794</td>\n",
       "      <td>-0.009650</td>\n",
       "      <td>-0.003429</td>\n",
       "      <td>-0.000493</td>\n",
       "      <td>0.005853</td>\n",
       "      <td>0.012925</td>\n",
       "    </tr>\n",
       "    <tr>\n",
       "      <th>5</th>\n",
       "      <td>Juli</td>\n",
       "      <td>23.0</td>\n",
       "      <td>0.000204</td>\n",
       "      <td>0.005326</td>\n",
       "      <td>-0.012036</td>\n",
       "      <td>-0.003455</td>\n",
       "      <td>0.000816</td>\n",
       "      <td>0.002930</td>\n",
       "      <td>0.012225</td>\n",
       "    </tr>\n",
       "    <tr>\n",
       "      <th>0</th>\n",
       "      <td>Agustus</td>\n",
       "      <td>22.0</td>\n",
       "      <td>-0.000479</td>\n",
       "      <td>0.008636</td>\n",
       "      <td>-0.026633</td>\n",
       "      <td>-0.006047</td>\n",
       "      <td>0.000199</td>\n",
       "      <td>0.004122</td>\n",
       "      <td>0.013656</td>\n",
       "    </tr>\n",
       "    <tr>\n",
       "      <th>11</th>\n",
       "      <td>September</td>\n",
       "      <td>21.0</td>\n",
       "      <td>-0.001238</td>\n",
       "      <td>0.006932</td>\n",
       "      <td>-0.018556</td>\n",
       "      <td>-0.005151</td>\n",
       "      <td>-0.001157</td>\n",
       "      <td>0.002729</td>\n",
       "      <td>0.013471</td>\n",
       "    </tr>\n",
       "    <tr>\n",
       "      <th>10</th>\n",
       "      <td>Oktober</td>\n",
       "      <td>23.0</td>\n",
       "      <td>0.000390</td>\n",
       "      <td>0.007224</td>\n",
       "      <td>-0.013963</td>\n",
       "      <td>-0.002265</td>\n",
       "      <td>0.001852</td>\n",
       "      <td>0.004004</td>\n",
       "      <td>0.013456</td>\n",
       "    </tr>\n",
       "    <tr>\n",
       "      <th>9</th>\n",
       "      <td>November</td>\n",
       "      <td>21.0</td>\n",
       "      <td>-0.001706</td>\n",
       "      <td>0.006422</td>\n",
       "      <td>-0.011755</td>\n",
       "      <td>-0.006266</td>\n",
       "      <td>-0.003403</td>\n",
       "      <td>0.002001</td>\n",
       "      <td>0.013379</td>\n",
       "    </tr>\n",
       "    <tr>\n",
       "      <th>2</th>\n",
       "      <td>Desember</td>\n",
       "      <td>18.0</td>\n",
       "      <td>0.002838</td>\n",
       "      <td>0.005994</td>\n",
       "      <td>-0.006630</td>\n",
       "      <td>-0.000257</td>\n",
       "      <td>0.002220</td>\n",
       "      <td>0.005583</td>\n",
       "      <td>0.019286</td>\n",
       "    </tr>\n",
       "  </tbody>\n",
       "</table>\n",
       "</div>"
      ],
      "text/plain": [
       "        Month Return                                                    \\\n",
       "               count      mean       std       min       25%       50%   \n",
       "4     Januari   22.0  0.002405  0.004695 -0.004001 -0.001513  0.002206   \n",
       "3    Februari   19.0 -0.000750  0.006899 -0.012778 -0.004473 -0.001123   \n",
       "7       Maret   20.0  0.000174  0.007005 -0.017785 -0.002939  0.001479   \n",
       "1       April   19.0 -0.000131  0.006832 -0.014416 -0.002843  0.002858   \n",
       "8         Mei   21.0 -0.001910  0.010900 -0.015101 -0.011518 -0.004325   \n",
       "6        Juni   15.0  0.001563  0.006794 -0.009650 -0.003429 -0.000493   \n",
       "5        Juli   23.0  0.000204  0.005326 -0.012036 -0.003455  0.000816   \n",
       "0     Agustus   22.0 -0.000479  0.008636 -0.026633 -0.006047  0.000199   \n",
       "11  September   21.0 -0.001238  0.006932 -0.018556 -0.005151 -0.001157   \n",
       "10    Oktober   23.0  0.000390  0.007224 -0.013963 -0.002265  0.001852   \n",
       "9    November   21.0 -0.001706  0.006422 -0.011755 -0.006266 -0.003403   \n",
       "2    Desember   18.0  0.002838  0.005994 -0.006630 -0.000257  0.002220   \n",
       "\n",
       "                        \n",
       "         75%       max  \n",
       "4   0.004933  0.011339  \n",
       "3   0.002583  0.016733  \n",
       "7   0.005563  0.009080  \n",
       "1   0.004485  0.009039  \n",
       "8   0.006824  0.016912  \n",
       "6   0.005853  0.012925  \n",
       "5   0.002930  0.012225  \n",
       "0   0.004122  0.013656  \n",
       "11  0.002729  0.013471  \n",
       "10  0.004004  0.013456  \n",
       "9   0.002001  0.013379  \n",
       "2   0.005583  0.019286  "
      ]
     },
     "execution_count": 41,
     "metadata": {},
     "output_type": "execute_result"
    }
   ],
   "source": [
    "# Create dataframe for summary, first\n",
    "df_return_sum_monthly = df_full_weekday[['month','Return']].groupby(by=['month'],as_index = False).describe()\n",
    "# Reindex\n",
    "df_return_sum_monthly = df_return_sum_monthly.iloc[[4,3,7,1,8,6,5,0,11,10,9,2]]\n",
    "# Rename the day\n",
    "df_return_sum_monthly.insert(loc=0,column='Month',value=cats)\n",
    "df_return_sum_monthly"
   ]
  },
  {
   "cell_type": "code",
   "execution_count": 43,
   "metadata": {
    "ExecuteTime": {
     "end_time": "2020-04-02T01:39:00.287274Z",
     "start_time": "2020-04-02T01:39:00.271680Z"
    }
   },
   "outputs": [],
   "source": [
    "# Change categories of the month\n",
    "df_full_weekday['month'] = ['Jan' if x == 'Januari' else 'Feb' if x == 'Februari' else \n",
    "                            'Mar' if x == 'Maret' else 'Apr' if x == 'April' else \n",
    "                            'May' if x == 'Mei' else 'Jun' if x == 'Juni' else\n",
    "                            'Jul' if x == 'Juli' else 'Aug' if x == 'Agustus' else \n",
    "                            'Sep' if x == 'September' else 'Oct' if x == 'Oktober' else \n",
    "                            'Nov' if x == 'November' else 'Dec' for x in df_full_weekday['month']]"
   ]
  },
  {
   "cell_type": "code",
   "execution_count": 44,
   "metadata": {
    "ExecuteTime": {
     "end_time": "2020-04-02T01:39:12.013363Z",
     "start_time": "2020-04-02T01:39:06.406926Z"
    },
    "scrolled": false
   },
   "outputs": [
    {
     "data": {
      "image/png": "[encoded data removed]",
      "text/plain": [
       "<Figure size 780x370 with 1 Axes>"
      ]
     },
     "metadata": {},
     "output_type": "display_data"
    },
    {
     "data": {
      "text/plain": [
       "<ggplot: (8745914145130)>"
      ]
     },
     "execution_count": 44,
     "metadata": {},
     "output_type": "execute_result"
    }
   ],
   "source": [
    "cats_month = ['Jan','Feb','Mar','Apr','May','Jun','Jul','Aug','Sep','Oct','Nov','Dec']\n",
    "(ggplot(df_full_weekday)\n",
    " + geom_boxplot(aes(x = 'month',\n",
    "                    y = 'Return',\n",
    "                    fill = 'month'),\n",
    "                show_legend = False)\n",
    " + labs(title = 'Box and Whisker Plot of Monthly Return JCI',\n",
    "        x = 'Month',\n",
    "        y = 'Return JCI')\n",
    " + xlim(cats_month)\n",
    " + theme_bw()\n",
    ")"
   ]
  },
  {
   "cell_type": "markdown",
   "metadata": {},
   "source": [
    "### 4.5 Box and Whisker Plot of Monthly News Sentiment"
   ]
  },
  {
   "cell_type": "code",
   "execution_count": 59,
   "metadata": {
    "ExecuteTime": {
     "end_time": "2020-04-02T01:44:45.649074Z",
     "start_time": "2020-04-02T01:44:45.635105Z"
    }
   },
   "outputs": [],
   "source": [
    "df_full['month'] = ['Jan' if x == 'Januari' else 'Feb' if x == 'Februari' else \n",
    "                    'Mar' if x == 'Maret' else 'Apr' if x == 'April' else \n",
    "                    'May' if x == 'Mei' else 'Jun' if x == 'Juni' else\n",
    "                    'Jul' if x == 'Juli' else 'Aug' if x == 'Agustus' else \n",
    "                    'Sep' if x == 'September' else 'Oct' if x == 'Oktober' else \n",
    "                    'Nov' if x == 'November' else 'Dec' for x in df_full['month']]"
   ]
  },
  {
   "cell_type": "code",
   "execution_count": 60,
   "metadata": {
    "ExecuteTime": {
     "end_time": "2020-04-02T01:44:48.316806Z",
     "start_time": "2020-04-02T01:44:48.275748Z"
    },
    "scrolled": true
   },
   "outputs": [],
   "source": [
    "date = list(df_full['date'])*3    # List of triple date\n",
    "day = list(df_full['day'])*3      # List of triple day\n",
    "month = list(df_full['month'])*3  # List of triple month\n",
    "# List of triple positive sentiment\n",
    "pos = pd.concat([df_full['num_pos_okezone'],df_full['num_pos_kompas'],df_full['num_pos_detik']],axis=0)\n",
    "# List of triple negative sentiment\n",
    "neg = pd.concat([df_full['num_neg_okezone'],df_full['num_neg_kompas'],df_full['num_neg_detik']],axis=0)\n",
    "# List of triple news names\n",
    "news = pd.concat([pd.Series(['Okezone']*df_full.shape[0]),\n",
    "                  pd.Series(['Kompas']*df_full.shape[0]),\n",
    "                  pd.Series(['Detik']*df_full.shape[0])],axis=0)\n",
    "# Concatenate all list\n",
    "df_long_df_full = pd.concat([pd.Series(date,name='date'),pd.Series(day,name='day'),pd.Series(month,name='month'),\n",
    "                             pos.reset_index(drop=True),neg.reset_index(drop=True),news.reset_index(drop=True)],\n",
    "                             axis=1)"
   ]
  },
  {
   "cell_type": "code",
   "execution_count": 61,
   "metadata": {
    "ExecuteTime": {
     "end_time": "2020-04-02T01:44:52.659944Z",
     "start_time": "2020-04-02T01:44:52.652941Z"
    }
   },
   "outputs": [],
   "source": [
    "df_long_df_full.columns = ['date','day','month','pos','neg','news']"
   ]
  },
  {
   "cell_type": "code",
   "execution_count": 62,
   "metadata": {
    "ExecuteTime": {
     "end_time": "2020-04-02T01:44:53.363274Z",
     "start_time": "2020-04-02T01:44:53.353371Z"
    }
   },
   "outputs": [],
   "source": [
    "# Data manipulation\n",
    "df_long_df_full['neg'] = -100*df_long_df_full['neg']\n",
    "df_long_df_full['pos'] = 100*df_long_df_full['pos']"
   ]
  },
  {
   "cell_type": "code",
   "execution_count": 63,
   "metadata": {
    "ExecuteTime": {
     "end_time": "2020-04-02T01:44:54.202291Z",
     "start_time": "2020-04-02T01:44:54.175699Z"
    },
    "scrolled": false
   },
   "outputs": [
    {
     "data": {
      "text/html": [
       "<div>\n",
       "<style scoped>\n",
       "    .dataframe tbody tr th:only-of-type {\n",
       "        vertical-align: middle;\n",
       "    }\n",
       "\n",
       "    .dataframe tbody tr th {\n",
       "        vertical-align: top;\n",
       "    }\n",
       "\n",
       "    .dataframe thead th {\n",
       "        text-align: right;\n",
       "    }\n",
       "</style>\n",
       "<table border=\"1\" class=\"dataframe\">\n",
       "  <thead>\n",
       "    <tr style=\"text-align: right;\">\n",
       "      <th></th>\n",
       "      <th>date</th>\n",
       "      <th>day</th>\n",
       "      <th>month</th>\n",
       "      <th>pos</th>\n",
       "      <th>neg</th>\n",
       "      <th>news</th>\n",
       "    </tr>\n",
       "  </thead>\n",
       "  <tbody>\n",
       "    <tr>\n",
       "      <th>0</th>\n",
       "      <td>01 Januari 2019</td>\n",
       "      <td>Tuesday</td>\n",
       "      <td>Jan</td>\n",
       "      <td>75.000000</td>\n",
       "      <td>-8.333333</td>\n",
       "      <td>Okezone</td>\n",
       "    </tr>\n",
       "    <tr>\n",
       "      <th>1</th>\n",
       "      <td>02 Januari 2019</td>\n",
       "      <td>Wednesday</td>\n",
       "      <td>Jan</td>\n",
       "      <td>60.606061</td>\n",
       "      <td>-36.363636</td>\n",
       "      <td>Okezone</td>\n",
       "    </tr>\n",
       "    <tr>\n",
       "      <th>2</th>\n",
       "      <td>03 Januari 2019</td>\n",
       "      <td>Thursday</td>\n",
       "      <td>Jan</td>\n",
       "      <td>69.696970</td>\n",
       "      <td>-21.212121</td>\n",
       "      <td>Okezone</td>\n",
       "    </tr>\n",
       "    <tr>\n",
       "      <th>3</th>\n",
       "      <td>04 Januari 2019</td>\n",
       "      <td>Friday</td>\n",
       "      <td>Jan</td>\n",
       "      <td>70.270270</td>\n",
       "      <td>-21.621622</td>\n",
       "      <td>Okezone</td>\n",
       "    </tr>\n",
       "    <tr>\n",
       "      <th>4</th>\n",
       "      <td>05 Januari 2019</td>\n",
       "      <td>Saturday</td>\n",
       "      <td>Jan</td>\n",
       "      <td>71.428571</td>\n",
       "      <td>-21.428571</td>\n",
       "      <td>Okezone</td>\n",
       "    </tr>\n",
       "  </tbody>\n",
       "</table>\n",
       "</div>"
      ],
      "text/plain": [
       "              date        day month        pos        neg     news\n",
       "0  01 Januari 2019    Tuesday   Jan  75.000000  -8.333333  Okezone\n",
       "1  02 Januari 2019  Wednesday   Jan  60.606061 -36.363636  Okezone\n",
       "2  03 Januari 2019   Thursday   Jan  69.696970 -21.212121  Okezone\n",
       "3  04 Januari 2019     Friday   Jan  70.270270 -21.621622  Okezone\n",
       "4  05 Januari 2019   Saturday   Jan  71.428571 -21.428571  Okezone"
      ]
     },
     "execution_count": 63,
     "metadata": {},
     "output_type": "execute_result"
    }
   ],
   "source": [
    "df_long_df_full.head()"
   ]
  },
  {
   "cell_type": "code",
   "execution_count": 64,
   "metadata": {
    "ExecuteTime": {
     "end_time": "2020-04-02T01:45:48.487234Z",
     "start_time": "2020-04-02T01:45:14.187431Z"
    },
    "scrolled": false
   },
   "outputs": [
    {
     "data": {
      "image/png": "[encoded data removed]",
      "text/plain": [
       "<Figure size 780x370 with 1 Axes>"
      ]
     },
     "metadata": {},
     "output_type": "display_data"
    },
    {
     "data": {
      "text/plain": [
       "<ggplot: (-9223363290939681483)>"
      ]
     },
     "execution_count": 64,
     "metadata": {},
     "output_type": "execute_result"
    }
   ],
   "source": [
    "(ggplot(df_long_df_full)\n",
    " + geom_boxplot(aes(x = 'month',\n",
    "                    y = 'pos',\n",
    "                    fill = 'news'))\n",
    " + geom_boxplot(aes(x = 'month',\n",
    "                    y = 'neg',\n",
    "                    fill = 'news'))\n",
    " + geom_hline(yintercept = 0)\n",
    " + labs(title = 'Box and Whisker Plot of Monthly News Sentiment')\n",
    " + ylab('Percentage of JCI Sentiment (%)')\n",
    " + xlab('Month')\n",
    " + ylim([-110,110])\n",
    " + xlim(cats_month)\n",
    " + theme_bw()\n",
    ")"
   ]
  },
  {
   "cell_type": "markdown",
   "metadata": {},
   "source": [
    "### 4.6 Box and Whisker Plot of Daily News Sentiment"
   ]
  },
  {
   "cell_type": "code",
   "execution_count": 67,
   "metadata": {
    "ExecuteTime": {
     "end_time": "2020-04-02T01:57:25.635686Z",
     "start_time": "2020-04-02T01:57:05.141030Z"
    },
    "scrolled": false
   },
   "outputs": [
    {
     "data": {
      "image/png": "[encoded data removed]",
      "text/plain": [
       "<Figure size 780x370 with 1 Axes>"
      ]
     },
     "metadata": {},
     "output_type": "display_data"
    },
    {
     "data": {
      "text/plain": [
       "<ggplot: (-9223363290940225634)>"
      ]
     },
     "execution_count": 67,
     "metadata": {},
     "output_type": "execute_result"
    }
   ],
   "source": [
    "(ggplot(df_long_df_full)\n",
    " + geom_boxplot(aes(x = 'day',\n",
    "                    y = 'pos',\n",
    "                    fill = 'news'))\n",
    " + geom_boxplot(aes(x = 'day',\n",
    "                    y = 'neg',\n",
    "                    fill = 'news'))\n",
    " + geom_hline(yintercept = 0)\n",
    " + labs(title = 'Box and Whisker Plot of Daily News Sentiment')\n",
    " + ylab('Percentage of JCI Sentiment (%)')\n",
    " + xlab('Month')\n",
    " + ylim([-110,110])\n",
    " + xlim(['Monday','Tuesday','Wednesday','Thursday','Friday','Saturday','Sunday'])\n",
    " + theme_bw()\n",
    ")"
   ]
  },
  {
   "cell_type": "markdown",
   "metadata": {},
   "source": [
    "### 4.7 Stacked Barplot of Daily Sentiment"
   ]
  },
  {
   "cell_type": "code",
   "execution_count": 68,
   "metadata": {
    "ExecuteTime": {
     "end_time": "2020-04-02T01:58:10.628403Z",
     "start_time": "2020-04-02T01:58:10.611746Z"
    }
   },
   "outputs": [],
   "source": [
    "df_full_raw['month'] = ['Jan' if x == 'Januari' else 'Feb' if x == 'Februari' else \n",
    "                        'Mar' if x == 'Maret' else 'Apr' if x == 'April' else \n",
    "                        'May' if x == 'Mei' else 'Jun' if x == 'Juni' else\n",
    "                        'Jul' if x == 'Juli' else 'Aug' if x == 'Agustus' else \n",
    "                        'Sep' if x == 'September' else 'Oct' if x == 'Oktober' else \n",
    "                        'Nov' if x == 'November' else 'Dec' for x in df_full_raw['month']]"
   ]
  },
  {
   "cell_type": "code",
   "execution_count": 87,
   "metadata": {
    "ExecuteTime": {
     "end_time": "2020-04-02T02:23:07.615473Z",
     "start_time": "2020-04-02T02:23:07.577281Z"
    }
   },
   "outputs": [],
   "source": [
    "date = list(df_full_raw['date'])*3    # List of triple date\n",
    "day = list(df_full_raw['day'])*3      # List of triple day\n",
    "month = list(df_full_raw['month'])*3  # List of triple month\n",
    "# List of triple positive sentiment\n",
    "pos = pd.concat([df_full_raw['num_pos_okezone'],df_full_raw['num_pos_kompas'],df_full_raw['num_pos_detik']],axis=0)\n",
    "# List of triple negative sentiment\n",
    "neg = pd.concat([df_full_raw['num_neg_okezone'],df_full_raw['num_neg_kompas'],df_full_raw['num_neg_detik']],axis=0)\n",
    "# List of triple total sentiment\n",
    "total = pd.concat([df_full_raw['total_okezone'],df_full_raw['total_kompas'],df_full_raw['total_detik']],axis=0)\n",
    "# List of triple news names\n",
    "news = pd.concat([pd.Series(['Okezone']*df_full_raw.shape[0]),\n",
    "                  pd.Series(['Kompas']*df_full_raw.shape[0]),\n",
    "                  pd.Series(['Detik']*df_full_raw.shape[0])],axis=0)\n",
    "# Concatenate all list\n",
    "df_long_df_full_raw = pd.concat([pd.Series(date,name='date'),pd.Series(day,name='day'),\n",
    "                                 pd.Series(month,name='month'),pos.reset_index(drop=True),\n",
    "                                 neg.reset_index(drop=True),total.reset_index(drop=True),\n",
    "                                 news.reset_index(drop=True)],axis=1)"
   ]
  },
  {
   "cell_type": "code",
   "execution_count": 88,
   "metadata": {
    "ExecuteTime": {
     "end_time": "2020-04-02T02:23:09.365524Z",
     "start_time": "2020-04-02T02:23:09.357720Z"
    }
   },
   "outputs": [],
   "source": [
    "df_long_df_full_raw.columns = ['date','day','month','pos','neg','total','news']"
   ]
  },
  {
   "cell_type": "code",
   "execution_count": 89,
   "metadata": {
    "ExecuteTime": {
     "end_time": "2020-04-02T02:23:10.093861Z",
     "start_time": "2020-04-02T02:23:10.083708Z"
    }
   },
   "outputs": [],
   "source": [
    "net_data = df_long_df_full_raw['total']-(df_long_df_full_raw['pos']+df_long_df_full_raw['neg'])\n",
    "df_long_df_full_raw.insert(loc=4,column='net',value = net_data)"
   ]
  },
  {
   "cell_type": "markdown",
   "metadata": {},
   "source": [
    "#### Okezone"
   ]
  },
  {
   "cell_type": "code",
   "execution_count": 182,
   "metadata": {
    "ExecuteTime": {
     "end_time": "2020-04-02T03:02:09.144437Z",
     "start_time": "2020-04-02T03:02:09.132387Z"
    }
   },
   "outputs": [],
   "source": [
    "df_long_df_full_raw_okezone = df_long_df_full_raw[df_long_df_full_raw['news'] == 'Okezone']"
   ]
  },
  {
   "cell_type": "code",
   "execution_count": 183,
   "metadata": {
    "ExecuteTime": {
     "end_time": "2020-04-02T03:02:23.449282Z",
     "start_time": "2020-04-02T03:02:23.424639Z"
    }
   },
   "outputs": [],
   "source": [
    "# Aggregating data according to day variable\n",
    "agg_data_okezone = df_long_df_full_raw_okezone.groupby(by=['day'],\n",
    "                                                       as_index = False)['pos','neg','net','total'].agg('sum')"
   ]
  },
  {
   "cell_type": "code",
   "execution_count": 184,
   "metadata": {
    "ExecuteTime": {
     "end_time": "2020-04-02T03:02:28.167061Z",
     "start_time": "2020-04-02T03:02:28.160611Z"
    }
   },
   "outputs": [],
   "source": [
    "agg_data_okezone.columns = ['Day','Positive','Negative','Neutral','Total']"
   ]
  },
  {
   "cell_type": "code",
   "execution_count": 185,
   "metadata": {
    "ExecuteTime": {
     "end_time": "2020-04-02T03:02:36.331618Z",
     "start_time": "2020-04-02T03:02:36.297266Z"
    },
    "cell_style": "split"
   },
   "outputs": [
    {
     "data": {
      "text/html": [
       "<div>\n",
       "<style scoped>\n",
       "    .dataframe tbody tr th:only-of-type {\n",
       "        vertical-align: middle;\n",
       "    }\n",
       "\n",
       "    .dataframe tbody tr th {\n",
       "        vertical-align: top;\n",
       "    }\n",
       "\n",
       "    .dataframe thead th {\n",
       "        text-align: right;\n",
       "    }\n",
       "</style>\n",
       "<table border=\"1\" class=\"dataframe\">\n",
       "  <thead>\n",
       "    <tr style=\"text-align: right;\">\n",
       "      <th></th>\n",
       "      <th>Day</th>\n",
       "      <th>Positive</th>\n",
       "      <th>Negative</th>\n",
       "      <th>Neutral</th>\n",
       "      <th>Total</th>\n",
       "    </tr>\n",
       "  </thead>\n",
       "  <tbody>\n",
       "    <tr>\n",
       "      <th>1</th>\n",
       "      <td>Monday</td>\n",
       "      <td>793.0</td>\n",
       "      <td>456.0</td>\n",
       "      <td>94.0</td>\n",
       "      <td>1343.0</td>\n",
       "    </tr>\n",
       "    <tr>\n",
       "      <th>5</th>\n",
       "      <td>Tuesday</td>\n",
       "      <td>808.0</td>\n",
       "      <td>441.0</td>\n",
       "      <td>122.0</td>\n",
       "      <td>1371.0</td>\n",
       "    </tr>\n",
       "    <tr>\n",
       "      <th>6</th>\n",
       "      <td>Wednesday</td>\n",
       "      <td>809.0</td>\n",
       "      <td>485.0</td>\n",
       "      <td>95.0</td>\n",
       "      <td>1389.0</td>\n",
       "    </tr>\n",
       "    <tr>\n",
       "      <th>4</th>\n",
       "      <td>Thursday</td>\n",
       "      <td>827.0</td>\n",
       "      <td>481.0</td>\n",
       "      <td>129.0</td>\n",
       "      <td>1437.0</td>\n",
       "    </tr>\n",
       "    <tr>\n",
       "      <th>0</th>\n",
       "      <td>Friday</td>\n",
       "      <td>843.0</td>\n",
       "      <td>447.0</td>\n",
       "      <td>91.0</td>\n",
       "      <td>1381.0</td>\n",
       "    </tr>\n",
       "    <tr>\n",
       "      <th>2</th>\n",
       "      <td>Saturday</td>\n",
       "      <td>281.0</td>\n",
       "      <td>153.0</td>\n",
       "      <td>88.0</td>\n",
       "      <td>522.0</td>\n",
       "    </tr>\n",
       "    <tr>\n",
       "      <th>3</th>\n",
       "      <td>Sunday</td>\n",
       "      <td>171.0</td>\n",
       "      <td>64.0</td>\n",
       "      <td>75.0</td>\n",
       "      <td>310.0</td>\n",
       "    </tr>\n",
       "  </tbody>\n",
       "</table>\n",
       "</div>"
      ],
      "text/plain": [
       "         Day  Positive  Negative  Neutral   Total\n",
       "1     Monday     793.0     456.0     94.0  1343.0\n",
       "5    Tuesday     808.0     441.0    122.0  1371.0\n",
       "6  Wednesday     809.0     485.0     95.0  1389.0\n",
       "4   Thursday     827.0     481.0    129.0  1437.0\n",
       "0     Friday     843.0     447.0     91.0  1381.0\n",
       "2   Saturday     281.0     153.0     88.0   522.0\n",
       "3     Sunday     171.0      64.0     75.0   310.0"
      ]
     },
     "execution_count": 185,
     "metadata": {},
     "output_type": "execute_result"
    }
   ],
   "source": [
    "cats = ['Monday','Tuesday','Wednesday','Thursday','Friday','Saturday','Sunday']\n",
    "agg_data_okezone['Day'] = pd.Categorical(agg_data_kompas['Day'],categories=cats,ordered = True)\n",
    "agg_data_okezone.sort_values('Day',ascending = True)"
   ]
  },
  {
   "cell_type": "code",
   "execution_count": 186,
   "metadata": {
    "ExecuteTime": {
     "end_time": "2020-04-02T03:02:54.580004Z",
     "start_time": "2020-04-02T03:02:54.543996Z"
    },
    "cell_style": "split",
    "scrolled": true
   },
   "outputs": [
    {
     "data": {
      "text/html": [
       "<div>\n",
       "<style scoped>\n",
       "    .dataframe tbody tr th:only-of-type {\n",
       "        vertical-align: middle;\n",
       "    }\n",
       "\n",
       "    .dataframe tbody tr th {\n",
       "        vertical-align: top;\n",
       "    }\n",
       "\n",
       "    .dataframe thead th {\n",
       "        text-align: right;\n",
       "    }\n",
       "</style>\n",
       "<table border=\"1\" class=\"dataframe\">\n",
       "  <thead>\n",
       "    <tr style=\"text-align: right;\">\n",
       "      <th></th>\n",
       "      <th>Day</th>\n",
       "      <th>Positive</th>\n",
       "      <th>Negative</th>\n",
       "      <th>Neutral</th>\n",
       "      <th>Total</th>\n",
       "    </tr>\n",
       "  </thead>\n",
       "  <tbody>\n",
       "    <tr>\n",
       "      <th>1</th>\n",
       "      <td>Monday</td>\n",
       "      <td>0.590469</td>\n",
       "      <td>0.339538</td>\n",
       "      <td>0.069993</td>\n",
       "      <td>1343.0</td>\n",
       "    </tr>\n",
       "    <tr>\n",
       "      <th>5</th>\n",
       "      <td>Tuesday</td>\n",
       "      <td>0.589351</td>\n",
       "      <td>0.321663</td>\n",
       "      <td>0.088986</td>\n",
       "      <td>1371.0</td>\n",
       "    </tr>\n",
       "    <tr>\n",
       "      <th>6</th>\n",
       "      <td>Wednesday</td>\n",
       "      <td>0.582433</td>\n",
       "      <td>0.349172</td>\n",
       "      <td>0.068395</td>\n",
       "      <td>1389.0</td>\n",
       "    </tr>\n",
       "    <tr>\n",
       "      <th>4</th>\n",
       "      <td>Thursday</td>\n",
       "      <td>0.575505</td>\n",
       "      <td>0.334725</td>\n",
       "      <td>0.089770</td>\n",
       "      <td>1437.0</td>\n",
       "    </tr>\n",
       "    <tr>\n",
       "      <th>0</th>\n",
       "      <td>Friday</td>\n",
       "      <td>0.610427</td>\n",
       "      <td>0.323678</td>\n",
       "      <td>0.065894</td>\n",
       "      <td>1381.0</td>\n",
       "    </tr>\n",
       "    <tr>\n",
       "      <th>2</th>\n",
       "      <td>Saturday</td>\n",
       "      <td>0.538314</td>\n",
       "      <td>0.293103</td>\n",
       "      <td>0.168582</td>\n",
       "      <td>522.0</td>\n",
       "    </tr>\n",
       "    <tr>\n",
       "      <th>3</th>\n",
       "      <td>Sunday</td>\n",
       "      <td>0.551613</td>\n",
       "      <td>0.206452</td>\n",
       "      <td>0.241935</td>\n",
       "      <td>310.0</td>\n",
       "    </tr>\n",
       "  </tbody>\n",
       "</table>\n",
       "</div>"
      ],
      "text/plain": [
       "         Day  Positive  Negative   Neutral   Total\n",
       "1     Monday  0.590469  0.339538  0.069993  1343.0\n",
       "5    Tuesday  0.589351  0.321663  0.088986  1371.0\n",
       "6  Wednesday  0.582433  0.349172  0.068395  1389.0\n",
       "4   Thursday  0.575505  0.334725  0.089770  1437.0\n",
       "0     Friday  0.610427  0.323678  0.065894  1381.0\n",
       "2   Saturday  0.538314  0.293103  0.168582   522.0\n",
       "3     Sunday  0.551613  0.206452  0.241935   310.0"
      ]
     },
     "execution_count": 186,
     "metadata": {},
     "output_type": "execute_result"
    }
   ],
   "source": [
    "# Ratio of sentiments\n",
    "agg_data_okezone['Positive'] = agg_data_okezone['Positive']/agg_data_okezone['Total']\n",
    "agg_data_okezone['Negative'] = agg_data_okezone['Negative']/agg_data_okezone['Total']\n",
    "agg_data_okezone['Neutral'] = agg_data_okezone['Neutral']/agg_data_okezone['Total']\n",
    "agg_data_okezone.sort_values('Day',ascending = True)"
   ]
  },
  {
   "cell_type": "code",
   "execution_count": 187,
   "metadata": {
    "ExecuteTime": {
     "end_time": "2020-04-02T03:03:29.538925Z",
     "start_time": "2020-04-02T03:03:29.495292Z"
    },
    "scrolled": false
   },
   "outputs": [
    {
     "data": {
      "text/html": [
       "<div>\n",
       "<style scoped>\n",
       "    .dataframe tbody tr th:only-of-type {\n",
       "        vertical-align: middle;\n",
       "    }\n",
       "\n",
       "    .dataframe tbody tr th {\n",
       "        vertical-align: top;\n",
       "    }\n",
       "\n",
       "    .dataframe thead th {\n",
       "        text-align: right;\n",
       "    }\n",
       "</style>\n",
       "<table border=\"1\" class=\"dataframe\">\n",
       "  <thead>\n",
       "    <tr style=\"text-align: right;\">\n",
       "      <th></th>\n",
       "      <th>Day</th>\n",
       "      <th>Sentiment</th>\n",
       "      <th>value</th>\n",
       "    </tr>\n",
       "  </thead>\n",
       "  <tbody>\n",
       "    <tr>\n",
       "      <th>0</th>\n",
       "      <td>Friday</td>\n",
       "      <td>Positive</td>\n",
       "      <td>0.61</td>\n",
       "    </tr>\n",
       "    <tr>\n",
       "      <th>1</th>\n",
       "      <td>Monday</td>\n",
       "      <td>Positive</td>\n",
       "      <td>0.59</td>\n",
       "    </tr>\n",
       "    <tr>\n",
       "      <th>2</th>\n",
       "      <td>Saturday</td>\n",
       "      <td>Positive</td>\n",
       "      <td>0.54</td>\n",
       "    </tr>\n",
       "    <tr>\n",
       "      <th>3</th>\n",
       "      <td>Sunday</td>\n",
       "      <td>Positive</td>\n",
       "      <td>0.55</td>\n",
       "    </tr>\n",
       "    <tr>\n",
       "      <th>4</th>\n",
       "      <td>Thursday</td>\n",
       "      <td>Positive</td>\n",
       "      <td>0.58</td>\n",
       "    </tr>\n",
       "  </tbody>\n",
       "</table>\n",
       "</div>"
      ],
      "text/plain": [
       "        Day Sentiment  value\n",
       "0    Friday  Positive   0.61\n",
       "1    Monday  Positive   0.59\n",
       "2  Saturday  Positive   0.54\n",
       "3    Sunday  Positive   0.55\n",
       "4  Thursday  Positive   0.58"
      ]
     },
     "execution_count": 187,
     "metadata": {},
     "output_type": "execute_result"
    }
   ],
   "source": [
    "# Melting the data\n",
    "agg_data_okezone = agg_data_okezone.drop(['Total'],axis=1)                    # Drop variable of 'total'\n",
    "long_okezone = pd.melt(agg_data_okezone,id_vars='Day',var_name='Sentiment')   # Melt\n",
    "long_okezone['value'] = round(long_okezone['value'],2)                        # Round the value\n",
    "long_okezone.head()"
   ]
  },
  {
   "cell_type": "code",
   "execution_count": 189,
   "metadata": {
    "ExecuteTime": {
     "end_time": "2020-04-02T03:03:52.942286Z",
     "start_time": "2020-04-02T03:03:49.541659Z"
    },
    "scrolled": false
   },
   "outputs": [
    {
     "data": {
      "image/png": "[encoded data removed]",
      "text/plain": [
       "<Figure size 780x370 with 1 Axes>"
      ]
     },
     "metadata": {},
     "output_type": "display_data"
    },
    {
     "data": {
      "text/plain": [
       "<ggplot: (-9223363290943667645)>"
      ]
     },
     "execution_count": 189,
     "metadata": {},
     "output_type": "execute_result"
    }
   ],
   "source": [
    "(ggplot(long_okezone,aes(x = 'Day',\n",
    "                         y = 'value',\n",
    "                         fill = 'Sentiment'))\n",
    " + geom_bar(position = 'fill',\n",
    "            stat = 'identity')\n",
    " + geom_text(aes(label = 'value'),\n",
    "             position = position_stack(vjust = 0.5))\n",
    " + labs(title = \"Stacked Barplot of Monthly Okezone's News Sentiment\")\n",
    " + ylab('Proportion')\n",
    " + xlab('Day')\n",
    " + xlim('Monday','Tuesday','Wednesday','Thursday','Friday','Saturday','Sunday')\n",
    " + theme_bw()\n",
    " + scale_fill_brewer(palette = 'YlOrBr')\n",
    " + theme(legend_title = element_text(),\n",
    "         legend_direction = 'vertical')\n",
    ")"
   ]
  },
  {
   "cell_type": "markdown",
   "metadata": {},
   "source": [
    "#### Kompas"
   ]
  },
  {
   "cell_type": "code",
   "execution_count": 190,
   "metadata": {
    "ExecuteTime": {
     "end_time": "2020-04-02T03:04:00.950303Z",
     "start_time": "2020-04-02T03:04:00.935331Z"
    }
   },
   "outputs": [],
   "source": [
    "df_long_df_full_raw_kompas = df_long_df_full_raw[df_long_df_full_raw['news'] == 'Kompas']"
   ]
  },
  {
   "cell_type": "code",
   "execution_count": 191,
   "metadata": {
    "ExecuteTime": {
     "end_time": "2020-04-02T03:04:04.032345Z",
     "start_time": "2020-04-02T03:04:04.007710Z"
    }
   },
   "outputs": [],
   "source": [
    "# Aggregating data according to day variable\n",
    "agg_data_kompas = df_long_df_full_raw_kompas.groupby(by=['day'],\n",
    "                                                     as_index = False)['pos','neg','net','total'].agg('sum')"
   ]
  },
  {
   "cell_type": "code",
   "execution_count": 192,
   "metadata": {
    "ExecuteTime": {
     "end_time": "2020-04-02T03:04:06.319205Z",
     "start_time": "2020-04-02T03:04:06.306067Z"
    }
   },
   "outputs": [],
   "source": [
    "agg_data_kompas.columns = ['Day','Positive','Negative','Neutral','Total']"
   ]
  },
  {
   "cell_type": "code",
   "execution_count": 193,
   "metadata": {
    "ExecuteTime": {
     "end_time": "2020-04-02T03:04:07.694829Z",
     "start_time": "2020-04-02T03:04:07.647326Z"
    },
    "cell_style": "split"
   },
   "outputs": [
    {
     "data": {
      "text/html": [
       "<div>\n",
       "<style scoped>\n",
       "    .dataframe tbody tr th:only-of-type {\n",
       "        vertical-align: middle;\n",
       "    }\n",
       "\n",
       "    .dataframe tbody tr th {\n",
       "        vertical-align: top;\n",
       "    }\n",
       "\n",
       "    .dataframe thead th {\n",
       "        text-align: right;\n",
       "    }\n",
       "</style>\n",
       "<table border=\"1\" class=\"dataframe\">\n",
       "  <thead>\n",
       "    <tr style=\"text-align: right;\">\n",
       "      <th></th>\n",
       "      <th>Day</th>\n",
       "      <th>Positive</th>\n",
       "      <th>Negative</th>\n",
       "      <th>Neutral</th>\n",
       "      <th>Total</th>\n",
       "    </tr>\n",
       "  </thead>\n",
       "  <tbody>\n",
       "    <tr>\n",
       "      <th>1</th>\n",
       "      <td>Monday</td>\n",
       "      <td>415.0</td>\n",
       "      <td>201.0</td>\n",
       "      <td>139.0</td>\n",
       "      <td>755.0</td>\n",
       "    </tr>\n",
       "    <tr>\n",
       "      <th>5</th>\n",
       "      <td>Tuesday</td>\n",
       "      <td>377.0</td>\n",
       "      <td>187.0</td>\n",
       "      <td>113.0</td>\n",
       "      <td>677.0</td>\n",
       "    </tr>\n",
       "    <tr>\n",
       "      <th>6</th>\n",
       "      <td>Wednesday</td>\n",
       "      <td>349.0</td>\n",
       "      <td>207.0</td>\n",
       "      <td>120.0</td>\n",
       "      <td>676.0</td>\n",
       "    </tr>\n",
       "    <tr>\n",
       "      <th>4</th>\n",
       "      <td>Thursday</td>\n",
       "      <td>398.0</td>\n",
       "      <td>154.0</td>\n",
       "      <td>139.0</td>\n",
       "      <td>691.0</td>\n",
       "    </tr>\n",
       "    <tr>\n",
       "      <th>0</th>\n",
       "      <td>Friday</td>\n",
       "      <td>382.0</td>\n",
       "      <td>177.0</td>\n",
       "      <td>124.0</td>\n",
       "      <td>683.0</td>\n",
       "    </tr>\n",
       "    <tr>\n",
       "      <th>2</th>\n",
       "      <td>Saturday</td>\n",
       "      <td>126.0</td>\n",
       "      <td>30.0</td>\n",
       "      <td>92.0</td>\n",
       "      <td>248.0</td>\n",
       "    </tr>\n",
       "    <tr>\n",
       "      <th>3</th>\n",
       "      <td>Sunday</td>\n",
       "      <td>93.0</td>\n",
       "      <td>35.0</td>\n",
       "      <td>78.0</td>\n",
       "      <td>206.0</td>\n",
       "    </tr>\n",
       "  </tbody>\n",
       "</table>\n",
       "</div>"
      ],
      "text/plain": [
       "         Day  Positive  Negative  Neutral  Total\n",
       "1     Monday     415.0     201.0    139.0  755.0\n",
       "5    Tuesday     377.0     187.0    113.0  677.0\n",
       "6  Wednesday     349.0     207.0    120.0  676.0\n",
       "4   Thursday     398.0     154.0    139.0  691.0\n",
       "0     Friday     382.0     177.0    124.0  683.0\n",
       "2   Saturday     126.0      30.0     92.0  248.0\n",
       "3     Sunday      93.0      35.0     78.0  206.0"
      ]
     },
     "execution_count": 193,
     "metadata": {},
     "output_type": "execute_result"
    }
   ],
   "source": [
    "cats = ['Monday','Tuesday','Wednesday','Thursday','Friday','Saturday','Sunday']\n",
    "agg_data_kompas['Day'] = pd.Categorical(agg_data_kompas['Day'],categories=cats,ordered = True)\n",
    "agg_data_kompas.sort_values('Day',ascending = True)"
   ]
  },
  {
   "cell_type": "code",
   "execution_count": 194,
   "metadata": {
    "ExecuteTime": {
     "end_time": "2020-04-02T03:04:12.294792Z",
     "start_time": "2020-04-02T03:04:12.240770Z"
    },
    "cell_style": "split"
   },
   "outputs": [
    {
     "data": {
      "text/html": [
       "<div>\n",
       "<style scoped>\n",
       "    .dataframe tbody tr th:only-of-type {\n",
       "        vertical-align: middle;\n",
       "    }\n",
       "\n",
       "    .dataframe tbody tr th {\n",
       "        vertical-align: top;\n",
       "    }\n",
       "\n",
       "    .dataframe thead th {\n",
       "        text-align: right;\n",
       "    }\n",
       "</style>\n",
       "<table border=\"1\" class=\"dataframe\">\n",
       "  <thead>\n",
       "    <tr style=\"text-align: right;\">\n",
       "      <th></th>\n",
       "      <th>Day</th>\n",
       "      <th>Positive</th>\n",
       "      <th>Negative</th>\n",
       "      <th>Neutral</th>\n",
       "      <th>Total</th>\n",
       "    </tr>\n",
       "  </thead>\n",
       "  <tbody>\n",
       "    <tr>\n",
       "      <th>1</th>\n",
       "      <td>Monday</td>\n",
       "      <td>0.549669</td>\n",
       "      <td>0.266225</td>\n",
       "      <td>0.184106</td>\n",
       "      <td>755.0</td>\n",
       "    </tr>\n",
       "    <tr>\n",
       "      <th>5</th>\n",
       "      <td>Tuesday</td>\n",
       "      <td>0.556869</td>\n",
       "      <td>0.276219</td>\n",
       "      <td>0.166913</td>\n",
       "      <td>677.0</td>\n",
       "    </tr>\n",
       "    <tr>\n",
       "      <th>6</th>\n",
       "      <td>Wednesday</td>\n",
       "      <td>0.516272</td>\n",
       "      <td>0.306213</td>\n",
       "      <td>0.177515</td>\n",
       "      <td>676.0</td>\n",
       "    </tr>\n",
       "    <tr>\n",
       "      <th>4</th>\n",
       "      <td>Thursday</td>\n",
       "      <td>0.575977</td>\n",
       "      <td>0.222865</td>\n",
       "      <td>0.201158</td>\n",
       "      <td>691.0</td>\n",
       "    </tr>\n",
       "    <tr>\n",
       "      <th>0</th>\n",
       "      <td>Friday</td>\n",
       "      <td>0.559297</td>\n",
       "      <td>0.259151</td>\n",
       "      <td>0.181552</td>\n",
       "      <td>683.0</td>\n",
       "    </tr>\n",
       "    <tr>\n",
       "      <th>2</th>\n",
       "      <td>Saturday</td>\n",
       "      <td>0.508065</td>\n",
       "      <td>0.120968</td>\n",
       "      <td>0.370968</td>\n",
       "      <td>248.0</td>\n",
       "    </tr>\n",
       "    <tr>\n",
       "      <th>3</th>\n",
       "      <td>Sunday</td>\n",
       "      <td>0.451456</td>\n",
       "      <td>0.169903</td>\n",
       "      <td>0.378641</td>\n",
       "      <td>206.0</td>\n",
       "    </tr>\n",
       "  </tbody>\n",
       "</table>\n",
       "</div>"
      ],
      "text/plain": [
       "         Day  Positive  Negative   Neutral  Total\n",
       "1     Monday  0.549669  0.266225  0.184106  755.0\n",
       "5    Tuesday  0.556869  0.276219  0.166913  677.0\n",
       "6  Wednesday  0.516272  0.306213  0.177515  676.0\n",
       "4   Thursday  0.575977  0.222865  0.201158  691.0\n",
       "0     Friday  0.559297  0.259151  0.181552  683.0\n",
       "2   Saturday  0.508065  0.120968  0.370968  248.0\n",
       "3     Sunday  0.451456  0.169903  0.378641  206.0"
      ]
     },
     "execution_count": 194,
     "metadata": {},
     "output_type": "execute_result"
    }
   ],
   "source": [
    "# Ratio of sentiments\n",
    "agg_data_kompas['Positive'] = agg_data_kompas['Positive']/agg_data_kompas['Total']\n",
    "agg_data_kompas['Negative'] = agg_data_kompas['Negative']/agg_data_kompas['Total']\n",
    "agg_data_kompas['Neutral'] = agg_data_kompas['Neutral']/agg_data_kompas['Total']\n",
    "agg_data_kompas.sort_values('Day',ascending = True)"
   ]
  },
  {
   "cell_type": "code",
   "execution_count": 195,
   "metadata": {
    "ExecuteTime": {
     "end_time": "2020-04-02T03:04:36.599783Z",
     "start_time": "2020-04-02T03:04:36.540162Z"
    }
   },
   "outputs": [
    {
     "data": {
      "text/html": [
       "<div>\n",
       "<style scoped>\n",
       "    .dataframe tbody tr th:only-of-type {\n",
       "        vertical-align: middle;\n",
       "    }\n",
       "\n",
       "    .dataframe tbody tr th {\n",
       "        vertical-align: top;\n",
       "    }\n",
       "\n",
       "    .dataframe thead th {\n",
       "        text-align: right;\n",
       "    }\n",
       "</style>\n",
       "<table border=\"1\" class=\"dataframe\">\n",
       "  <thead>\n",
       "    <tr style=\"text-align: right;\">\n",
       "      <th></th>\n",
       "      <th>Day</th>\n",
       "      <th>Sentiment</th>\n",
       "      <th>value</th>\n",
       "    </tr>\n",
       "  </thead>\n",
       "  <tbody>\n",
       "    <tr>\n",
       "      <th>0</th>\n",
       "      <td>Friday</td>\n",
       "      <td>Positive</td>\n",
       "      <td>0.56</td>\n",
       "    </tr>\n",
       "    <tr>\n",
       "      <th>1</th>\n",
       "      <td>Monday</td>\n",
       "      <td>Positive</td>\n",
       "      <td>0.55</td>\n",
       "    </tr>\n",
       "    <tr>\n",
       "      <th>2</th>\n",
       "      <td>Saturday</td>\n",
       "      <td>Positive</td>\n",
       "      <td>0.51</td>\n",
       "    </tr>\n",
       "    <tr>\n",
       "      <th>3</th>\n",
       "      <td>Sunday</td>\n",
       "      <td>Positive</td>\n",
       "      <td>0.45</td>\n",
       "    </tr>\n",
       "    <tr>\n",
       "      <th>4</th>\n",
       "      <td>Thursday</td>\n",
       "      <td>Positive</td>\n",
       "      <td>0.58</td>\n",
       "    </tr>\n",
       "  </tbody>\n",
       "</table>\n",
       "</div>"
      ],
      "text/plain": [
       "        Day Sentiment  value\n",
       "0    Friday  Positive   0.56\n",
       "1    Monday  Positive   0.55\n",
       "2  Saturday  Positive   0.51\n",
       "3    Sunday  Positive   0.45\n",
       "4  Thursday  Positive   0.58"
      ]
     },
     "execution_count": 195,
     "metadata": {},
     "output_type": "execute_result"
    }
   ],
   "source": [
    "# Melting the data\n",
    "agg_data_kompas = agg_data_kompas.drop(['Total'],axis=1)                    # Drop variable of 'total'\n",
    "long_kompas = pd.melt(agg_data_kompas,id_vars='Day',var_name='Sentiment')   # Melt\n",
    "long_kompas['value'] = round(long_kompas['value'],2)                        # Round the value\n",
    "long_kompas.head()"
   ]
  },
  {
   "cell_type": "code",
   "execution_count": 196,
   "metadata": {
    "ExecuteTime": {
     "end_time": "2020-04-02T03:04:47.905292Z",
     "start_time": "2020-04-02T03:04:44.841404Z"
    }
   },
   "outputs": [
    {
     "data": {
      "image/png": "[encoded data removed]",
      "text/plain": [
       "<Figure size 780x370 with 1 Axes>"
      ]
     },
     "metadata": {},
     "output_type": "display_data"
    },
    {
     "data": {
      "text/plain": [
       "<ggplot: (8745914147918)>"
      ]
     },
     "execution_count": 196,
     "metadata": {},
     "output_type": "execute_result"
    }
   ],
   "source": [
    "(ggplot(long_kompas,aes(x = 'Day',\n",
    "                        y = 'value',\n",
    "                        fill = 'Sentiment'))\n",
    " + geom_bar(position = 'fill',\n",
    "            stat = 'identity')\n",
    " + geom_text(aes(label = 'value'),\n",
    "             position = position_stack(vjust = 0.5))\n",
    " + labs(title = \"Stacked Barplot of Monthly Kompas's News Sentiment\")\n",
    " + ylab('Proportion')\n",
    " + xlab('Day')\n",
    " + xlim('Monday','Tuesday','Wednesday','Thursday','Friday','Saturday','Sunday')\n",
    " + theme_bw()\n",
    " + scale_fill_brewer(palette = 'YlOrBr')\n",
    " + theme(legend_title = element_text(),\n",
    "         legend_direction = 'vertical')\n",
    ")"
   ]
  },
  {
   "cell_type": "markdown",
   "metadata": {},
   "source": [
    "#### Detik"
   ]
  },
  {
   "cell_type": "code",
   "execution_count": 197,
   "metadata": {
    "ExecuteTime": {
     "end_time": "2020-04-02T03:06:15.717033Z",
     "start_time": "2020-04-02T03:06:15.708347Z"
    }
   },
   "outputs": [],
   "source": [
    "df_long_df_full_raw_detik = df_long_df_full_raw[df_long_df_full_raw['news'] == 'Detik']"
   ]
  },
  {
   "cell_type": "code",
   "execution_count": 198,
   "metadata": {
    "ExecuteTime": {
     "end_time": "2020-04-02T03:06:25.833371Z",
     "start_time": "2020-04-02T03:06:25.816164Z"
    }
   },
   "outputs": [],
   "source": [
    "# Aggregating data according to day variable\n",
    "agg_data_detik = df_long_df_full_raw_detik.groupby(by=['day'],\n",
    "                                                   as_index = False)['pos','neg','net','total'].agg('sum')"
   ]
  },
  {
   "cell_type": "code",
   "execution_count": 199,
   "metadata": {
    "ExecuteTime": {
     "end_time": "2020-04-02T03:06:28.896047Z",
     "start_time": "2020-04-02T03:06:28.889497Z"
    }
   },
   "outputs": [],
   "source": [
    "agg_data_detik.columns = ['Day','Positive','Negative','Neutral','Total']"
   ]
  },
  {
   "cell_type": "code",
   "execution_count": 200,
   "metadata": {
    "ExecuteTime": {
     "end_time": "2020-04-02T03:06:39.568266Z",
     "start_time": "2020-04-02T03:06:39.521724Z"
    },
    "cell_style": "split"
   },
   "outputs": [
    {
     "data": {
      "text/html": [
       "<div>\n",
       "<style scoped>\n",
       "    .dataframe tbody tr th:only-of-type {\n",
       "        vertical-align: middle;\n",
       "    }\n",
       "\n",
       "    .dataframe tbody tr th {\n",
       "        vertical-align: top;\n",
       "    }\n",
       "\n",
       "    .dataframe thead th {\n",
       "        text-align: right;\n",
       "    }\n",
       "</style>\n",
       "<table border=\"1\" class=\"dataframe\">\n",
       "  <thead>\n",
       "    <tr style=\"text-align: right;\">\n",
       "      <th></th>\n",
       "      <th>Day</th>\n",
       "      <th>Positive</th>\n",
       "      <th>Negative</th>\n",
       "      <th>Neutral</th>\n",
       "      <th>Total</th>\n",
       "    </tr>\n",
       "  </thead>\n",
       "  <tbody>\n",
       "    <tr>\n",
       "      <th>1</th>\n",
       "      <td>Monday</td>\n",
       "      <td>709.0</td>\n",
       "      <td>526.0</td>\n",
       "      <td>279.0</td>\n",
       "      <td>1514.0</td>\n",
       "    </tr>\n",
       "    <tr>\n",
       "      <th>5</th>\n",
       "      <td>Tuesday</td>\n",
       "      <td>657.0</td>\n",
       "      <td>495.0</td>\n",
       "      <td>247.0</td>\n",
       "      <td>1399.0</td>\n",
       "    </tr>\n",
       "    <tr>\n",
       "      <th>6</th>\n",
       "      <td>Wednesday</td>\n",
       "      <td>662.0</td>\n",
       "      <td>519.0</td>\n",
       "      <td>256.0</td>\n",
       "      <td>1437.0</td>\n",
       "    </tr>\n",
       "    <tr>\n",
       "      <th>4</th>\n",
       "      <td>Thursday</td>\n",
       "      <td>690.0</td>\n",
       "      <td>410.0</td>\n",
       "      <td>270.0</td>\n",
       "      <td>1370.0</td>\n",
       "    </tr>\n",
       "    <tr>\n",
       "      <th>0</th>\n",
       "      <td>Friday</td>\n",
       "      <td>700.0</td>\n",
       "      <td>447.0</td>\n",
       "      <td>264.0</td>\n",
       "      <td>1411.0</td>\n",
       "    </tr>\n",
       "    <tr>\n",
       "      <th>2</th>\n",
       "      <td>Saturday</td>\n",
       "      <td>246.0</td>\n",
       "      <td>119.0</td>\n",
       "      <td>193.0</td>\n",
       "      <td>558.0</td>\n",
       "    </tr>\n",
       "    <tr>\n",
       "      <th>3</th>\n",
       "      <td>Sunday</td>\n",
       "      <td>177.0</td>\n",
       "      <td>89.0</td>\n",
       "      <td>163.0</td>\n",
       "      <td>429.0</td>\n",
       "    </tr>\n",
       "  </tbody>\n",
       "</table>\n",
       "</div>"
      ],
      "text/plain": [
       "         Day  Positive  Negative  Neutral   Total\n",
       "1     Monday     709.0     526.0    279.0  1514.0\n",
       "5    Tuesday     657.0     495.0    247.0  1399.0\n",
       "6  Wednesday     662.0     519.0    256.0  1437.0\n",
       "4   Thursday     690.0     410.0    270.0  1370.0\n",
       "0     Friday     700.0     447.0    264.0  1411.0\n",
       "2   Saturday     246.0     119.0    193.0   558.0\n",
       "3     Sunday     177.0      89.0    163.0   429.0"
      ]
     },
     "execution_count": 200,
     "metadata": {},
     "output_type": "execute_result"
    }
   ],
   "source": [
    "cats = ['Monday','Tuesday','Wednesday','Thursday','Friday','Saturday','Sunday']\n",
    "agg_data_detik['Day'] = pd.Categorical(agg_data_detik['Day'],categories=cats,ordered = True)\n",
    "agg_data_detik.sort_values('Day',ascending = True)"
   ]
  },
  {
   "cell_type": "code",
   "execution_count": 201,
   "metadata": {
    "ExecuteTime": {
     "end_time": "2020-04-02T03:07:07.443510Z",
     "start_time": "2020-04-02T03:07:07.403595Z"
    },
    "cell_style": "split"
   },
   "outputs": [
    {
     "data": {
      "text/html": [
       "<div>\n",
       "<style scoped>\n",
       "    .dataframe tbody tr th:only-of-type {\n",
       "        vertical-align: middle;\n",
       "    }\n",
       "\n",
       "    .dataframe tbody tr th {\n",
       "        vertical-align: top;\n",
       "    }\n",
       "\n",
       "    .dataframe thead th {\n",
       "        text-align: right;\n",
       "    }\n",
       "</style>\n",
       "<table border=\"1\" class=\"dataframe\">\n",
       "  <thead>\n",
       "    <tr style=\"text-align: right;\">\n",
       "      <th></th>\n",
       "      <th>Day</th>\n",
       "      <th>Positive</th>\n",
       "      <th>Negative</th>\n",
       "      <th>Neutral</th>\n",
       "      <th>Total</th>\n",
       "    </tr>\n",
       "  </thead>\n",
       "  <tbody>\n",
       "    <tr>\n",
       "      <th>1</th>\n",
       "      <td>Monday</td>\n",
       "      <td>0.468296</td>\n",
       "      <td>0.347424</td>\n",
       "      <td>0.184280</td>\n",
       "      <td>1514.0</td>\n",
       "    </tr>\n",
       "    <tr>\n",
       "      <th>5</th>\n",
       "      <td>Tuesday</td>\n",
       "      <td>0.469621</td>\n",
       "      <td>0.353824</td>\n",
       "      <td>0.176555</td>\n",
       "      <td>1399.0</td>\n",
       "    </tr>\n",
       "    <tr>\n",
       "      <th>6</th>\n",
       "      <td>Wednesday</td>\n",
       "      <td>0.460682</td>\n",
       "      <td>0.361169</td>\n",
       "      <td>0.178149</td>\n",
       "      <td>1437.0</td>\n",
       "    </tr>\n",
       "    <tr>\n",
       "      <th>4</th>\n",
       "      <td>Thursday</td>\n",
       "      <td>0.503650</td>\n",
       "      <td>0.299270</td>\n",
       "      <td>0.197080</td>\n",
       "      <td>1370.0</td>\n",
       "    </tr>\n",
       "    <tr>\n",
       "      <th>0</th>\n",
       "      <td>Friday</td>\n",
       "      <td>0.496102</td>\n",
       "      <td>0.316797</td>\n",
       "      <td>0.187101</td>\n",
       "      <td>1411.0</td>\n",
       "    </tr>\n",
       "    <tr>\n",
       "      <th>2</th>\n",
       "      <td>Saturday</td>\n",
       "      <td>0.440860</td>\n",
       "      <td>0.213262</td>\n",
       "      <td>0.345878</td>\n",
       "      <td>558.0</td>\n",
       "    </tr>\n",
       "    <tr>\n",
       "      <th>3</th>\n",
       "      <td>Sunday</td>\n",
       "      <td>0.412587</td>\n",
       "      <td>0.207459</td>\n",
       "      <td>0.379953</td>\n",
       "      <td>429.0</td>\n",
       "    </tr>\n",
       "  </tbody>\n",
       "</table>\n",
       "</div>"
      ],
      "text/plain": [
       "         Day  Positive  Negative   Neutral   Total\n",
       "1     Monday  0.468296  0.347424  0.184280  1514.0\n",
       "5    Tuesday  0.469621  0.353824  0.176555  1399.0\n",
       "6  Wednesday  0.460682  0.361169  0.178149  1437.0\n",
       "4   Thursday  0.503650  0.299270  0.197080  1370.0\n",
       "0     Friday  0.496102  0.316797  0.187101  1411.0\n",
       "2   Saturday  0.440860  0.213262  0.345878   558.0\n",
       "3     Sunday  0.412587  0.207459  0.379953   429.0"
      ]
     },
     "execution_count": 201,
     "metadata": {},
     "output_type": "execute_result"
    }
   ],
   "source": [
    "# Ratio of sentiments\n",
    "agg_data_detik['Positive'] = agg_data_detik['Positive']/agg_data_detik['Total']\n",
    "agg_data_detik['Negative'] = agg_data_detik['Negative']/agg_data_detik['Total']\n",
    "agg_data_detik['Neutral'] = agg_data_detik['Neutral']/agg_data_detik['Total']\n",
    "agg_data_detik.sort_values('Day',ascending = True)"
   ]
  },
  {
   "cell_type": "code",
   "execution_count": 202,
   "metadata": {
    "ExecuteTime": {
     "end_time": "2020-04-02T03:07:26.554845Z",
     "start_time": "2020-04-02T03:07:26.501409Z"
    }
   },
   "outputs": [
    {
     "data": {
      "text/html": [
       "<div>\n",
       "<style scoped>\n",
       "    .dataframe tbody tr th:only-of-type {\n",
       "        vertical-align: middle;\n",
       "    }\n",
       "\n",
       "    .dataframe tbody tr th {\n",
       "        vertical-align: top;\n",
       "    }\n",
       "\n",
       "    .dataframe thead th {\n",
       "        text-align: right;\n",
       "    }\n",
       "</style>\n",
       "<table border=\"1\" class=\"dataframe\">\n",
       "  <thead>\n",
       "    <tr style=\"text-align: right;\">\n",
       "      <th></th>\n",
       "      <th>Day</th>\n",
       "      <th>Sentiment</th>\n",
       "      <th>value</th>\n",
       "    </tr>\n",
       "  </thead>\n",
       "  <tbody>\n",
       "    <tr>\n",
       "      <th>0</th>\n",
       "      <td>Friday</td>\n",
       "      <td>Positive</td>\n",
       "      <td>0.50</td>\n",
       "    </tr>\n",
       "    <tr>\n",
       "      <th>1</th>\n",
       "      <td>Monday</td>\n",
       "      <td>Positive</td>\n",
       "      <td>0.47</td>\n",
       "    </tr>\n",
       "    <tr>\n",
       "      <th>2</th>\n",
       "      <td>Saturday</td>\n",
       "      <td>Positive</td>\n",
       "      <td>0.44</td>\n",
       "    </tr>\n",
       "    <tr>\n",
       "      <th>3</th>\n",
       "      <td>Sunday</td>\n",
       "      <td>Positive</td>\n",
       "      <td>0.41</td>\n",
       "    </tr>\n",
       "    <tr>\n",
       "      <th>4</th>\n",
       "      <td>Thursday</td>\n",
       "      <td>Positive</td>\n",
       "      <td>0.50</td>\n",
       "    </tr>\n",
       "  </tbody>\n",
       "</table>\n",
       "</div>"
      ],
      "text/plain": [
       "        Day Sentiment  value\n",
       "0    Friday  Positive   0.50\n",
       "1    Monday  Positive   0.47\n",
       "2  Saturday  Positive   0.44\n",
       "3    Sunday  Positive   0.41\n",
       "4  Thursday  Positive   0.50"
      ]
     },
     "execution_count": 202,
     "metadata": {},
     "output_type": "execute_result"
    }
   ],
   "source": [
    "# Melting the data\n",
    "agg_data_detik = agg_data_detik.drop(['Total'],axis=1)                    # Drop variable of 'total'\n",
    "long_detik = pd.melt(agg_data_detik,id_vars='Day',var_name='Sentiment')   # Melt\n",
    "long_detik['value'] = round(long_detik['value'],2)                        # Round the value\n",
    "long_detik.head()"
   ]
  },
  {
   "cell_type": "code",
   "execution_count": 203,
   "metadata": {
    "ExecuteTime": {
     "end_time": "2020-04-02T03:07:42.329377Z",
     "start_time": "2020-04-02T03:07:39.044233Z"
    }
   },
   "outputs": [
    {
     "data": {
      "image/png": "[encoded data removed]",
      "text/plain": [
       "<Figure size 780x370 with 1 Axes>"
      ]
     },
     "metadata": {},
     "output_type": "display_data"
    },
    {
     "data": {
      "text/plain": [
       "<ggplot: (8745921299376)>"
      ]
     },
     "execution_count": 203,
     "metadata": {},
     "output_type": "execute_result"
    }
   ],
   "source": [
    "(ggplot(long_detik,aes(x = 'Day',\n",
    "                       y = 'value',\n",
    "                       fill = 'Sentiment'))\n",
    " + geom_bar(position = 'fill',\n",
    "            stat = 'identity')\n",
    " + geom_text(aes(label = 'value'),\n",
    "             position = position_stack(vjust = 0.5))\n",
    " + labs(title = \"Stacked Barplot of Monthly Detik's News Sentiment\")\n",
    " + ylab('Proportion')\n",
    " + xlab('Day')\n",
    " + xlim('Monday','Tuesday','Wednesday','Thursday','Friday','Saturday','Sunday')\n",
    " + theme_bw()\n",
    " + scale_fill_brewer(palette = 'YlOrBr')\n",
    " + theme(legend_title = element_text(),\n",
    "         legend_direction = 'vertical')\n",
    ")"
   ]
  },
  {
   "cell_type": "markdown",
   "metadata": {},
   "source": [
    "### 4.8 Time Series of Sentiment Ratio"
   ]
  },
  {
   "cell_type": "code",
   "execution_count": 218,
   "metadata": {
    "ExecuteTime": {
     "end_time": "2020-04-02T03:14:09.059715Z",
     "start_time": "2020-04-02T03:14:09.034547Z"
    }
   },
   "outputs": [],
   "source": [
    "# Aggregating data according to day variable\n",
    "agg_data_news = df_long_df_full_raw.groupby(by=['day','news'],\n",
    "                                            as_index = False)['pos','neg','net','total'].agg('sum')"
   ]
  },
  {
   "cell_type": "code",
   "execution_count": 219,
   "metadata": {
    "ExecuteTime": {
     "end_time": "2020-04-02T03:14:09.782315Z",
     "start_time": "2020-04-02T03:14:09.746897Z"
    },
    "cell_style": "split"
   },
   "outputs": [
    {
     "data": {
      "text/html": [
       "<div>\n",
       "<style scoped>\n",
       "    .dataframe tbody tr th:only-of-type {\n",
       "        vertical-align: middle;\n",
       "    }\n",
       "\n",
       "    .dataframe tbody tr th {\n",
       "        vertical-align: top;\n",
       "    }\n",
       "\n",
       "    .dataframe thead th {\n",
       "        text-align: right;\n",
       "    }\n",
       "</style>\n",
       "<table border=\"1\" class=\"dataframe\">\n",
       "  <thead>\n",
       "    <tr style=\"text-align: right;\">\n",
       "      <th></th>\n",
       "      <th>day</th>\n",
       "      <th>news</th>\n",
       "      <th>pos</th>\n",
       "      <th>neg</th>\n",
       "      <th>net</th>\n",
       "      <th>total</th>\n",
       "    </tr>\n",
       "  </thead>\n",
       "  <tbody>\n",
       "    <tr>\n",
       "      <th>0</th>\n",
       "      <td>Friday</td>\n",
       "      <td>Detik</td>\n",
       "      <td>700.0</td>\n",
       "      <td>447.0</td>\n",
       "      <td>264.0</td>\n",
       "      <td>1411.0</td>\n",
       "    </tr>\n",
       "    <tr>\n",
       "      <th>1</th>\n",
       "      <td>Friday</td>\n",
       "      <td>Kompas</td>\n",
       "      <td>382.0</td>\n",
       "      <td>177.0</td>\n",
       "      <td>124.0</td>\n",
       "      <td>683.0</td>\n",
       "    </tr>\n",
       "    <tr>\n",
       "      <th>2</th>\n",
       "      <td>Friday</td>\n",
       "      <td>Okezone</td>\n",
       "      <td>843.0</td>\n",
       "      <td>447.0</td>\n",
       "      <td>91.0</td>\n",
       "      <td>1381.0</td>\n",
       "    </tr>\n",
       "    <tr>\n",
       "      <th>3</th>\n",
       "      <td>Monday</td>\n",
       "      <td>Detik</td>\n",
       "      <td>709.0</td>\n",
       "      <td>526.0</td>\n",
       "      <td>279.0</td>\n",
       "      <td>1514.0</td>\n",
       "    </tr>\n",
       "    <tr>\n",
       "      <th>4</th>\n",
       "      <td>Monday</td>\n",
       "      <td>Kompas</td>\n",
       "      <td>415.0</td>\n",
       "      <td>201.0</td>\n",
       "      <td>139.0</td>\n",
       "      <td>755.0</td>\n",
       "    </tr>\n",
       "  </tbody>\n",
       "</table>\n",
       "</div>"
      ],
      "text/plain": [
       "      day     news    pos    neg    net   total\n",
       "0  Friday    Detik  700.0  447.0  264.0  1411.0\n",
       "1  Friday   Kompas  382.0  177.0  124.0   683.0\n",
       "2  Friday  Okezone  843.0  447.0   91.0  1381.0\n",
       "3  Monday    Detik  709.0  526.0  279.0  1514.0\n",
       "4  Monday   Kompas  415.0  201.0  139.0   755.0"
      ]
     },
     "execution_count": 219,
     "metadata": {},
     "output_type": "execute_result"
    }
   ],
   "source": [
    "agg_data_news.head()"
   ]
  },
  {
   "cell_type": "code",
   "execution_count": 220,
   "metadata": {
    "ExecuteTime": {
     "end_time": "2020-04-02T03:14:10.544522Z",
     "start_time": "2020-04-02T03:14:10.501672Z"
    },
    "cell_style": "split"
   },
   "outputs": [
    {
     "data": {
      "text/html": [
       "<div>\n",
       "<style scoped>\n",
       "    .dataframe tbody tr th:only-of-type {\n",
       "        vertical-align: middle;\n",
       "    }\n",
       "\n",
       "    .dataframe tbody tr th {\n",
       "        vertical-align: top;\n",
       "    }\n",
       "\n",
       "    .dataframe thead th {\n",
       "        text-align: right;\n",
       "    }\n",
       "</style>\n",
       "<table border=\"1\" class=\"dataframe\">\n",
       "  <thead>\n",
       "    <tr style=\"text-align: right;\">\n",
       "      <th></th>\n",
       "      <th>day</th>\n",
       "      <th>news</th>\n",
       "      <th>pos</th>\n",
       "      <th>neg</th>\n",
       "      <th>net</th>\n",
       "      <th>total</th>\n",
       "      <th>ratio</th>\n",
       "    </tr>\n",
       "  </thead>\n",
       "  <tbody>\n",
       "    <tr>\n",
       "      <th>0</th>\n",
       "      <td>Friday</td>\n",
       "      <td>Detik</td>\n",
       "      <td>700.0</td>\n",
       "      <td>447.0</td>\n",
       "      <td>264.0</td>\n",
       "      <td>1411.0</td>\n",
       "      <td>1.57</td>\n",
       "    </tr>\n",
       "    <tr>\n",
       "      <th>1</th>\n",
       "      <td>Friday</td>\n",
       "      <td>Kompas</td>\n",
       "      <td>382.0</td>\n",
       "      <td>177.0</td>\n",
       "      <td>124.0</td>\n",
       "      <td>683.0</td>\n",
       "      <td>2.16</td>\n",
       "    </tr>\n",
       "    <tr>\n",
       "      <th>2</th>\n",
       "      <td>Friday</td>\n",
       "      <td>Okezone</td>\n",
       "      <td>843.0</td>\n",
       "      <td>447.0</td>\n",
       "      <td>91.0</td>\n",
       "      <td>1381.0</td>\n",
       "      <td>1.89</td>\n",
       "    </tr>\n",
       "    <tr>\n",
       "      <th>3</th>\n",
       "      <td>Monday</td>\n",
       "      <td>Detik</td>\n",
       "      <td>709.0</td>\n",
       "      <td>526.0</td>\n",
       "      <td>279.0</td>\n",
       "      <td>1514.0</td>\n",
       "      <td>1.35</td>\n",
       "    </tr>\n",
       "    <tr>\n",
       "      <th>4</th>\n",
       "      <td>Monday</td>\n",
       "      <td>Kompas</td>\n",
       "      <td>415.0</td>\n",
       "      <td>201.0</td>\n",
       "      <td>139.0</td>\n",
       "      <td>755.0</td>\n",
       "      <td>2.06</td>\n",
       "    </tr>\n",
       "  </tbody>\n",
       "</table>\n",
       "</div>"
      ],
      "text/plain": [
       "      day     news    pos    neg    net   total  ratio\n",
       "0  Friday    Detik  700.0  447.0  264.0  1411.0   1.57\n",
       "1  Friday   Kompas  382.0  177.0  124.0   683.0   2.16\n",
       "2  Friday  Okezone  843.0  447.0   91.0  1381.0   1.89\n",
       "3  Monday    Detik  709.0  526.0  279.0  1514.0   1.35\n",
       "4  Monday   Kompas  415.0  201.0  139.0   755.0   2.06"
      ]
     },
     "execution_count": 220,
     "metadata": {},
     "output_type": "execute_result"
    }
   ],
   "source": [
    "ratio = round(agg_data_news['pos']/agg_data_news['neg'],2)\n",
    "agg_data_news.insert(loc=6,column='ratio',value = ratio)\n",
    "agg_data_news.head()"
   ]
  },
  {
   "cell_type": "code",
   "execution_count": 245,
   "metadata": {
    "ExecuteTime": {
     "end_time": "2020-04-02T03:30:10.344430Z",
     "start_time": "2020-04-02T03:30:08.693782Z"
    },
    "scrolled": false
   },
   "outputs": [
    {
     "data": {
      "image/png": "[encoded data removed]",
      "text/plain": [
       "<Figure size 780x370 with 1 Axes>"
      ]
     },
     "metadata": {},
     "output_type": "display_data"
    },
    {
     "data": {
      "text/plain": [
       "<ggplot: (-9223363290943700280)>"
      ]
     },
     "execution_count": 245,
     "metadata": {},
     "output_type": "execute_result"
    }
   ],
   "source": [
    "(ggplot(agg_data_news)\n",
    " + geom_line(aes(x = 'day',\n",
    "                 y = 'ratio',\n",
    "                 color = 'news',\n",
    "                 group = 'news'),\n",
    "             size = 1.5)\n",
    " + geom_point(aes(x = 'day',\n",
    "                  y = 'ratio'),\n",
    "              size = 2.7)\n",
    " + geom_text(aes(x = 'day',\n",
    "                 y = 'ratio',\n",
    "                 label = 'ratio'),\n",
    "            nudge_y = 0.08,\n",
    "            nudge_x = -0.2)\n",
    " + ylab('Ratio')\n",
    " + xlab('Day')\n",
    " + xlim(['Monday','Tuesday','Wednesday','Thursday','Friday','Saturday','Sunday'])\n",
    " + theme_bw()\n",
    " + theme(legend_title = element_blank(),\n",
    "         legend_position = (0.2,0.7),\n",
    "         legend_direction = 'vertical')\n",
    ")"
   ]
  }
 ],
 "metadata": {
  "kernelspec": {
   "display_name": "Python 3",
   "language": "python",
   "name": "python3"
  },
  "language_info": {
   "codemirror_mode": {
    "name": "ipython",
    "version": 3
   },
   "file_extension": ".py",
   "mimetype": "text/x-python",
   "name": "python",
   "nbconvert_exporter": "python",
   "pygments_lexer": "ipython3",
   "version": "3.6.9"
  }
 },
 "nbformat": 4,
 "nbformat_minor": 2
}
